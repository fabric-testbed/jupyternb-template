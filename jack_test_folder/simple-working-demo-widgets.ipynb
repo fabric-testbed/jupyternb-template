{
 "cells": [
  {
   "cell_type": "markdown",
   "id": "dd5e69a4-81e4-4dbb-93b4-141713c1ea11",
   "metadata": {},
   "source": [
    "# Jupyter/API Demo with Widgets"
   ]
  },
  {
   "cell_type": "markdown",
   "id": "473d6386-a05b-49ff-b6e1-150647b8e088",
   "metadata": {},
   "source": [
    "## Save the Initial Refresh Token"
   ]
  },
  {
   "cell_type": "code",
   "execution_count": 2,
   "id": "56de5d69-0c2a-4f46-aba6-978a6c2c1ad5",
   "metadata": {},
   "outputs": [
    {
     "name": "stdout",
     "output_type": "stream",
     "text": [
      "no stored variable or alias fabric_refresh_token\n",
      "Stored 'fabric_refresh_token' (str)\n",
      "Refresh Token: NB2HI4DTHIXS6Y3JNRXWO33OFZXXEZZPN5QXK5DIGIXTINRTGE3GENRYGY4TSZLCMZRWKMJVGI3TQMTDGYZGINTDG4ZTAMB7OR4XAZJ5OJSWM4TFONUFI33LMVXCM5DTHUYTMMRUGI4DOOBUGU3TSNBGOZSXE43JN5XD25RSFYYCM3DJMZSXI2LNMU6TQNRUGAYDAMBQ\n"
     ]
    }
   ],
   "source": [
    "import os\n",
    "#Retrieve or set the refresh token (exprires 24 hours after login)\n",
    "fabric_refresh_token=None\n",
    "%store -r fabric_refresh_token\n",
    "if fabric_refresh_token is None:\n",
    "    fabric_refresh_token=os.environ['CILOGON_REFRESH_TOKEN']\n",
    "    %store fabric_refresh_token\n",
    "\n",
    "print(\"Refresh Token: {}\".format(fabric_refresh_token))"
   ]
  },
  {
   "cell_type": "markdown",
   "id": "8bc40c43-3643-43b7-9a37-a6b8da9d9158",
   "metadata": {},
   "source": [
    "## Create Slice Manager"
   ]
  },
  {
   "cell_type": "code",
   "execution_count": 3,
   "id": "4805cf1f-0611-4d17-91d9-27548839bc64",
   "metadata": {},
   "outputs": [
    {
     "name": "stdout",
     "output_type": "stream",
     "text": [
      "CM Host: beta-2.fabric-testbed.net Orchestrator Host: beta-7.fabric-testbed.net\n"
     ]
    }
   ],
   "source": [
    "import json\n",
    "\n",
    "from fabrictestbed.slice_manager import SliceManager, Status\n",
    "\n",
    "credmgr_host = os.environ['FABRIC_CREDMGR_HOST']\n",
    "orchestrator_host = os.environ['FABRIC_ORCHESTRATOR_HOST']\n",
    "print(f\"CM Host: {credmgr_host} Orchestrator Host: {orchestrator_host}\")\n",
    "\n",
    "# Create Slice Manager\n",
    "slice_manager = SliceManager(oc_host=orchestrator_host, cm_host=credmgr_host, \n",
    "                             refresh_token=fabric_refresh_token, project_name='all', scope='all')\n",
    "\n",
    "#Cofigure SSH Key\n",
    "ssh_key = None\n",
    "with open (\"/home/fabric/.ssh/id_rsa.pub\", \"r\") as myfile:\n",
    "    ssh_key=myfile.read().strip()"
   ]
  },
  {
   "cell_type": "markdown",
   "id": "83273175-541a-4488-8b82-b5778471f2cf",
   "metadata": {},
   "source": [
    "## Refresh the ID Token"
   ]
  },
  {
   "cell_type": "code",
   "execution_count": 4,
   "id": "f48274c3-bf48-4747-8fd0-1bd3032ded34",
   "metadata": {},
   "outputs": [
    {
     "name": "stdout",
     "output_type": "stream",
     "text": [
      "\n",
      "New Refresh Token: NB2HI4DTHIXS6Y3JNRXWO33OFZXXEZZPN5QXK5DIGIXTENRRMRRGMYJSMJSDSMZYGE2TIZJYMZRWKYRVGZSTSOBTMY3TGMB7OR4XAZJ5OJSWM4TFONUFI33LMVXCM5DTHUYTMMRUGMYDANZTHEYDIOBGOZSXE43JN5XD25RSFYYCM3DJMZSXI2LNMU6TQNRUGAYDAMBQ\n",
      "\n",
      "Stored new Refresh Token\n",
      "Stored 'fabric_refresh_token' (str)\n",
      "\n",
      "\n"
     ]
    }
   ],
   "source": [
    "try:\n",
    "    id_token, refresh_token = slice_manager.refresh_tokens()\n",
    "except Exception as e:\n",
    "    print(\"Exception occurred while getting tokens:{}\".format(e))\n",
    "\n",
    "fabric_refresh_token=slice_manager.get_refresh_token()\n",
    "print()\n",
    "print(\"New Refresh Token: {}\".format(fabric_refresh_token))\n",
    "print()\n",
    "print(\"Stored new Refresh Token\")\n",
    "%store fabric_refresh_token\n",
    "print()\n",
    "print()\n",
    "    "
   ]
  },
  {
   "cell_type": "code",
   "execution_count": 8,
   "id": "2a6316ab-0990-48c4-9179-40c0114ee85f",
   "metadata": {},
   "outputs": [],
   "source": [
    "## Build Output Viewer"
   ]
  },
  {
   "cell_type": "code",
   "execution_count": 20,
   "id": "a259e86a-c265-494a-aa50-b22c7ca7803c",
   "metadata": {},
   "outputs": [
    {
     "data": {
      "application/vnd.jupyter.widget-view+json": {
       "model_id": "c50f892fc8f44f38981b2389d76a9081",
       "version_major": 2,
       "version_minor": 0
      },
      "text/plain": [
       "Output(layout=Layout(border='2px solid blue'), outputs=({'output_type': 'stream', 'name': 'stdout', 'text': 'P…"
      ]
     },
     "metadata": {},
     "output_type": "display_data"
    }
   ],
   "source": [
    "import ipywidgets as widgets  # imports widgets library\n",
    "from IPython.display import display # imports library to display widgets\n",
    "\n",
    "viewer = widgets.Output(layout={'border': '2px solid blue'})\n",
    "viewer.append_stdout('PROJECT VIEWER')\n",
    "viewer"
   ]
  },
  {
   "cell_type": "markdown",
   "id": "2e90ca9f-8a6b-4d0b-b21e-c8c79035974b",
   "metadata": {},
   "source": [
    "## Query Resource Availability \n",
    "\n",
    "### Get Advertisement from Proxy"
   ]
  },
  {
   "cell_type": "code",
   "execution_count": 21,
   "id": "9787a7e0-70e5-441f-9cbf-d1b26e9ddedd",
   "metadata": {},
   "outputs": [],
   "source": [
    "def advertise_topology(self):\n",
    "    status, advertised_topology = slice_manager.resources()\n",
    "    with viewer:\n",
    "        print(f\"Status: {status}\")\n",
    "        print(f\"Toplogy: {advertised_topology}\")\n",
    "    \n",
    "top_button = widgets.Button(\n",
    "    description='Get Advertised topology',\n",
    "    disabled=False,\n",
    "    tooltip='Click to view availible topology',\n",
    "    icon='server'\n",
    ")\n",
    "\n",
    "top_button.on_click(advertise_topology)\n",
    "with viewer:\n",
    "    display(top_button)"
   ]
  },
  {
   "cell_type": "code",
   "execution_count": null,
   "id": "e24112f4-89c1-49b8-aa79-1499accdd688",
   "metadata": {},
   "outputs": [],
   "source": []
  },
  {
   "cell_type": "code",
   "execution_count": null,
   "id": "932dde05-9c10-4b3a-99b8-7a8e3b5e1491",
   "metadata": {},
   "outputs": [],
   "source": []
  }
 ],
 "metadata": {
  "kernelspec": {
   "display_name": "Python 3",
   "language": "python",
   "name": "python3"
  },
  "language_info": {
   "codemirror_mode": {
    "name": "ipython",
    "version": 3
   },
   "file_extension": ".py",
   "mimetype": "text/x-python",
   "name": "python",
   "nbconvert_exporter": "python",
   "pygments_lexer": "ipython3",
   "version": "3.9.2"
  }
 },
 "nbformat": 4,
 "nbformat_minor": 5
}
