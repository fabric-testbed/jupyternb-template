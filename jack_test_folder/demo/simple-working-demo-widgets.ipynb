{
 "cells": [
  {
   "cell_type": "markdown",
   "id": "dd5e69a4-81e4-4dbb-93b4-141713c1ea11",
   "metadata": {},
   "source": [
    "# Jupyter/API Demo with Widgets"
   ]
  },
  {
   "cell_type": "markdown",
   "id": "67348743-9235-46a8-a33a-ab8a9f182a19",
   "metadata": {},
   "source": [
    "## Token Madness"
   ]
  },
  {
   "cell_type": "code",
   "execution_count": 1,
   "id": "7040ee59-f531-421b-9846-2dd9ae2d540f",
   "metadata": {},
   "outputs": [
    {
     "name": "stdout",
     "output_type": "stream",
     "text": [
      "no stored variable or alias fabric_refresh_token\n",
      "Stored 'fabric_refresh_token' (str)\n",
      "Refresh Token: NB2HI4DTHIXS6Y3JNRXWO33OFZXXEZZPN5QXK5DIGIXTQMTGGA4TCZBQGAYWKZBWGQ4WKMZVG42TOZRTMEYDGZTEHBTGMP3UPFYGKPLSMVTHEZLTNBKG623FNYTHI4Z5GE3DENJUGEYDOMJUGMYTGJTWMVZHG2LPNY6XMMROGATGY2LGMV2GS3LFHU4DMNBQGAYDAMA\n"
     ]
    }
   ],
   "source": [
    "import os\n",
    "#Retrieve or set the refresh token (exprires 24 hours after login)\n",
    "fabric_refresh_token=None\n",
    "%store -r fabric_refresh_token\n",
    "if fabric_refresh_token is None:\n",
    "    fabric_refresh_token=os.environ['CILOGON_REFRESH_TOKEN']\n",
    "    %store fabric_refresh_token\n",
    "\n",
    "print(\"Refresh Token: {}\".format(fabric_refresh_token))"
   ]
  },
  {
   "cell_type": "code",
   "execution_count": 12,
   "id": "3fe711e4-2e07-4a54-b600-c6aff926c369",
   "metadata": {},
   "outputs": [
    {
     "name": "stdout",
     "output_type": "stream",
     "text": [
      "CM Host: beta-2.fabric-testbed.net Orchestrator Host: beta-7.fabric-testbed.net\n"
     ]
    }
   ],
   "source": [
    "import os\n",
    "import json\n",
    "\n",
    "from fabrictestbed.slice_manager import SliceManager, Status\n",
    "\n",
    "credmgr_host = os.environ['FABRIC_CREDMGR_HOST']\n",
    "orchestrator_host = os.environ['FABRIC_ORCHESTRATOR_HOST']\n",
    "print(f\"CM Host: {credmgr_host} Orchestrator Host: {orchestrator_host}\")\n",
    "\n",
    "# Create Slice Manager\n",
    "slice_manager = SliceManager(oc_host=orchestrator_host, cm_host=credmgr_host, \n",
    "                             refresh_token=fabric_refresh_token, project_name='all', scope='all')\n",
    "\n",
    "#Cofigure SSH Key\n",
    "ssh_key = None\n",
    "with open (\"/home/fabric/.ssh/id_rsa.pub\", \"r\") as myfile:\n",
    "    ssh_key=myfile.read().strip()"
   ]
  },
  {
   "cell_type": "code",
   "execution_count": 19,
   "id": "f75cb618-5652-42cb-beca-ff078daf8025",
   "metadata": {},
   "outputs": [
    {
     "name": "stdout",
     "output_type": "stream",
     "text": [
      "\n",
      "New Refresh Token: NB2HI4DTHIXS6Y3JNRXWO33OFZXXEZZPN5QXK5DIGIXTIMZXMIZTMM3CGA3DGMRSGIZTGYJTMY3TQOJZGIYWEY3GMZTDMYR7OR4XAZJ5OJSWM4TFONUFI33LMVXCM5DTHUYTMMRVGQYTGMZZGU4TQOBGOZSXE43JN5XD25RSFYYCM3DJMZSXI2LNMU6TQNRUGAYDAMBQ\n",
      "\n",
      "Stored new Refresh Token\n",
      "Stored 'fabric_refresh_token' (str)\n",
      "\n",
      "\n"
     ]
    }
   ],
   "source": [
    "try:\n",
    "    id_token, refresh_token = slice_manager.refresh_tokens()\n",
    "except Exception as e:\n",
    "    print(\"Exception occurred while getting tokens:{}\".format(e))\n",
    "\n",
    "fabric_refresh_token=slice_manager.get_refresh_token()\n",
    "print()\n",
    "print(\"New Refresh Token: {}\".format(fabric_refresh_token))\n",
    "print()\n",
    "print(\"Stored new Refresh Token\")\n",
    "%store fabric_refresh_token\n",
    "print()\n",
    "print()"
   ]
  },
  {
   "cell_type": "markdown",
   "id": "0015dc49-0ac9-41f8-bb9b-2be65decbc7b",
   "metadata": {},
   "source": [
    "## Build Output Viewer"
   ]
  },
  {
   "cell_type": "code",
   "execution_count": 16,
   "id": "dcb6c498-b0e3-43d0-b5cc-46e2f8ed7366",
   "metadata": {},
   "outputs": [
    {
     "data": {
      "application/vnd.jupyter.widget-view+json": {
       "model_id": "3cdc156512044bd0a8fda837c4141909",
       "version_major": 2,
       "version_minor": 0
      },
      "text/plain": [
       "Output(layout=Layout(border='2px solid blue'), outputs=({'output_type': 'stream', 'name': 'stdout', 'text': 'P…"
      ]
     },
     "metadata": {},
     "output_type": "display_data"
    }
   ],
   "source": [
    "import os\n",
    "import ipywidgets as widgets  # imports widgets library\n",
    "from IPython.display import display # imports library to display widgets\n",
    "\n",
    "viewer = widgets.Output(layout={'border': '2px solid blue'})\n",
    "viewer.append_stdout('PROJECT VIEWER')\n",
    "viewer"
   ]
  },
  {
   "cell_type": "markdown",
   "id": "4c3805da-8e01-4a99-8201-d5b9983a6a81",
   "metadata": {},
   "source": [
    "### run twice to clear output (no idea why it needs to be run twice)"
   ]
  },
  {
   "cell_type": "code",
   "execution_count": 29,
   "id": "ef3bf800-c4d6-4450-83df-9b4ca13bd6ba",
   "metadata": {},
   "outputs": [],
   "source": [
    "viewer.clear_output()\n",
    "viewer.append_stdout('PROJECT VIEWER')"
   ]
  },
  {
   "cell_type": "markdown",
   "id": "b2c5b22a-eea8-4c03-bccf-d1df267b10ae",
   "metadata": {},
   "source": [
    "### SET UP TOKENS/SLICE MANAGER\n",
    "\n",
    "(broken....see 'token madness' above)"
   ]
  },
  {
   "cell_type": "code",
   "execution_count": 14,
   "id": "b213b357-a7c6-4f7a-84b1-3e8d35f854e5",
   "metadata": {},
   "outputs": [],
   "source": [
    "%run token_functions.ipynb"
   ]
  },
  {
   "cell_type": "markdown",
   "id": "2815a215-3f74-43a5-bf67-9f3622cbad6c",
   "metadata": {},
   "source": [
    "### SET UP FUNCTIONS/BUTTONS"
   ]
  },
  {
   "cell_type": "code",
   "execution_count": 34,
   "id": "228e96d3-011e-460e-8b00-84a3addb6430",
   "metadata": {},
   "outputs": [
    {
     "ename": "SyntaxError",
     "evalue": "invalid syntax (<ipython-input-34-6704e03ae3dc>, line 202)",
     "output_type": "error",
     "traceback": [
      "\u001b[0;36m  File \u001b[0;32m\"<ipython-input-34-6704e03ae3dc>\"\u001b[0;36m, line \u001b[0;32m202\u001b[0m\n\u001b[0;31m    def build_slice_request(self):\u001b[0m\n\u001b[0m    ^\u001b[0m\n\u001b[0;31mSyntaxError\u001b[0m\u001b[0;31m:\u001b[0m invalid syntax\n"
     ]
    },
    {
     "ename": "SyntaxError",
     "evalue": "invalid syntax (<ipython-input-34-6704e03ae3dc>, line 202)",
     "output_type": "error",
     "traceback": [
      "Traceback \u001b[0;36m(most recent call last)\u001b[0m:\n",
      "  File \u001b[1;32m\"/opt/conda/lib/python3.9/site-packages/IPython/core/interactiveshell.py\"\u001b[0m, line \u001b[1;32m3441\u001b[0m, in \u001b[1;35mrun_code\u001b[0m\n    exec(code_obj, self.user_global_ns, self.user_ns)\n",
      "  File \u001b[1;32m\"<ipython-input-34-66f432f1a224>\"\u001b[0m, line \u001b[1;32m2\u001b[0m, in \u001b[1;35m<module>\u001b[0m\n    get_ipython().run_line_magic('run', 'viewer_functions.ipynb  # pass something to this?')\n",
      "  File \u001b[1;32m\"/opt/conda/lib/python3.9/site-packages/IPython/core/interactiveshell.py\"\u001b[0m, line \u001b[1;32m2348\u001b[0m, in \u001b[1;35mrun_line_magic\u001b[0m\n    result = fn(*args, **kwargs)\n",
      "  File \u001b[1;32m\"<decorator-gen-52>\"\u001b[0m, line \u001b[1;32m2\u001b[0m, in \u001b[1;35mrun\u001b[0m\n",
      "  File \u001b[1;32m\"/opt/conda/lib/python3.9/site-packages/IPython/core/magic.py\"\u001b[0m, line \u001b[1;32m187\u001b[0m, in \u001b[1;35m<lambda>\u001b[0m\n    call = lambda f, *a, **k: f(*a, **k)\n",
      "  File \u001b[1;32m\"/opt/conda/lib/python3.9/site-packages/IPython/core/magics/execution.py\"\u001b[0m, line \u001b[1;32m724\u001b[0m, in \u001b[1;35mrun\u001b[0m\n    self.shell.safe_execfile_ipy(filename, raise_exceptions=True)\n",
      "  File \u001b[1;32m\"/opt/conda/lib/python3.9/site-packages/IPython/core/interactiveshell.py\"\u001b[0m, line \u001b[1;32m2835\u001b[0m, in \u001b[1;35msafe_execfile_ipy\u001b[0m\n    result.raise_error()\n",
      "  File \u001b[1;32m\"/opt/conda/lib/python3.9/site-packages/IPython/core/interactiveshell.py\"\u001b[0m, line \u001b[1;32m329\u001b[0m, in \u001b[1;35mraise_error\u001b[0m\n    raise self.error_before_exec\n",
      "  File \u001b[1;32m\"/opt/conda/lib/python3.9/site-packages/IPython/core/interactiveshell.py\"\u001b[0m, line \u001b[1;32m3140\u001b[0m, in \u001b[1;35mrun_cell_async\u001b[0m\n    code_ast = compiler.ast_parse(cell, filename=cell_name)\n",
      "\u001b[0;36m  File \u001b[0;32m\"/opt/conda/lib/python3.9/site-packages/IPython/core/compilerop.py\"\u001b[0;36m, line \u001b[0;32m101\u001b[0;36m, in \u001b[0;35mast_parse\u001b[0;36m\u001b[0m\n\u001b[0;31m    return compile(source, filename, symbol, self.flags | PyCF_ONLY_AST, 1)\u001b[0m\n",
      "\u001b[0;36m  File \u001b[0;32m\"<ipython-input-34-6704e03ae3dc>\"\u001b[0;36m, line \u001b[0;32m202\u001b[0m\n\u001b[0;31m    def build_slice_request(self):\u001b[0m\n\u001b[0m    ^\u001b[0m\n\u001b[0;31mSyntaxError\u001b[0m\u001b[0;31m:\u001b[0m invalid syntax\n"
     ]
    }
   ],
   "source": [
    "# My_var = Blah # test this. See if it's accessable\n",
    "%run viewer_functions.ipynb  # pass something to this?"
   ]
  },
  {
   "cell_type": "code",
   "execution_count": null,
   "id": "5dfd500f-f4a3-4825-85f8-927b6ed48365",
   "metadata": {},
   "outputs": [],
   "source": []
  }
 ],
 "metadata": {
  "kernelspec": {
   "display_name": "Python 3",
   "language": "python",
   "name": "python3"
  },
  "language_info": {
   "codemirror_mode": {
    "name": "ipython",
    "version": 3
   },
   "file_extension": ".py",
   "mimetype": "text/x-python",
   "name": "python",
   "nbconvert_exporter": "python",
   "pygments_lexer": "ipython3",
   "version": "3.9.2"
  }
 },
 "nbformat": 4,
 "nbformat_minor": 5
}
