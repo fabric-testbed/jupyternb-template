{
 "cells": [
  {
   "cell_type": "markdown",
   "id": "0ccfef56-cf94-45c3-929c-6b25ebd908b5",
   "metadata": {},
   "source": [
    "# Jupyter/API Demo with Widgets"
   ]
  },
  {
   "cell_type": "markdown",
   "id": "10bb4201-599f-47a1-9482-d5d9f494a463",
   "metadata": {},
   "source": [
    "## Save the Initial Refresh Token"
   ]
  },
  {
   "cell_type": "code",
   "execution_count": null,
   "id": "4b58dbc5-e804-49f7-a070-467d426438a6",
   "metadata": {},
   "outputs": [],
   "source": [
    "import os\n",
    "#Retrieve or set the refresh token (exprires 24 hours after login)\n",
    "fabric_refresh_token=None\n",
    "%store -r fabric_refresh_token\n",
    "if fabric_refresh_token is None:\n",
    "    fabric_refresh_token=os.environ['CILOGON_REFRESH_TOKEN']\n",
    "    %store fabric_refresh_token\n",
    "\n",
    "print(\"Refresh Token: {}\".format(fabric_refresh_token))"
   ]
  },
  {
   "cell_type": "markdown",
   "id": "2f9ab36c-1257-4491-a0d6-2e48ed327c6c",
   "metadata": {},
   "source": [
    "## Create Slice Manager"
   ]
  },
  {
   "cell_type": "code",
   "execution_count": null,
   "id": "f29210a3-b74b-49f0-8d3b-157a922a53bf",
   "metadata": {},
   "outputs": [],
   "source": [
    "import json\n",
    "\n",
    "from fabrictestbed.slice_manager import SliceManager, Status\n",
    "\n",
    "credmgr_host = os.environ['FABRIC_CREDMGR_HOST']\n",
    "orchestrator_host = os.environ['FABRIC_ORCHESTRATOR_HOST']\n",
    "print(f\"CM Host: {credmgr_host} Orchestrator Host: {orchestrator_host}\")\n",
    "\n",
    "# Create Slice Manager\n",
    "slice_manager = SliceManager(oc_host=orchestrator_host, cm_host=credmgr_host, \n",
    "                             refresh_token=fabric_refresh_token, project_name='all', scope='all')\n",
    "\n",
    "#Cofigure SSH Key\n",
    "ssh_key = None\n",
    "with open (\"/home/fabric/.ssh/id_rsa.pub\", \"r\") as myfile:\n",
    "    ssh_key=myfile.read().strip()"
   ]
  },
  {
   "cell_type": "markdown",
   "id": "db8df122-b625-4066-9f49-8f631d0f98f5",
   "metadata": {},
   "source": [
    "## Refresh the ID Token"
   ]
  },
  {
   "cell_type": "code",
   "execution_count": null,
   "id": "441e9822-06fd-4c4d-9cb6-4d0dd3c73dc2",
   "metadata": {},
   "outputs": [],
   "source": [
    "try:\n",
    "    id_token, refresh_token = slice_manager.refresh_tokens()\n",
    "except Exception as e:\n",
    "    print(\"Exception occurred while getting tokens:{}\".format(e))\n",
    "\n",
    "fabric_refresh_token=slice_manager.get_refresh_token()\n",
    "print()\n",
    "print(\"New Refresh Token: {}\".format(fabric_refresh_token))\n",
    "print()\n",
    "print(\"Stored new Refresh Token\")\n",
    "%store fabric_refresh_token\n",
    "print()\n",
    "print()"
   ]
  },
  {
   "cell_type": "markdown",
   "id": "cbeb0d6c-d92f-4ba0-a3f2-b32bea5905f4",
   "metadata": {},
   "source": [
    "## Build Output Viewer"
   ]
  },
  {
   "cell_type": "code",
   "execution_count": null,
   "id": "0744a2ae-33ae-48f4-b832-e937e773a4fd",
   "metadata": {},
   "outputs": [],
   "source": [
    "import ipywidgets as widgets  # imports widgets library\n",
    "from IPython.display import display # imports library to display widgets\n",
    "\n",
    "viewer = widgets.Output(layout={'border': '2px solid blue'})\n",
    "viewer.append_stdout('PROJECT VIEWER')\n",
    "viewer"
   ]
  }
 ],
 "metadata": {
  "kernelspec": {
   "display_name": "Python 3",
   "language": "python",
   "name": "python3"
  },
  "language_info": {
   "codemirror_mode": {
    "name": "ipython",
    "version": 3
   },
   "file_extension": ".py",
   "mimetype": "text/x-python",
   "name": "python",
   "nbconvert_exporter": "python",
   "pygments_lexer": "ipython3",
   "version": "3.9.2"
  }
 },
 "nbformat": 4,
 "nbformat_minor": 5
}
