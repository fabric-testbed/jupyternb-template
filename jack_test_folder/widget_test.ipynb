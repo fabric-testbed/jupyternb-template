{
 "cells": [
  {
   "cell_type": "markdown",
   "id": "fbc1e85d-32b4-4ed4-9990-041519bc8bb7",
   "metadata": {},
   "source": [
    "# Widget test"
   ]
  },
  {
   "cell_type": "markdown",
   "id": "90dfbfac-b71c-427c-9e79-04950433400e",
   "metadata": {},
   "source": [
    "#### Start with same token configuration as usual"
   ]
  },
  {
   "cell_type": "code",
   "execution_count": 1,
   "id": "d6f1a547-358e-48a7-a8eb-51dfe73d4124",
   "metadata": {},
   "outputs": [
    {
     "name": "stdout",
     "output_type": "stream",
     "text": [
      "no stored variable or alias fabric_refresh_token\n",
      "Stored 'fabric_refresh_token' (str)\n",
      "Refresh Token: NB2HI4DTHIXS6Y3JNRXWO33OFZXXEZZPN5QXK5DIGIXTGNRZGNRGKZBUMQZTEMBUMNRDENBUMFRTAMJVHFTGEYLCGJQTKNJ7OR4XAZJ5OJSWM4TFONUFI33LMVXCM5DTHUYTMMRUGE4TAOJYGE2TKNRGOZSXE43JN5XD25RSFYYCM3DJMZSXI2LNMU6TQNRUGAYDAMBQ\n",
      "Refresh Token Issued at 2021-06-20 12:10:42.197086\n",
      "NB2HI4DTHIXS6Y3JNRXWO33OFZXXEZZPN5QXK5DIGIXTGNRZGNRGKZBUMQZTEMBUMNRDENBUMFRTAMJVHFTGEYLCGJQTKNJ7OR4XAZJ5OJSWM4TFONUFI33LMVXCM5DTHUYTMMRUGE4TAOJYGE2TKNRGOZSXE43JN5XD25RSFYYCM3DJMZSXI2LNMU6TQNRUGAYDAMBQ\n"
     ]
    }
   ],
   "source": [
    "import os\n",
    "from datetime import datetime\n",
    "\n",
    "fabric_refresh_token = None\n",
    "%store -r fabric_refresh_token\n",
    "if fabric_refresh_token is None:\n",
    "    fabric_refresh_token=os.environ['CILOGON_REFRESH_TOKEN']\n",
    "    %store fabric_refresh_token\n",
    "    \n",
    "print(\"Refresh Token: {}\".format(fabric_refresh_token))\n",
    "now = datetime.now()\n",
    "print(\"Refresh Token Issued at {}\".format(now))\n",
    "print(os.environ['CILOGON_REFRESH_TOKEN'])"
   ]
  },
  {
   "cell_type": "code",
   "execution_count": 2,
   "id": "66771104-0cc8-4911-bf91-80d40fe6b1fd",
   "metadata": {},
   "outputs": [
    {
     "name": "stdout",
     "output_type": "stream",
     "text": [
      "CM Host: beta-2.fabric-testbed.net Orchestrator Host: beta-7.fabric-testbed.net\n"
     ]
    }
   ],
   "source": [
    "import os\n",
    "import json\n",
    "\n",
    "from fabrictestbed.slice_manager import SliceManager, Status\n",
    "\n",
    "credmgr_host = os.environ['FABRIC_CREDMGR_HOST']\n",
    "orchestrator_host = os.environ['FABRIC_ORCHESTRATOR_HOST']\n",
    "print(f\"CM Host: {credmgr_host} Orchestrator Host: {orchestrator_host}\")\n",
    "      \n",
    "# Create Slice Manager\n",
    "slice_manager = SliceManager(oc_host=orchestrator_host, cm_host=credmgr_host, \n",
    "                             refresh_token=fabric_refresh_token, project_name='all', scope='all')\n",
    "\n",
    "#Configure SSH Key\n",
    "ssh_key = None\n",
    "with open (\"/home/fabric/.ssh/id_rsa.pub\", \"r\") as myfile:\n",
    "    ssh_key=myfile.read().strip()\n",
    "    \n",
    "#print(ssh_key)"
   ]
  },
  {
   "cell_type": "code",
   "execution_count": 3,
   "id": "9103683c-b8a8-4b74-84d6-b818106f5a6e",
   "metadata": {},
   "outputs": [
    {
     "name": "stdout",
     "output_type": "stream",
     "text": [
      "\n",
      "New Refresh Token: NB2HI4DTHIXS6Y3JNRXWO33OFZXXEZZPN5QXK5DIGIXTKZRZGFTDCOLBMZRDKMLGGAZTIODBGNQTGZRUMRSWENBSGMYGKZJ7OR4XAZJ5OJSWM4TFONUFI33LMVXCM5DTHUYTMMRUGE4TCMBUHE2DQNBGOZSXE43JN5XD25RSFYYCM3DJMZSXI2LNMU6TQNRUGAYDAMBQ\n",
      "New ID Token: eyJ0eXAiOiJKV1QiLCJhbGciOiJSUzI1NiIsImtpZCI6ImI0MTUxNjcyMTExOTFlMmUwNWIyMmI1NGIxZDNiNzY2N2U3NjRhNzQ3NzIyMTg1ZTcyMmU1MmUxNDZmZTQzYWEifQ.eyJlbWFpbCI6ImxvY2tlakBidS5lZHUiLCJjZXJ0X3N1YmplY3RfZG4iOiIvREM9b3JnL0RDPWNpbG9nb24vQz1VUy9PPUJvc3RvbiBVbml2ZXJzaXR5L0NOPUpvc2VwaCBSeWFuIExvY2tlIEI0NjEzMTg5NyIsImlkcCI6Imh0dHBzOi8vc2hpYi5idS5lZHUvaWRwL3NoaWJib2xldGgiLCJpZHBfbmFtZSI6IkJvc3RvbiBVbml2ZXJzaXR5IiwiZXBwbiI6ImxvY2tlakBidS5lZHUiLCJlcHRpZCI6Imh0dHBzOi8vc2hpYi5idS5lZHUvaWRwL3NoaWJib2xldGghaHR0cHM6Ly9jaWxvZ29uLm9yZy9zaGliYm9sZXRoITh0QSszdTRNYitoMGNMbEV0a1JIVXNUOHBYQT0iLCJhZmZpbGlhdGlvbiI6InN0dWRlbnRAYnUuZWR1O21lbWJlckBidS5lZHUiLCJuYW1lIjoiSm9zZXBoIFJ5YW4gTG9ja2UiLCJhY3IiOiJodHRwczovL3NoaWIuYnUuZWR1L3NpbmdsZSIsImVudGl0bGVtZW50IjoiaHR0cDovL2lhbS5idS5lZHUvcmVnL2NvbGxlZ2UvcGRwO2h0dHA6Ly9pYW0uYnUuZWR1L3JlZy9jb2xsZWdlL2VuZztodHRwOi8vaWFtLmJ1LmVkdS9pZGluZm8vNTAiLCJpc3MiOiJodHRwczovL2NpbG9nb24ub3JnIiwic3ViIjoiaHR0cDovL2NpbG9nb24ub3JnL3NlcnZlckIvdXNlcnMvNDYxMzE4OTciLCJhdWQiOiJjaWxvZ29uOi9jbGllbnRfaWQvNGQ3ZWE1ODNkZDA2MTljMjkwZWRhN2FiNjZmMmNlZmEiLCJ0b2tlbl9pZCI6Imh0dHBzOi8vY2lsb2dvbi5vcmcvb2F1dGgyL2lkVG9rZW4vMTNjNjQ5ZjVlMzA0OGQxMzNlMjY3ZjhjNjA0NmNmODUvMTYyNDE5MDk4MTAwNSIsImF1dGhfdGltZSI6MTYyNDE5MDk4MCwiZXhwIjoxNjI0MTk0NjUwLCJpYXQiOjE2MjQxOTEwNTAsInByb2plY3RzIjp7IkZBQlJJQyBTdHVkZW50cyI6W119LCJyb2xlcyI6WyJmYWJyaWMtYWN0aXZlLXVzZXJzIiwiYWRlM2E3ZGQtOTQ4OC00MGY5LThmYzYtOTY3ZGUwZWVhNzM1LXBtIl0sInNjb3BlIjoiYWxsIn0.aYQX7V_U9yzEbRzyRMtUCxb2d_IUuI_VxydC73Ui1loLM6I5CL4zoYNNpOai-YIJKB7UEdEu_QkwcU-8C3ahovEwJMxpo_yh_7_ZLXI7LmPB2i_vWGfBrHctErI3Wu0pTXSXtE_4HMatEc3-4XT64m3tR9k4OVwsWw9tR_r5ND32f9tjN-N8LaifhrjkVbAe77HnbyVg5GAjyUDoPRIvj01A-qsA3Zw_GLOXJmfabpMWIOQ7qc5pvUav1fqR8W6ZOxUYLFn2cG4vDKg2aBjMaB5DKptIM81U6T3WfRH1PdFbffvYh7EMKppRwrrI6860411rHTByyK6wno-HB_0cr8Sc7195LRm7kjz2Wp5bHUxy5kRvLFQ55a72-fE1L-erGBHKWiZw4fGdkylzDtVPGQ9yub_XHk_UzTPiMmYcgqTpx0D9A_UCq8ieR1B7Xh9k1tzi96ZTbXNJtN1KG4slinPJlIm9HnXJblRom1D5irD6JcsimTwrBu_hW8J_ukQJFLdZMeDgWLoehD6zUVCkbEPBBhX9lpQhp-3s6tw5-uu8J6Q4qtI9ZyeoHkcZ3414XnqsZhrTLQF1TGpYG1nHJrgwYsEOkh_3tW6ukbFCRXBigeF6D4XSriP6OmVAS9UVEg9NkeGdnlvroClNBwDVOYaj8ST3CCJYXwFbaLmMpT4\n",
      "\n",
      "Stored new Refresh Token\n",
      "Stored 'fabric_refresh_token' (str)\n",
      "\n"
     ]
    }
   ],
   "source": [
    "try:\n",
    "    id_token, refresh_token = slice_manager.refresh_tokens()\n",
    "except Exception as e:\n",
    "    print(\"Exception occured while getting tokens:{}\".format(e))\n",
    "    \n",
    "fabric_refresh_token=slice_manager.get_refresh_token()\n",
    "fabric_id_token=slice_manager.get_id_token()\n",
    "\n",
    "print()\n",
    "print(\"New Refresh Token: {}\".format(fabric_refresh_token))\n",
    "print(\"New ID Token: {}\".format(fabric_id_token))\n",
    "print()\n",
    "print(\"Stored new Refresh Token\")\n",
    "%store fabric_refresh_token\n",
    "print()\n",
    "now = datetime.now()\n",
    "print(\"Refresh Token Issued at {}\".format(now))\n"
   ]
  },
  {
   "cell_type": "markdown",
   "id": "ca0c188b-0017-4c5c-a83c-015273487282",
   "metadata": {},
   "source": [
    "#### Run the next cell to instal apropriate packages for widgets. "
   ]
  },
  {
   "cell_type": "code",
   "execution_count": 19,
   "id": "6e4d7e98-e951-4ae9-b13d-0cafc85f6669",
   "metadata": {},
   "outputs": [
    {
     "name": "stdout",
     "output_type": "stream",
     "text": [
      "Collecting package metadata (current_repodata.json): done\n",
      "Solving environment: done\n",
      "\n",
      "# All requested packages already installed.\n",
      "\n",
      "\n",
      "Note: you may need to restart the kernel to use updated packages.\n"
     ]
    }
   ],
   "source": [
    "conda install -c conda-forge ipywidgets"
   ]
  },
  {
   "cell_type": "code",
   "execution_count": 4,
   "id": "3b546177-05e7-4d58-80c8-539723e54b95",
   "metadata": {},
   "outputs": [
    {
     "name": "stdout",
     "output_type": "stream",
     "text": [
      "Status: Status.OK\n",
      "Topology: UKY: { cpu: 6/6 , core: 96/96 , ram: 1,536/1,536 G, disk: 109,600/109,600 G, unit: 3/3 }\n",
      "\tComponents:\n",
      "\t\tNVME-P4510:  NVME P4510 { disk: 10,000/10,000 G, unit: 10/10 }\n",
      "\t\tSharedNIC-ConnectX-6:  SharedNIC ConnectX-6 { unit: 12/12 }\n",
      "\t\tGPU-RTX6000:  GPU RTX6000 { unit: 2/2 }\n",
      "\t\tGPU-Tesla T4:  GPU Tesla T4 { unit: 4/4 }\n",
      "\t\tSmartNIC-ConnectX-6:  SmartNIC ConnectX-6 { unit: 2/2 }\n",
      "\t\tSmartNIC-ConnectX-5:  SmartNIC ConnectX-5 { unit: 2/2 }\n",
      "\tSite Interfaces:\n",
      "Links:\n"
     ]
    }
   ],
   "source": [
    "status, advertised_topology = slice_manager.resources()\n",
    "\n",
    "print(f\"Status: {status}\")\n",
    "print(f\"Topology: {advertised_topology}\")\n",
    "#advertised_topology.draw()"
   ]
  },
  {
   "cell_type": "markdown",
   "id": "f6ad3785-ac1c-402f-8f47-981ebfb188b9",
   "metadata": {},
   "source": [
    "#### Restart kernel if needed"
   ]
  },
  {
   "cell_type": "markdown",
   "id": "e5e3b85e-b00e-4a16-8ceb-4e7674db8eb5",
   "metadata": {},
   "source": [
    "### Select Node Parameters\n",
    "\n",
    "Run this cell then use widgets to select parameters of node\n",
    "\n",
    "(Note: this is only a proof of concept to use widgets to create nodes via \"GUI\" so only one node is built into the function. More development could easily select number of nodes and add componants to the nodes.)"
   ]
  },
  {
   "cell_type": "code",
   "execution_count": 1,
   "id": "5caab761-fdfa-40b6-98ca-e020970df0b6",
   "metadata": {},
   "outputs": [
    {
     "data": {
      "application/vnd.jupyter.widget-view+json": {
       "model_id": "8a2fb686495e494da6897028a089a841",
       "version_major": 2,
       "version_minor": 0
      },
      "text/plain": [
       "Text(value='', description='Node Name:', placeholder='enter name')"
      ]
     },
     "metadata": {},
     "output_type": "display_data"
    },
    {
     "data": {
      "application/vnd.jupyter.widget-view+json": {
       "model_id": "6acfb61af7c1481ebc245c49dab2e78d",
       "version_major": 2,
       "version_minor": 0
      },
      "text/plain": [
       "Select(description='Image Reference:', options=('RENC', 'UKY', 'LBNL'), value='RENC')"
      ]
     },
     "metadata": {},
     "output_type": "display_data"
    },
    {
     "data": {
      "application/vnd.jupyter.widget-view+json": {
       "model_id": "bb497b0da57344ce87bb10bb02834d20",
       "version_major": 2,
       "version_minor": 0
      },
      "text/plain": [
       "IntSlider(value=4, description='Cores', max=32, min=2, step=2)"
      ]
     },
     "metadata": {},
     "output_type": "display_data"
    },
    {
     "data": {
      "application/vnd.jupyter.widget-view+json": {
       "model_id": "485bcc43d20746de8c2ecea6f4a7a9b2",
       "version_major": 2,
       "version_minor": 0
      },
      "text/plain": [
       "IntSlider(value=16, description='RAM', max=64, min=2, step=2)"
      ]
     },
     "metadata": {},
     "output_type": "display_data"
    },
    {
     "data": {
      "application/vnd.jupyter.widget-view+json": {
       "model_id": "db1983f7b049404b9e2ce6b09b87fee2",
       "version_major": 2,
       "version_minor": 0
      },
      "text/plain": [
       "FloatLogSlider(value=128.0, base=2.0, description='Disk', max=17.0, min=5.0, step=1.0)"
      ]
     },
     "metadata": {},
     "output_type": "display_data"
    },
    {
     "data": {
      "application/vnd.jupyter.widget-view+json": {
       "model_id": "381248fe16974372ae05d313bd4bd8b5",
       "version_major": 2,
       "version_minor": 0
      },
      "text/plain": [
       "Select(description='Image Type:', options=('qcow2', 'qchicken2', 'qpig2'), value='qcow2')"
      ]
     },
     "metadata": {},
     "output_type": "display_data"
    },
    {
     "data": {
      "application/vnd.jupyter.widget-view+json": {
       "model_id": "cb3f77f0408c4262b60ad5a15d8f0637",
       "version_major": 2,
       "version_minor": 0
      },
      "text/plain": [
       "Select(description='Image Reference:', options=('default_ubuntu_20', 'default_arch_20', 'default_kali_21'), va…"
      ]
     },
     "metadata": {},
     "output_type": "display_data"
    }
   ],
   "source": [
    "import ipywidgets as widgets  # imports widgets library\n",
    "from IPython.display import display # imports library to display widgets\n",
    "\n",
    "node_name = widgets.Text(\n",
    "    placeholder='enter name',\n",
    "    description='Node Name:',\n",
    "    disabled=False\n",
    ")\n",
    "\n",
    "site_select = widgets.Select(\n",
    "    options=['RENC', 'UKY', 'LBNL'],\n",
    "    value='RENC',\n",
    "    # rows=10,\n",
    "    description='Image Reference:',\n",
    "    disabled=False\n",
    ")\n",
    "\n",
    "core_slider = widgets.IntSlider(min=2, max=32, step=2, value=4, description='Cores')\n",
    "ram_slider = widgets.IntSlider(min=2, max=64, step=2, value=16, description='RAM')\n",
    "disk_slider = widgets.FloatLogSlider(base=2, min=5, max=17, step=1, value=128,description='Disk')\n",
    "\n",
    "#core_slider.value = 16\n",
    "#ram_slider.value = 8 \n",
    "#disk_slider.value = 100\n",
    "\n",
    "img_ref_select = widgets.Select(\n",
    "    options=['qcow2', 'qchicken2', 'qpig2'],\n",
    "    value='qcow2',\n",
    "    # rows=10,\n",
    "    description='Image Type:',\n",
    "    disabled=False\n",
    ")\n",
    "\n",
    "img_type_select = widgets.Select(\n",
    "    options=['default_ubuntu_20', 'default_arch_20', 'default_kali_21'],\n",
    "    value='default_ubuntu_20',\n",
    "    # rows=10,\n",
    "    description='Image Reference:',\n",
    "    disabled=False\n",
    ")\n",
    "\n",
    "display(node_name)\n",
    "display(site_select)\n",
    "display(core_slider)\n",
    "display(ram_slider)\n",
    "display(disk_slider)\n",
    "display(img_ref_select)\n",
    "display(img_type_select)"
   ]
  },
  {
   "cell_type": "markdown",
   "id": "e8750ae2-57fa-4090-9182-6b2278012db5",
   "metadata": {},
   "source": [
    "#### After selecting node capacities, run the next cell to preview and build the Node "
   ]
  },
  {
   "cell_type": "code",
   "execution_count": 4,
   "id": "4a6485f0-a20d-4142-9761-1f4d8d3ddfa8",
   "metadata": {},
   "outputs": [
    {
     "data": {
      "application/vnd.jupyter.widget-view+json": {
       "model_id": "a6a6170d70e34291b054e65b87c25d1d",
       "version_major": 2,
       "version_minor": 0
      },
      "text/plain": [
       "Button(description='Build Node', icon='server', style=ButtonStyle(), tooltip='click to build node')"
      ]
     },
     "metadata": {},
     "output_type": "display_data"
    },
    {
     "data": {
      "application/vnd.jupyter.widget-view+json": {
       "model_id": "a790d49524364130999e293181712218",
       "version_major": 2,
       "version_minor": 0
      },
      "text/plain": [
       "Output(layout=Layout(border='1px solid black'), outputs=({'output_type': 'stream', 'name': 'stdout', 'text': '…"
      ]
     },
     "metadata": {},
     "output_type": "display_data"
    }
   ],
   "source": [
    "from fabrictestbed.slice_editor import ExperimentTopology, Capacities, ComponentType, LinkType, Layer\n",
    "\n",
    "experiment = ExperimentTopology()\n",
    "slice_name=\"widget_test_slice\"\n",
    "\n",
    "def foo(b):\n",
    "    n1 = experiment.add_node(name=node_name.value, site=site_select.value)\n",
    "    cap = Capacities().set_fields(core=core_slider.value, ram=ram_slider.value, disk=disk_slider.value)\n",
    "    n1.set_properties(capacities=cap)\n",
    "    with out:\n",
    "        print(\"Building Node\")\n",
    "        experiment.draw()\n",
    "\n",
    "button = widgets.Button(\n",
    "    description='Build Node',\n",
    "    disabled=False,\n",
    "    button_style='', # 'success', 'info', 'warning', 'danger' or ''\n",
    "    tooltip='click to build node',\n",
    "    icon='server' # (FontAwesome names without the `fa-` prefix)\n",
    ")\n",
    "button.on_click(foo)\n",
    "\n",
    "\n",
    "out = widgets.Output(layout={'border': '1px solid black'})\n",
    "out.append_stdout('Node Parameters: {} - {}\\n'.format(node_name.value, site_select.value))\n",
    "out.append_stdout('Cores: {}\\n RAM: {}\\n Disk Size(G): {}\\n'.format(core_slider.value, ram_slider.value, disk_slider.value))\n",
    "out.append_stdout('Image type: {}\\n Image Ref: {}\\n'.format(img_ref_select.value, img_type_select.value))\n",
    "out.append_display_data(button)\n",
    "out\n"
   ]
  },
  {
   "cell_type": "code",
   "execution_count": 7,
   "id": "f8135b50-be28-4552-ba36-b3c7f66a82d7",
   "metadata": {},
   "outputs": [
    {
     "name": "stdout",
     "output_type": "stream",
     "text": [
      "Status.OK\n",
      "Request Status.OK\n",
      "Reservations: [{\n",
      "    \"graph_node_id\": \"289b9543-42b9-4491-84ec-5e297705ae0f\",\n",
      "    \"join_state\": \"None_\",\n",
      "    \"lease_end\": \"2021-06-19 21:47:51\",\n",
      "    \"reservation_id\": \"75c345b9-6f8f-441b-a0a1-68825ecd99ca\",\n",
      "    \"reservation_state\": \"Unknown\",\n",
      "    \"resource_type\": \"VM\",\n",
      "    \"slice_id\": \"6fad9a24-468e-4cfb-91ea-8ea82828ffc5\"\n",
      "}]\n",
      "Slice ID: 6fad9a24-468e-4cfb-91ea-8ea82828ffc5\n"
     ]
    }
   ],
   "source": [
    "slice_graph = experiment.serialize()\n",
    "\n",
    "status, reservations = slice_manager.create(slice_name=slice_name, slice_graph=slice_graph, ssh_key=ssh_key)\n",
    "print(status)\n",
    "# print(reservations)\n",
    "print(\"Request {}\".format(status))\n",
    "slice_id=reservations[0].slice_id\n",
    "\n",
    "print(\"Reservations: {}\".format(reservations))\n",
    "print(\"Slice ID: {}\".format(slice_id))\n"
   ]
  },
  {
   "cell_type": "code",
   "execution_count": 8,
   "id": "8a3783af-80da-4bc7-abf7-2f5234efc686",
   "metadata": {},
   "outputs": [
    {
     "name": "stdout",
     "output_type": "stream",
     "text": [
      "Response Status Status.OK\n",
      "Slices []\n"
     ]
    }
   ],
   "source": [
    "status, slices = slice_manager.slices()\n",
    "\n",
    "print(\"Response Status {}\".format(status))\n",
    "print(\"Slices {}\".format(slices))"
   ]
  },
  {
   "cell_type": "code",
   "execution_count": null,
   "id": "0fac6526-7379-45fa-bfd9-3386dd7c4194",
   "metadata": {},
   "outputs": [
    {
     "name": "stdout",
     "output_type": "stream",
     "text": [
      "Response Status Status.OK\n",
      "Slice State: Closing\n",
      "Response Status Status.OK\n",
      "Slice State: Closing\n"
     ]
    }
   ],
   "source": [
    "import time\n",
    "\n",
    "slice_state=None\n",
    "while slice_state != 'StableOK':\n",
    "    status, slice_status = slice_manager.slice_status(slice_id=slice_id)\n",
    "    slice_state = slice_status.slice_state\n",
    "    print(\"Response Status {}\".format(status))\n",
    "    print(\"Slice State: {}\".format(slice_state)) # updated slice[0].slice_state to just slice_state\n",
    "    time.sleep(20)\n",
    "    \n",
    "print(\"Response Status {}\".format(status))\n",
    "print(\"Slice Status {}\".format(slice_status))"
   ]
  },
  {
   "cell_type": "code",
   "execution_count": 11,
   "id": "92284fd6-161d-4508-899c-1a75ccb6c4e4",
   "metadata": {},
   "outputs": [
    {
     "name": "stdout",
     "output_type": "stream",
     "text": [
      "Response Status Status.OK\n",
      "Slivers [{\n",
      "    \"graph_node_id\": \"4517f355-2af8-4b47-ab30-05ddbf59a111\",\n",
      "    \"join_state\": \"None_\",\n",
      "    \"lease_end\": \"2021-06-13 13:17:33\",\n",
      "    \"reservation_id\": \"bb30a66b-3e38-429f-a1cf-8e7022a9372b\",\n",
      "    \"reservation_state\": \"Unknown\",\n",
      "    \"resource_type\": \"VM\",\n",
      "    \"slice_id\": \"dbf9d5c2-2526-437d-afee-c144708ab8fb\"\n",
      "}]\n"
     ]
    }
   ],
   "source": [
    "status, slivers = slice_manager.slivers(slice_id=slice_id)\n",
    "\n",
    "print(\"Response Status {}\".format(status))\n",
    "print(\"Slivers {}\".format(reservations))"
   ]
  },
  {
   "cell_type": "code",
   "execution_count": 13,
   "id": "3135cf8a-13da-4062-ad02-b8e759120f25",
   "metadata": {},
   "outputs": [],
   "source": [
    "script= '#!/bin/bash  \\n' \\\n",
    "        'lspci  \\n'"
   ]
  },
  {
   "cell_type": "code",
   "execution_count": 14,
   "id": "5c543876-fba0-4bd8-8516-3ce0b0e92bcc",
   "metadata": {},
   "outputs": [
    {
     "name": "stdout",
     "output_type": "stream",
     "text": [
      "Node CoolNode IP None\n"
     ]
    },
    {
     "ename": "NoValidConnectionsError",
     "evalue": "[Errno None] Unable to connect to port 22 on 127.0.0.1 or ::1",
     "output_type": "error",
     "traceback": [
      "\u001b[0;31m---------------------------------------------------------------------------\u001b[0m",
      "\u001b[0;31mNoValidConnectionsError\u001b[0m                   Traceback (most recent call last)",
      "\u001b[0;32m<ipython-input-14-f2ddfbf27d0d>\u001b[0m in \u001b[0;36m<module>\u001b[0;34m\u001b[0m\n\u001b[1;32m     15\u001b[0m     \u001b[0mprint\u001b[0m\u001b[0;34m(\u001b[0m\u001b[0;34m\"Node {0} IP {1}\"\u001b[0m\u001b[0;34m.\u001b[0m\u001b[0mformat\u001b[0m\u001b[0;34m(\u001b[0m\u001b[0mnode_name\u001b[0m\u001b[0;34m,\u001b[0m \u001b[0mmanagement_ip\u001b[0m\u001b[0;34m)\u001b[0m\u001b[0;34m)\u001b[0m\u001b[0;34m\u001b[0m\u001b[0;34m\u001b[0m\u001b[0m\n\u001b[1;32m     16\u001b[0m \u001b[0;34m\u001b[0m\u001b[0m\n\u001b[0;32m---> 17\u001b[0;31m     \u001b[0mclient\u001b[0m\u001b[0;34m.\u001b[0m\u001b[0mconnect\u001b[0m\u001b[0;34m(\u001b[0m\u001b[0mmanagement_ip\u001b[0m\u001b[0;34m,\u001b[0m\u001b[0musername\u001b[0m\u001b[0;34m=\u001b[0m\u001b[0;34m'ubuntu'\u001b[0m\u001b[0;34m,\u001b[0m\u001b[0mpkey\u001b[0m \u001b[0;34m=\u001b[0m \u001b[0mkey\u001b[0m\u001b[0;34m)\u001b[0m\u001b[0;34m\u001b[0m\u001b[0;34m\u001b[0m\u001b[0m\n\u001b[0m\u001b[1;32m     18\u001b[0m \u001b[0;34m\u001b[0m\u001b[0m\n\u001b[1;32m     19\u001b[0m     \u001b[0mstdin\u001b[0m\u001b[0;34m,\u001b[0m \u001b[0mstdout\u001b[0m\u001b[0;34m,\u001b[0m \u001b[0mstderr\u001b[0m \u001b[0;34m=\u001b[0m \u001b[0mclient\u001b[0m\u001b[0;34m.\u001b[0m\u001b[0mexec_command\u001b[0m\u001b[0;34m(\u001b[0m\u001b[0;34m'echo \\\"'\u001b[0m \u001b[0;34m+\u001b[0m \u001b[0mscript\u001b[0m \u001b[0;34m+\u001b[0m \u001b[0;34m'\\\" > script.sh; chmod +x script.sh; sudo ./script.sh'\u001b[0m\u001b[0;34m)\u001b[0m\u001b[0;34m\u001b[0m\u001b[0;34m\u001b[0m\u001b[0m\n",
      "\u001b[0;32m/opt/conda/lib/python3.9/site-packages/paramiko/client.py\u001b[0m in \u001b[0;36mconnect\u001b[0;34m(self, hostname, port, username, password, pkey, key_filename, timeout, allow_agent, look_for_keys, compress, sock, gss_auth, gss_kex, gss_deleg_creds, gss_host, banner_timeout, auth_timeout, gss_trust_dns, passphrase, disabled_algorithms)\u001b[0m\n\u001b[1;32m    366\u001b[0m             \u001b[0;31m# (socket.error)\u001b[0m\u001b[0;34m\u001b[0m\u001b[0;34m\u001b[0m\u001b[0;34m\u001b[0m\u001b[0m\n\u001b[1;32m    367\u001b[0m             \u001b[0;32mif\u001b[0m \u001b[0mlen\u001b[0m\u001b[0;34m(\u001b[0m\u001b[0merrors\u001b[0m\u001b[0;34m)\u001b[0m \u001b[0;34m==\u001b[0m \u001b[0mlen\u001b[0m\u001b[0;34m(\u001b[0m\u001b[0mto_try\u001b[0m\u001b[0;34m)\u001b[0m\u001b[0;34m:\u001b[0m\u001b[0;34m\u001b[0m\u001b[0;34m\u001b[0m\u001b[0m\n\u001b[0;32m--> 368\u001b[0;31m                 \u001b[0;32mraise\u001b[0m \u001b[0mNoValidConnectionsError\u001b[0m\u001b[0;34m(\u001b[0m\u001b[0merrors\u001b[0m\u001b[0;34m)\u001b[0m\u001b[0;34m\u001b[0m\u001b[0;34m\u001b[0m\u001b[0m\n\u001b[0m\u001b[1;32m    369\u001b[0m \u001b[0;34m\u001b[0m\u001b[0m\n\u001b[1;32m    370\u001b[0m         t = self._transport = Transport(\n",
      "\u001b[0;31mNoValidConnectionsError\u001b[0m: [Errno None] Unable to connect to port 22 on 127.0.0.1 or ::1"
     ]
    }
   ],
   "source": [
    "import paramiko \n",
    "#from scp import SCPClient, SCPException\n",
    "\n",
    "key = paramiko.RSAKey.from_private_key_file(\"/home/fabric/.ssh/id_rsa\")\n",
    "client = paramiko.SSHClient()\n",
    "client.load_system_host_keys()\n",
    "client.set_missing_host_key_policy(paramiko.MissingHostKeyPolicy())\n",
    "\n",
    "client.set_missing_host_key_policy(paramiko.AutoAddPolicy())\n",
    "\n",
    "for sliver in slivers:\n",
    "    node_name = sliver.name\n",
    "    management_ip = sliver.management_ip\n",
    "    \n",
    "    print(\"Node {0} IP {1}\".format(node_name, management_ip))\n",
    "    \n",
    "    client.connect(management_ip,username='ubuntu',pkey = key)\n",
    "\n",
    "    stdin, stdout, stderr = client.exec_command('echo \\\"' + script + '\\\" > script.sh; chmod +x script.sh; sudo ./script.sh')\n",
    "    print ('')\n",
    "    print (str(stdout.read(),'utf-8').replace('\\\\n','\\n'))\n",
    "\n",
    "    client.close()"
   ]
  },
  {
   "cell_type": "code",
   "execution_count": null,
   "id": "b8b68f34-4f09-4224-83f1-3664d40335e5",
   "metadata": {},
   "outputs": [],
   "source": [
    "status, result = slice_manager.delete(slice_id=slice_id)\n",
    "\n",
    "print(\"Response Status {}\".format(status))\n",
    "print(\"Response received {}\".format(result))"
   ]
  },
  {
   "cell_type": "code",
   "execution_count": null,
   "id": "2d836d7d-2bed-487d-9faf-5ad205f1a932",
   "metadata": {},
   "outputs": [],
   "source": []
  }
 ],
 "metadata": {
  "kernelspec": {
   "display_name": "Python 3",
   "language": "python",
   "name": "python3"
  },
  "language_info": {
   "codemirror_mode": {
    "name": "ipython",
    "version": 3
   },
   "file_extension": ".py",
   "mimetype": "text/x-python",
   "name": "python",
   "nbconvert_exporter": "python",
   "pygments_lexer": "ipython3",
   "version": "3.9.2"
  }
 },
 "nbformat": 4,
 "nbformat_minor": 5
}
