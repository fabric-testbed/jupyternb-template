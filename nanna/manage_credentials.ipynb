{
 "metadata": {
  "language_info": {
   "codemirror_mode": {
    "name": "ipython",
    "version": 3
   },
   "file_extension": ".py",
   "mimetype": "text/x-python",
   "name": "python",
   "nbconvert_exporter": "python",
   "pygments_lexer": "ipython3",
   "version": "3.9.2"
  },
  "orig_nbformat": 2,
  "kernelspec": {
   "name": "python392jvsc74a57bd0aee8b7b246df8f9039afb4144a1f6fd8d2ca17a180786b69acc140d282b71a49",
   "display_name": "Python 3.9.2 64-bit"
  },
  "metadata": {
   "interpreter": {
    "hash": "aee8b7b246df8f9039afb4144a1f6fd8d2ca17a180786b69acc140d282b71a49"
   }
  }
 },
 "nbformat": 4,
 "nbformat_minor": 2,
 "cells": [
  {
   "source": [
    "# Managing FABRIC Credentials \n",
    "\n",
    "The FABRIC API is used via proxy objects that manage connections to the control framework.<br>\n",
    "\n",
    "For any experimentation on the FABRIC testbed it is first required take a few steps to establish a connection gateway to the system. This is done via:\n",
    "\n",
    "1. A credential manager proxy, `Slice Manager`. \n",
    "2. Authentication `Tokens`.\n",
    "3. An `SSH Key`. "
   ],
   "cell_type": "markdown",
   "metadata": {}
  },
  {
   "source": [
    "## The Slice Manager \n",
    "\n",
    "The `Slice Manager` proxy manages `tokens` used to authorize requests to the system. It is also used to query resource availability, submit requests for a slice, query existing slices/slivers, delete slices and more."
   ],
   "cell_type": "markdown",
   "metadata": {}
  },
  {
   "cell_type": "code",
   "execution_count": null,
   "metadata": {},
   "outputs": [],
   "source": [
    "help(SliceManager)"
   ]
  },
  {
   "source": [
    "## Tokens    \n",
    "Fabric uses two kinds of tokens:\n",
    "\n",
    "- `Refresh Token`: When a user logins to Jupyterhub after authenticating against CILogon, an initial refresh token is automatically derived. This token is available as the environment variable `CILOGON_REFRESH_TOKEN` and is used to generate the initial Identity Token. On every call to the [refresh_tokens](#refresh) method, Fabric Refresh Token is changed and updated. Each Refresh Token is valid for 24 hours.\n",
    "\n",
    "- `Identity Token`: The control/measurement framework APIs require an Identity Token. Identity tokens can be generated from a valid Refresh Token at any time. Each Identity Token is valid upto an hour.\n",
    "\n",
    "- *TODO*:\n",
    "    - What requests exactly are identity tokens required for? What happens if it is invalid?\n",
    "    - Should user then keep track of the time and take care to generate a new token every hour?\n",
    "    - Should user use refresh_tokens to get new refresh token or use the environment variable?"
   ],
   "cell_type": "markdown",
   "metadata": {}
  },
  {
   "source": [
    "## SSH \n",
    "The ssh key is used when requesting to create a slice.\n",
    "- *TODO*:\n",
    "    - Why and where is the ssh keys also needed?\n",
    "    - For how long is the ssh key valid for? Should the user create a new one in every session/multiple times per session or....?"
   ],
   "cell_type": "markdown",
   "metadata": {}
  },
  {
   "source": [
    "# Step-by-step Setup\n",
    "\n",
    "## Save the Initial Refresh Token\n",
    "\n",
    "Retrieve or set the refresh token (exprires 24 hours after login).\n",
    "- *TODO*:\n",
    "    - Where is the token stored? localstorage?"
   ],
   "cell_type": "markdown",
   "metadata": {}
  },
  {
   "cell_type": "code",
   "execution_count": null,
   "metadata": {},
   "outputs": [],
   "source": [
    "import os\n",
    "\n",
    "fabric_refresh_token=None\n",
    "%store -r fabric_refresh_token  #store -r: store OR retrieve\n",
    "\n",
    "if fabric_refresh_token is None:\n",
    "    fabric_refresh_token=os.environ['CILOGON_REFRESH_TOKEN']\n",
    "    %store fabric_refresh_token\n",
    "\n",
    "print(\"Refresh Token: {}\".format(fabric_refresh_token))"
   ]
  },
  {
   "source": [
    "## Create Slice Manager\n",
    "\n",
    "Environment variables `FABRIC_CREDMGR_HOST` and `FABRIC_ORCHESTRATOR_HOST` are passed to the constructor to set the values for the Credential Manager Host and Orchestrator Client Host behind Slice Manager.*\n",
    "\n",
    "Users can request tokens with different Project and Scopes by altering `project_name` and `scope` parameters.\n",
    "\n",
    "- TODO:\n",
    "    - *Why are the host variables needed?"
   ],
   "cell_type": "markdown",
   "metadata": {}
  },
  {
   "cell_type": "code",
   "execution_count": null,
   "metadata": {},
   "outputs": [],
   "source": [
    "import os\n",
    "import json\n",
    "from fabrictestbed.slice_manager import SliceManager, Status\n",
    "\n",
    "credmgr_host = os.environ['FABRIC_CREDMGR_HOST']\n",
    "orchestrator_host = os.environ['FABRIC_ORCHESTRATOR_HOST']\n",
    "print(f\"CM Host: {credmgr_host} Orchestrator Host: {orchestrator_host}\")\n",
    "\n",
    "# Create Slice Manager\n",
    "slice_manager = SliceManager(oc_host=orchestrator_host, cm_host=credmgr_host, \n",
    "                             refresh_token=fabric_refresh_token, project_name='all', scope='all')"
   ]
  },
  {
   "source": [
    "<a id='refresh'></a>\n",
    "## Generate/Refresh ID Token\n",
    "\n",
    "After slice manager has been created, the ID token can be generated or refreshed.\n",
    "\n",
    "Since ID tokens expire after one hour, the user should rememeber to re-run this command frequently.\n",
    "\n",
    "Note: the same command, `slice_manager.refresh_tokens()`, is used both to generate the initial ID token *and* to refresh the ID and Refresh tokens.\n",
    "\n",
    "- *TODO*:\n",
    "    - Do you need to store the id token??\n",
    "    - How is it actually used? Only in the background? "
   ],
   "cell_type": "markdown",
   "metadata": {}
  },
  {
   "cell_type": "code",
   "execution_count": 1,
   "metadata": {},
   "outputs": [
    {
     "output_type": "stream",
     "name": "stdout",
     "text": [
      "Exception occurred while getting tokens:name 'slice_manager' is not defined\n"
     ]
    },
    {
     "output_type": "error",
     "ename": "NameError",
     "evalue": "name 'slice_manager' is not defined",
     "traceback": [
      "\u001b[0;31m---------------------------------------------------------------------------\u001b[0m",
      "\u001b[0;31mNameError\u001b[0m                                 Traceback (most recent call last)",
      "\u001b[0;32m<ipython-input-1-239c97eac0bb>\u001b[0m in \u001b[0;36m<module>\u001b[0;34m\u001b[0m\n\u001b[1;32m      4\u001b[0m     \u001b[0mprint\u001b[0m\u001b[0;34m(\u001b[0m\u001b[0;34m\"Exception occurred while getting tokens:{}\"\u001b[0m\u001b[0;34m.\u001b[0m\u001b[0mformat\u001b[0m\u001b[0;34m(\u001b[0m\u001b[0me\u001b[0m\u001b[0;34m)\u001b[0m\u001b[0;34m)\u001b[0m\u001b[0;34m\u001b[0m\u001b[0;34m\u001b[0m\u001b[0m\n\u001b[1;32m      5\u001b[0m \u001b[0;34m\u001b[0m\u001b[0m\n\u001b[0;32m----> 6\u001b[0;31m \u001b[0mfabric_refresh_token\u001b[0m\u001b[0;34m=\u001b[0m\u001b[0mslice_manager\u001b[0m\u001b[0;34m.\u001b[0m\u001b[0mget_refresh_token\u001b[0m\u001b[0;34m(\u001b[0m\u001b[0;34m)\u001b[0m\u001b[0;34m\u001b[0m\u001b[0;34m\u001b[0m\u001b[0m\n\u001b[0m\u001b[1;32m      7\u001b[0m \u001b[0mprint\u001b[0m\u001b[0;34m(\u001b[0m\u001b[0;34m)\u001b[0m\u001b[0;34m\u001b[0m\u001b[0;34m\u001b[0m\u001b[0m\n\u001b[1;32m      8\u001b[0m \u001b[0mprint\u001b[0m\u001b[0;34m(\u001b[0m\u001b[0;34m\"New Refresh Token: {}\"\u001b[0m\u001b[0;34m.\u001b[0m\u001b[0mformat\u001b[0m\u001b[0;34m(\u001b[0m\u001b[0mfabric_refresh_token\u001b[0m\u001b[0;34m)\u001b[0m\u001b[0;34m)\u001b[0m\u001b[0;34m\u001b[0m\u001b[0;34m\u001b[0m\u001b[0m\n",
      "\u001b[0;31mNameError\u001b[0m: name 'slice_manager' is not defined"
     ]
    }
   ],
   "source": [
    "try:\n",
    "    id_token, refresh_token = slice_manager.refresh_tokens()\n",
    "except Exception as e:\n",
    "    print(\"Exception occurred while getting tokens:{}\".format(e))\n",
    "\n",
    "fabric_refresh_token=slice_manager.get_refresh_token()\n",
    "print()\n",
    "print(\"New Refresh Token: {}\".format(fabric_refresh_token))\n",
    "print()\n",
    "print(\"New Id Token: {}\".format(fabric_id_token))\n",
    "print()\n",
    "print(\"Stored new Refresh and ID Tokens\")\n",
    "%store fabric_refresh_token \n",
    "%store fabric_id_token\n",
    "print()\n",
    "print()"
   ]
  },
  {
   "source": [
    "## Configure SSH Key\n",
    "\n",
    "The `ssh_key` is needed as an argument to slice manager.create() when making a new slice, see the [simple demo](/Users/Nanna/Desktop/fabric_nanna/jupyter-examples/fabric/demos/Workshop-Spring2021/simple-workshop-demo.ipynb) ( ***link to notebook on slice creation or simple demo *** )"
   ],
   "cell_type": "markdown",
   "metadata": {}
  },
  {
   "cell_type": "code",
   "execution_count": null,
   "metadata": {},
   "outputs": [],
   "source": [
    "ssh_key = None\n",
    "with open (\"/home/fabric/.ssh/id_rsa.pub\", \"r\") as myfile:\n",
    "    ssh_key=myfile.read().strip()"
   ]
  },
  {
   "source": [
    "### (Paramiko SSH for Configuring Nodes)\n",
    "\n",
    "`??Incude as sub paragraph or not??`"
   ],
   "cell_type": "markdown",
   "metadata": {}
  },
  {
   "cell_type": "code",
   "execution_count": null,
   "metadata": {},
   "outputs": [],
   "source": []
  }
 ]
}