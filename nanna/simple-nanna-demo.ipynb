{
 "cells": [
  {
   "cell_type": "code",
   "execution_count": 1,
   "id": "730811d0-fe0d-4e06-9601-5da29c79cf24",
   "metadata": {
    "tags": []
   },
   "outputs": [
    {
     "name": "stdout",
     "output_type": "stream",
     "text": [
      "Refresh token is: NB2HI4DTHIXS6Y3JNRXWO33OFZXXEZZPN5QXK5DIGIXTOZLEGE2DMZTFMI4GGNDDGRSGMZBWMZQTMZJXGJTGGMLGHFRTSOB7OR4XAZJ5OJSWM4TFONUFI33LMVXCM5DTHUYTMMRSGYZTOMBQGM4DINBGOZSXE43JN5XD25RSFYYCM3DJMZSXI2LNMU6TQNRUGAYDAMBQ\n"
     ]
    }
   ],
   "source": [
    "import os\n",
    "\n",
    "fabric_refresh_token = None\n",
    "%store -r fabric_refresh_token\n",
    "\n",
    "if fabric_refresh_token is None:\n",
    "    fabric_refresh_token = os.environ['CILOGON_REFRESH_TOKEN']\n",
    "    %store fabric_refresh_token\n",
    "    \n",
    "print(\"Refresh token is: {}\".format(fabric_refresh_token))"
   ]
  },
  {
   "cell_type": "markdown",
   "id": "54a1681e-17d9-4564-a97e-134a240c1add",
   "metadata": {},
   "source": [
    "#### Slice manager"
   ]
  },
  {
   "cell_type": "code",
   "execution_count": 2,
   "id": "51580669-9bc8-400a-8c90-48a88189b5c6",
   "metadata": {},
   "outputs": [
    {
     "name": "stdout",
     "output_type": "stream",
     "text": [
      "CM Host: beta-2.fabric-testbed.net Orchestrator Host: beta-7.fabric-testbed.net\n"
     ]
    }
   ],
   "source": [
    "import json\n",
    "from fabrictestbed.slice_manager import SliceManager, Status\n",
    "\n",
    "credentialmanager_host = os.environ['FABRIC_CREDMGR_HOST']\n",
    "orchestrator_host = os.environ['FABRIC_ORCHESTRATOR_HOST']\n",
    "\n",
    "print(f\"CM Host: {credentialmanager_host} Orchestrator Host: {orchestrator_host}\")\n",
    "\n",
    "slice_man = SliceManager(oc_host = orchestrator_host, cm_host = credentialmanager_host, refresh_token = fabric_refresh_token, project_name='all', scope='all')\n",
    "\n",
    "ssh_key = None\n",
    "with open (\"/home/fabric/.ssh/id_rsa.pub\", \"r\") as myfile:\n",
    "    ssh_key=myfile.read().strip()\n"
   ]
  },
  {
   "cell_type": "markdown",
   "id": "dae17342-d825-4773-a453-27dd84822cc9",
   "metadata": {},
   "source": [
    "#### ID token"
   ]
  },
  {
   "cell_type": "code",
   "execution_count": 3,
   "id": "befdf48b-91cd-405a-ad75-74078a1ec9ae",
   "metadata": {},
   "outputs": [
    {
     "name": "stdout",
     "output_type": "stream",
     "text": [
      "\n",
      "New Refresh Token: NB2HI4DTHIXS6Y3JNRXWO33OFZXXEZZPN5QXK5DIGIXWCOLFGMYTOZJYMQYDCMZUHA2GGMZWGU3GCNZSGIYTAYRTGE2DOP3UPFYGKPLSMVTHEZLTNBKG623FNYTHI4Z5GE3DEMRWGM4DINJWHE4TIJTWMVZHG2LPNY6XMMROGATGY2LGMV2GS3LFHU4DMNBQGAYDAMA\n",
      "\n",
      "New Id Token: eyJ0eXAiOiJKV1QiLCJhbGciOiJSUzI1NiIsImtpZCI6ImI0MTUxNjcyMTExOTFlMmUwNWIyMmI1NGIxZDNiNzY2N2U3NjRhNzQ3NzIyMTg1ZTcyMmU1MmUxNDZmZTQzYWEifQ.eyJlbWFpbCI6Im5hbm5rYXRAYnUuZWR1IiwiY2VydF9zdWJqZWN0X2RuIjoiL0RDPW9yZy9EQz1jaWxvZ29uL0M9VVMvTz1Cb3N0b24gVW5pdmVyc2l0eS9DTj1OYW5uYSBLYXRyaW4gSGFubmVzZG90dGlyIEE0NjA5NjM1NiIsImlkcCI6Imh0dHBzOi8vc2hpYi5idS5lZHUvaWRwL3NoaWJib2xldGgiLCJpZHBfbmFtZSI6IkJvc3RvbiBVbml2ZXJzaXR5IiwiZXBwbiI6Im5hbm5rYXRAYnUuZWR1IiwiZXB0aWQiOiJodHRwczovL3NoaWIuYnUuZWR1L2lkcC9zaGliYm9sZXRoIWh0dHBzOi8vY2lsb2dvbi5vcmcvc2hpYmJvbGV0aCFwZW5PVjQzcXF5blR1Tjg5T2hqNVJqcnVQUTA9IiwiYWZmaWxpYXRpb24iOiJzdHVkZW50QGJ1LmVkdTttZW1iZXJAYnUuZWR1IiwibmFtZSI6Ik5hbm5hIEthdHJpbiBIYW5uZXNkb3R0aXIiLCJhY3IiOiJodHRwczovL3NoaWIuYnUuZWR1L3NpbmdsZSIsImVudGl0bGVtZW50IjoiaHR0cDovL2lhbS5idS5lZHUvbWVtYmVyL2NhcztodHRwOi8vaWFtLmJ1LmVkdS9yZWcvY29sbGVnZS9lbmc7aHR0cDovL2lhbS5idS5lZHUvcmVnL2NvbGxlZ2UvY2FzO2h0dHA6Ly9pYW0uYnUuZWR1L2lkaW5mby81MCIsImlzcyI6Imh0dHBzOi8vY2lsb2dvbi5vcmciLCJzdWIiOiJodHRwOi8vY2lsb2dvbi5vcmcvc2VydmVyQS91c2Vycy80NjA5NjM1NiIsImF1ZCI6ImNpbG9nb246L2NsaWVudF9pZC8xZjExZjgyOWVjMWY0ZjIyMzM1OGY0M2IyYzYwN2I4NCIsInRva2VuX2lkIjoiaHR0cHM6Ly9jaWxvZ29uLm9yZy9vYXV0aDIvaWRUb2tlbi8yYTRmNWMwMWIyODY4YTFiNmUyNGYwZmEyMGUzOTY1NS8xNjIyNTk4MjI5NzM2IiwiYXV0aF90aW1lIjoxNjIyNTk4MjIxLCJleHAiOjE2MjI2NDIwNTgsImlhdCI6MTYyMjYzODQ1OCwicHJvamVjdHMiOnsiU3R1ZGVudCBUZXN0aW5nIjpbInN0dWRlbnRzIiwidGVzdGluZyJdfSwicm9sZXMiOlsiZmFicmljLWFjdGl2ZS11c2VycyIsImUzZDVkMzcyLTdiMzAtNDZhNS05YjU5LTM5YTFlYzQwNjYwZS1wbSJdLCJzY29wZSI6ImFsbCJ9.iQCvMPPej7clbEM1zK5OcJcuOsWMgIo6yR1nBETyDRmmnYOrYu5u7tS_ky3vj5yzqJ2g9LXaeicV5zuspFtYznfCM1KpoBFs4zRZZtcw7V2GhMaMHrfmNzggnPm0mOmZrDbr8SIEDKfW_iasVQVqDTjJOInR_GwhM5CaEIJ9J1J946XimngmpUKpCKRIZKJepebkWGig9meHU2ncDp-eB-JxN7qrrMdv_BCFDN10P-G0rocSTybipbjp20myQVzo3fvOvCvbMrhW7UO_JU39XMJ_c_6Dma2pw0ii1YU0bXYXRuilDxqOTr63e4nIF_w7arR_6lei0IFPUDRUrNPQ-IfNc0yQHxS3fZeWsfeK3xpobIXSQDjErT0g-X3i-JSZq6l0KVhDNoxDZXSsukgojDwOBizidId3IC8NiCnm8unTVCb4yQ0Tqwmgtw-FQ_uCHdHQAs9YZ_OqmMpX4d0jM9NFoMw3vRny3gdYwf8dqLcI-UpoDzj0vwxI7EIsZqIAFIV00Q14D1mhRmzLU7OpqbFrcK5PiHXzFUQw60w3zvFRgaOopHUuzzXQbsdqAxF-9FH43YDUQtfJyHRBp3Oz3ynWFg4llznzyiktal4G4sO17sEIaWlZutVJnhMnlVD3SNAqZLZ-gmgu7dj9Hw4W3XNVD-KlCStZksuJvy1Ogj4\n",
      "\n",
      "Stored new Refresh Token\n",
      "Stored 'fabric_refresh_token' (str)\n",
      "\n",
      "Stroed new ID Token\n",
      "Stored 'fabric_id_token' (str)\n",
      "\n"
     ]
    }
   ],
   "source": [
    "try:\n",
    "    id_token, refresh_token = slice_man.refresh_tokens()\n",
    "except Exception as e:\n",
    "    print(\"Exception occurred while getting tokens:{}\".format(e))\n",
    "\n",
    "fabric_refresh_token=slice_man.get_refresh_token()\n",
    "fabric_id_token=slice_man.get_id_token()\n",
    "print()\n",
    "print(\"New Refresh Token: {}\".format(fabric_refresh_token))\n",
    "print()\n",
    "print(\"New Id Token: {}\".format(fabric_id_token))\n",
    "print()\n",
    "print(\"Stored new Refresh Token\")\n",
    "%store fabric_refresh_token\n",
    "print()\n",
    "print(\"Stroed new ID Token\")\n",
    "%store fabric_id_token\n",
    "print()"
   ]
  },
  {
   "cell_type": "markdown",
   "id": "659d9881-d3bd-4846-a5fa-f2e9641f251d",
   "metadata": {},
   "source": [
    "#### Get available resources"
   ]
  },
  {
   "cell_type": "code",
   "execution_count": 4,
   "id": "3fffa8ce-adcd-4285-a912-eb764f8e80fc",
   "metadata": {
    "tags": []
   },
   "outputs": [
    {
     "name": "stdout",
     "output_type": "stream",
     "text": [
      "Status: Status.OK\n",
      "\n",
      "Topology: RENC: { cpu: 6/6, core: 90/96, ram: 1456/1536G, disk: 109000/109600G, unit: 3/3, }\n",
      "\tComponents:\n",
      "\t\tNVME-P4510:  NVME P4510 { disk: 9000/10000G, unit: 9/10, }\n",
      "\t\tGPU-RTX6000:  GPU RTX6000 { unit: 1/2, }\n",
      "\t\tGPU-Tesla T4:  GPU Tesla T4 { unit: 4/4, }\n",
      "\t\tSharedNIC-ConnectX-6:  SharedNIC ConnectX-6 { unit: 2/3, }\n",
      "\t\tSmartNIC-ConnectX-6:  SmartNIC ConnectX-6 { unit: 2/2, }\n",
      "\t\tSmartNIC-ConnectX-5:  SmartNIC ConnectX-5 { unit: 1/2, }\n",
      "\tSite Interfaces:\n",
      "UKY: { cpu: 6/6, core: 84/96, ram: 1408/1536G, disk: 108600/109600G, unit: 3/3, }\n",
      "\tComponents:\n",
      "\t\tSmartNIC-ConnectX-5:  SmartNIC ConnectX-5 { unit: 2/2, }\n",
      "\t\tNVME-P4510:  NVME P4510 { disk: 6000/10000G, unit: 6/10, }\n",
      "\t\tGPU-RTX6000:  GPU RTX6000 { unit: 2/2, }\n",
      "\t\tGPU-Tesla T4:  GPU Tesla T4 { unit: 1/4, }\n",
      "\t\tSharedNIC-ConnectX-6:  SharedNIC ConnectX-6 { unit: 3/3, }\n",
      "\t\tSmartNIC-ConnectX-6:  SmartNIC ConnectX-6 { unit: 2/2, }\n",
      "\tSite Interfaces:\n",
      "LBNL: { cpu: 6/6, core: 88/96, ram: 1440/1536G, disk: 108900/109600G, unit: 3/3, }\n",
      "\tComponents:\n",
      "\t\tNVME-P4510:  NVME P4510 { disk: 10000/10000G, unit: 10/10, }\n",
      "\t\tGPU-RTX6000:  GPU RTX6000 { unit: 2/2, }\n",
      "\t\tGPU-Tesla T4:  GPU Tesla T4 { unit: 1/4, }\n",
      "\t\tSharedNIC-ConnectX-6:  SharedNIC ConnectX-6 { unit: 3/3, }\n",
      "\t\tSmartNIC-ConnectX-6:  SmartNIC ConnectX-6 { unit: 2/2, }\n",
      "\t\tSmartNIC-ConnectX-5:  SmartNIC ConnectX-5 { unit: 0/2, }\n",
      "\tSite Interfaces:\n",
      "Links:\n",
      "\n",
      "Topology map: \n"
     ]
    },
    {
     "data": {
      "image/png": "[encoded data removed]",
      "text/plain": [
       "<Figure size 432x288 with 1 Axes>"
      ]
     },
     "metadata": {},
     "output_type": "display_data"
    }
   ],
   "source": [
    "status, topology = slice_man.resources()\n",
    "print(\"Status: {}\\n\".format(status))\n",
    "print(\"Topology: {}\".format(topology))\n",
    "\n",
    "print()\n",
    "print(\"Topology map: \")\n",
    "topology.draw()"
   ]
  },
  {
   "cell_type": "code",
   "execution_count": 6,
   "id": "74b6c99f-a682-42dd-9512-0638ed62904f",
   "metadata": {
    "collapsed": true,
    "jupyter": {
     "outputs_hidden": true
    },
    "tags": []
   },
   "outputs": [
    {
     "name": "stdout",
     "output_type": "stream",
     "text": [
      "Help on class SliceManager in module fabrictestbed.slice_manager.slice_manager:\n",
      "\n",
      "class SliceManager(builtins.object)\n",
      " |  SliceManager(*, cm_host: str, oc_host: str, refresh_token: str, project_name: str = 'all', scope: str = 'all')\n",
      " |  \n",
      " |  Implements User facing Control Framework API interface\n",
      " |  \n",
      " |  Methods defined here:\n",
      " |  \n",
      " |  __init__(self, *, cm_host: str, oc_host: str, refresh_token: str, project_name: str = 'all', scope: str = 'all')\n",
      " |      Initialize self.  See help(type(self)) for accurate signature.\n",
      " |  \n",
      " |  create(self, *, slice_name: str, ssh_key: str, topology: fim.user.topology.ExperimentTopology = None, slice_graph: str = None, lease_end_time: str = None) -> Tuple[fabric_cf.orchestrator.orchestrator_proxy.Status, Union[Exception, List[fabric_cf.orchestrator.elements.reservation.Reservation]]]\n",
      " |      Create a slice\n",
      " |      @param slice_name slice name\n",
      " |      @param ssh_key SSH Key\n",
      " |      @param topology Experiment topology\n",
      " |      @param slice_graph Slice Graph string\n",
      " |      @param lease_end_time Lease End Time\n",
      " |      @return Tuple containing Status and Exception/Json containing slivers created\n",
      " |  \n",
      " |  delete(self, *, slice_id: str) -> Tuple[fabric_cf.orchestrator.orchestrator_proxy.Status, Union[Exception, NoneType]]\n",
      " |      Delete a slice\n",
      " |      @param slice_id slice id\n",
      " |      @return Tuple containing Status and Exception/Json containing deletion status\n",
      " |  \n",
      " |  get_id_token(self) -> str\n",
      " |  \n",
      " |  get_refresh_token(self) -> str\n",
      " |  \n",
      " |  get_slice(self, *, slice_id: str) -> Tuple[fabric_cf.orchestrator.orchestrator_proxy.Status, Union[Exception, fim.user.topology.ExperimentTopology]]\n",
      " |      Get slice\n",
      " |      @param slice_id slice id\n",
      " |      @return Tuple containing Status and Exception/Json containing slice\n",
      " |  \n",
      " |  refresh_tokens(self) -> Tuple[str, str]\n",
      " |      Refresh tokens\n",
      " |      User is expected to invoke refresh token API before invoking any other APIs to ensure the token is not expired.\n",
      " |      User is also expected to update the returned refresh token in the JupyterHub environment.\n",
      " |  \n",
      " |  renew(self, *, slice_id: str, new_lease_end_time: str) -> Tuple[fabric_cf.orchestrator.orchestrator_proxy.Status, Union[Exception, List, NoneType]]\n",
      " |      Renew a slice\n",
      " |      @param slice_id slice_id\n",
      " |      @param new_lease_end_time new_lease_end_time\n",
      " |      @return Tuple containing Status and List of Reservation Id failed to extend\n",
      " |  \n",
      " |  resources(self, *, level: int = 1) -> Tuple[fabric_cf.orchestrator.orchestrator_proxy.Status, Union[Exception, fim.user.topology.AdvertizedTopology]]\n",
      " |      Get resources\n",
      " |      @param level level\n",
      " |      @return Tuple containing Status and Exception/Json containing Resources\n",
      " |  \n",
      " |  revoke_token(self, refresh_token: str = None) -> Tuple[fabric_cf.orchestrator.orchestrator_proxy.Status, Any]\n",
      " |  \n",
      " |  set_id_token(self, id_token: str)\n",
      " |  \n",
      " |  slice_status(self, *, slice_id: str) -> Tuple[fabric_cf.orchestrator.orchestrator_proxy.Status, Union[Exception, fabric_cf.orchestrator.elements.slice.Slice]]\n",
      " |      Get slice status\n",
      " |      @param slice_id slice id\n",
      " |      @return Tuple containing Status and Exception/Json containing slice status\n",
      " |  \n",
      " |  slices(self) -> Tuple[fabric_cf.orchestrator.orchestrator_proxy.Status, Union[Exception, List[fabric_cf.orchestrator.elements.slice.Slice]]]\n",
      " |      Get slices\n",
      " |      @return Tuple containing Status and Exception/Json containing slices\n",
      " |  \n",
      " |  sliver_status(self, *, slice_id: str, sliver_id: str) -> Tuple[fabric_cf.orchestrator.orchestrator_proxy.Status, Union[Exception, fabric_cf.orchestrator.elements.reservation.Reservation]]\n",
      " |      Get slivers\n",
      " |      @param slice_id slice id\n",
      " |      @param sliver_id slice sliver_id\n",
      " |      @return Tuple containing Status and Exception/Json containing Sliver status\n",
      " |  \n",
      " |  slivers(self, *, slice_id: str, sliver_id: str = None) -> Tuple[fabric_cf.orchestrator.orchestrator_proxy.Status, Union[Exception, List[fabric_cf.orchestrator.elements.reservation.Reservation]]]\n",
      " |      Get slivers\n",
      " |      @param slice_id slice id\n",
      " |      @param sliver_id slice sliver_id\n",
      " |      @return Tuple containing Status and Exception/Json containing Sliver(s)\n",
      " |  \n",
      " |  ----------------------------------------------------------------------\n",
      " |  Data descriptors defined here:\n",
      " |  \n",
      " |  __dict__\n",
      " |      dictionary for instance variables (if defined)\n",
      " |  \n",
      " |  __weakref__\n",
      " |      list of weak references to the object (if defined)\n",
      "\n"
     ]
    }
   ],
   "source": [
    "help(SliceManager)"
   ]
  },
  {
   "cell_type": "markdown",
   "id": "c35cf63e-969a-4319-9453-92a8744f9bf8",
   "metadata": {},
   "source": [
    "#### Build slice"
   ]
  },
  {
   "cell_type": "code",
   "execution_count": 5,
   "id": "9c9c4e08-3565-4090-bca6-b8a5f9308f4a",
   "metadata": {
    "collapsed": true,
    "jupyter": {
     "outputs_hidden": true
    },
    "tags": []
   },
   "outputs": [
    {
     "name": "stdout",
     "output_type": "stream",
     "text": [
      "Help on class ExperimentTopology in module fim.user.topology:\n",
      "\n",
      "class ExperimentTopology(Topology)\n",
      " |  ExperimentTopology(graph_file: str = None, graph_string: str = None, logger=None)\n",
      " |  \n",
      " |  Define an user topology model, inheriting behavior from Topology class.\n",
      " |  In addition to publicly visible methods the following calls can be made:\n",
      " |  topology.nodes - a read-only dictionary of nodes in the topology\n",
      " |  topology.links - a read-only dictionary of links in the topology\n",
      " |  topology.interface_list - a read-only list of all interfaces of all nodes\n",
      " |  If you want to operate on top of a Neo4j graph, use the cast() method.\n",
      " |  \n",
      " |  Method resolution order:\n",
      " |      ExperimentTopology\n",
      " |      Topology\n",
      " |      abc.ABC\n",
      " |      builtins.object\n",
      " |  \n",
      " |  Methods defined here:\n",
      " |  \n",
      " |  __init__(self, graph_file: str = None, graph_string: str = None, logger=None)\n",
      " |      Initialize self.  See help(type(self)) for accurate signature.\n",
      " |  \n",
      " |  cast(self, *, asm_graph: fim.graph.slices.abc_asm.ABCASMPropertyGraph)\n",
      " |      'Cast' an existing instance of ASM graph into a topology. This can create Neo4j or NetworkX-based\n",
      " |      topology classes\n",
      " |      :param asm_graph:\n",
      " |      :return:\n",
      " |  \n",
      " |  ----------------------------------------------------------------------\n",
      " |  Data and other attributes defined here:\n",
      " |  \n",
      " |  __abstractmethods__ = frozenset()\n",
      " |  \n",
      " |  ----------------------------------------------------------------------\n",
      " |  Methods inherited from Topology:\n",
      " |  \n",
      " |  __getattr__(self, item)\n",
      " |      Special handling for attributes like 'nodes' and 'links' -\n",
      " |      which query into the model. They return dicts and list\n",
      " |      containers. Modifying containers does not affect the underlying\n",
      " |      graph mode, but modifying elements of lists or values of dicts does.\n",
      " |      :param item:\n",
      " |      :return:\n",
      " |  \n",
      " |  __str__(self)\n",
      " |      Print topology in tabulated form - network nodes, their components, interfaces, then print links\n",
      " |      and their interfaces\n",
      " |      :return:\n",
      " |  \n",
      " |  add_link(self, *, name: str, node_id: str = None, ltype: fim.slivers.network_link.LinkType = None, interfaces: List[fim.user.interface.Interface], layer: fim.slivers.switch_fabric.SFLayer = None, technology: str = None, **kwargs) -> fim.user.link.Link\n",
      " |      Add link between listed interfaces with specified parameters\n",
      " |      :param name:\n",
      " |      :param node_id:\n",
      " |      :param ltype:\n",
      " |      :param interfaces:\n",
      " |      :param layer:\n",
      " |      :param technology:\n",
      " |      :param kwargs:\n",
      " |      :return:\n",
      " |  \n",
      " |  add_node(self, *, name: str, node_id: str = None, site: str, ntype: fim.slivers.network_node.NodeType = VM, **kwargs) -> fim.user.node.Node\n",
      " |      Add a network node into the substrate topology. Be sure to hardcode node_id - it should\n",
      " |      be consistent from revision to revision of the topology for the same objects.\n",
      " |      kwargs serve to add parameters to the node\n",
      " |      cpu_cores\n",
      " |      ram_size\n",
      " |      disk_size\n",
      " |      image_type\n",
      " |      image_ref\n",
      " |      :param name:\n",
      " |      :param node_id:\n",
      " |      :param site:\n",
      " |      :param ntype:\n",
      " |      :return:\n",
      " |  \n",
      " |  draw(self, *, file_name: str = None, interactive: bool = False, topo_detail: fim.user.topology.TopologyDetail = <TopologyDetail.Derived: 1>, layout=<function fruchterman_reingold_layout at 0x7f04b59473a0>)\n",
      " |      Use pyplot to draw the topology of specified level of detail.\n",
      " |      :param file_name: save figure to a file (drawing type is determined by extension, e.g. .png)\n",
      " |      :param interactive: use interactive pyplot mode (defaults to False)\n",
      " |      :param topo_detail: level of detail to use in drawing, defaults to Derived\n",
      " |      :param layout: use one of available layout algorithms in NetworkX (defaults to spring_layout)\n",
      " |      :return:\n",
      " |  \n",
      " |  load(self, *, file_name: str = None, graph_string: str = None)\n",
      " |      Load the topology from file or string\n",
      " |      :param file_name:\n",
      " |      :param graph_string:\n",
      " |      :return:\n",
      " |  \n",
      " |  remove_link(self, name: str)\n",
      " |      Remove a link between interfaces\n",
      " |      :param name:\n",
      " |      :return:\n",
      " |  \n",
      " |  remove_node(self, name: str)\n",
      " |      Remove node and all its components, its interfaces and interfaces of components\n",
      " |      :param name:\n",
      " |      :return:\n",
      " |  \n",
      " |  serialize(self, file_name=None) -> str\n",
      " |      Serialize to string or to file, depending on whether file_name\n",
      " |      is provided.\n",
      " |      :param file_name:\n",
      " |      :return string containing GraphML if file_name is None:\n",
      " |  \n",
      " |  ----------------------------------------------------------------------\n",
      " |  Data descriptors inherited from Topology:\n",
      " |  \n",
      " |  __dict__\n",
      " |      dictionary for instance variables (if defined)\n",
      " |  \n",
      " |  __weakref__\n",
      " |      list of weak references to the object (if defined)\n",
      "\n"
     ]
    }
   ],
   "source": [
    "from fabrictestbed.slice_editor import ExperimentTopology, Capacities, ComponentType, LinkType, Layer\n",
    "\n",
    "experiment = ExperimentTopology()\n",
    "slice_name = \"NannaSlice\"\n",
    "\n",
    "help(ExperimentTopology)"
   ]
  },
  {
   "cell_type": "markdown",
   "id": "cc7b4ce8-5904-4bdd-9d1a-86c4e2cf95cb",
   "metadata": {
    "tags": []
   },
   "source": [
    "#### Add node1"
   ]
  },
  {
   "cell_type": "code",
   "execution_count": 8,
   "id": "5ac65cc6-507a-4295-8213-d8da8f4d983b",
   "metadata": {
    "tags": []
   },
   "outputs": [],
   "source": [
    "experiment.remove_node('UKYNode2')\n",
    "node1 = experiment.add_node(name='UKYNode2', site = 'UKY')\n",
    "\n",
    "node1_capacities = Capacities()\n",
    "node1_capacities.set_fields(core = 1, ram = 20, disk = 150)\n",
    "\n",
    "node1.set_properties(capacities = node1_capacities, image_type='qcow2', image_ref='default_ubuntu_20')\n",
    "\n",
    "node1_nvme = node1.add_component(ctype=ComponentType.NVME, model='P4510', name='n1_nvme')\n",
    "node1_gpu  = node1.add_component(ctype=ComponentType.GPU, model='RTX6000', name='n1_gpu')\n",
    "node1_nic = node1.add_component(ctype=ComponentType.SharedNIC, model='ConnectX-6', name='n1_nic')"
   ]
  },
  {
   "cell_type": "markdown",
   "id": "41bc4e35-abda-4f3f-bb67-310f08d9f673",
   "metadata": {
    "jupyter": {
     "outputs_hidden": true
    },
    "tags": []
   },
   "source": [
    "#### Add node2"
   ]
  },
  {
   "cell_type": "code",
   "execution_count": 10,
   "id": "44f108ae-cb50-4031-997c-becba3e8e9ca",
   "metadata": {},
   "outputs": [],
   "source": [
    "node2 = experiment.add_node(name='LBNLNode', site = 'LBL')\n",
    "\n",
    "#capacities\n",
    "node2_capacities = Capacities()\n",
    "node2_capacities.set_fields(core = 2, ram = 15, disk = 80)\n",
    "\n",
    "#properties\n",
    "node2.set_properties(capacities = node2_capacities, image_type = 'qcow2', image_ref='default_ubuntu_20')\n",
    "\n",
    "#components add\n",
    "node2_gpu = node2.add_component(ctype=ComponentType.GPU, model='Tesla T4', name='n2_gpu')\n"
   ]
  },
  {
   "cell_type": "markdown",
   "id": "efa2fc8c-ee73-4e1f-857c-23627b0973ae",
   "metadata": {},
   "source": [
    "#### Draw current nodes:"
   ]
  },
  {
   "cell_type": "code",
   "execution_count": 19,
   "id": "98182117-7661-4766-ac1c-3528f2b10b66",
   "metadata": {},
   "outputs": [
    {
     "data": {
      "image/png": "[encoded data removed]",
      "text/plain": [
       "<Figure size 432x288 with 1 Axes>"
      ]
     },
     "metadata": {},
     "output_type": "display_data"
    }
   ],
   "source": [
    "experiment.remove_node('UKYNode')\n",
    "experiment.draw()"
   ]
  },
  {
   "cell_type": "markdown",
   "id": "e1e632f3-5acb-4131-8204-65a5e45e936a",
   "metadata": {},
   "source": [
    "#### Create actual slice and request slice reservation"
   ]
  },
  {
   "cell_type": "code",
   "execution_count": 25,
   "id": "358a1446-e705-4770-8f3b-bd00c46bfab3",
   "metadata": {},
   "outputs": [
    {
     "name": "stdout",
     "output_type": "stream",
     "text": [
      "Request Status.OK\n",
      "Reservations: [{\n",
      "    \"graph_node_id\": \"b421d8c8-ee38-49f5-b54c-f5a036f77287\",\n",
      "    \"join_state\": \"None_\",\n",
      "    \"lease_end\": \"2021-06-03 13:36:25\",\n",
      "    \"reservation_id\": \"fa0eb56b-46d5-4402-a219-ca190d5f7439\",\n",
      "    \"reservation_state\": \"Unknown\",\n",
      "    \"resource_type\": \"VM\",\n",
      "    \"slice_id\": \"0592fb93-cf84-43bf-86d8-6ae90952fca4\"\n",
      "}, {\n",
      "    \"graph_node_id\": \"5605e6c6-bc86-4549-b8a0-2fc474054b59\",\n",
      "    \"join_state\": \"None_\",\n",
      "    \"lease_end\": \"2021-06-03 13:36:25\",\n",
      "    \"reservation_id\": \"8b3430e7-e843-4ec8-b91c-0e50b19be61d\",\n",
      "    \"reservation_state\": \"Unknown\",\n",
      "    \"resource_type\": \"VM\",\n",
      "    \"slice_id\": \"0592fb93-cf84-43bf-86d8-6ae90952fca4\"\n",
      "}]\n"
     ]
    }
   ],
   "source": [
    "#serialize into slice graph object\n",
    "slice_graph = experiment.serialize()\n",
    "\n",
    "#communicate with orchestrator for slice\n",
    "status,reservations = slice_man.create(slice_name = slice_name, slice_graph = slice_graph, ssh_key = ssh_key)\n",
    "\n",
    "#get the slice id of the newly created slice and check status to see if it went through\n",
    "slice_id = reservations[0].slice_id\n",
    "\n",
    "print(\"Request {}\".format(status))\n",
    "print(\"Reservations: {}\".format(reservations))\n",
    "\n",
    "\n",
    "#get only slice from id and status\n",
    "#request, state = slice_man.slice_status(slice_id)\n",
    "#print(\"Slice status request {}\".format(request))\n",
    "#print(\"Slice status {}\".format(state))\n"
   ]
  },
  {
   "cell_type": "code",
   "execution_count": null,
   "id": "395faab2-10a4-4e6b-acba-60c820ce7be5",
   "metadata": {},
   "outputs": [],
   "source": []
  }
 ],
 "metadata": {
  "kernelspec": {
   "display_name": "Python 3",
   "language": "python",
   "name": "python3"
  },
  "language_info": {
   "codemirror_mode": {
    "name": "ipython",
    "version": 3
   },
   "file_extension": ".py",
   "mimetype": "text/x-python",
   "name": "python",
   "nbconvert_exporter": "python",
   "pygments_lexer": "ipython3",
   "version": "3.8.8"
  }
 },
 "nbformat": 4,
 "nbformat_minor": 5
}
