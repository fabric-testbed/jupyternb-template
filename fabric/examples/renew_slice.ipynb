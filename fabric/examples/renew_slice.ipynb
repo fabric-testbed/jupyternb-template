{
 "cells": [
  {
   "cell_type": "code",
   "execution_count": 6,
   "id": "amateur-concentration",
   "metadata": {},
   "outputs": [],
   "source": [
    "import os\n",
    "import json\n",
    "\n",
    "from fabric_cm.credmgr.credmgr_proxy import CredmgrProxy\n",
    "from fabric_cf.orchestrator.orchestrator_proxy import OrchestratorProxy\n",
    "\n",
    "#Create a FABRIC Orchestrator Proxy.\n",
    "orchestrator_proxy = OrchestratorProxy(orchestrator_host=os.environ['FABRIC_ORCHESTRATOR_HOST'])\n",
    "\n",
    "#Create a Credential Manager Proxy \n",
    "credmgr_proxy = CredmgrProxy(credmgr_host=os.environ['FABRIC_CREDMGR_HOST'])\n",
    "\n",
    "#Cofigure SSH Key\n",
    "ssh_key = None\n",
    "with open (\"/home/fabric/.ssh/id_rsa.pub\", \"r\") as myfile:\n",
    "    ssh_key=myfile.read().strip()"
   ]
  },
  {
   "cell_type": "code",
   "execution_count": 7,
   "id": "chicken-credits",
   "metadata": {},
   "outputs": [
    {
     "name": "stdout",
     "output_type": "stream",
     "text": [
      "Refresh Token: NB2HI4DTHIXS6Y3JNRXWO33OFZXXEZZPN5QXK5DIGIXTCYTFMI3DEOJQGJSTIZRRGA4TMMBUMYZGMZTCGYZGENDFHAZTSZR7OR4XAZJ5OJSWM4TFONUFI33LMVXCM5DTHUYTMMJZGA3TIOBRG42DCOBGOZSXE43JN5XD25RSFYYCM3DJMZSXI2LNMU6TQNRUGAYDAMBQ\n"
     ]
    }
   ],
   "source": [
    "#Retrieve or set the refresh token (exprires 24 hours after login)\n",
    "fabric_refresh_token=None\n",
    "%store -r fabric_refresh_token\n",
    "if fabric_refresh_token is None:\n",
    "    fabric_refresh_token=os.environ['CILOGON_REFRESH_TOKEN']\n",
    "    %store fabric_refresh_token\n",
    "\n",
    "print(\"Refresh Token: {}\".format(fabric_refresh_token))"
   ]
  },
  {
   "cell_type": "code",
   "execution_count": 8,
   "id": "documentary-settle",
   "metadata": {},
   "outputs": [
    {
     "name": "stdout",
     "output_type": "stream",
     "text": [
      "New Refreash Token: NB2HI4DTHIXS6Y3JNRXWO33OFZXXEZZPN5QXK5DIGIXWGNZSGMYDCNTBMU4GCYJTMEYWENJRGQ2TAN3GMQZGGZJQGBQTMP3UPFYGKPLSMVTHEZLTNBKG623FNYTHI4Z5GE3DCOJQG42DQMZRGUZTOJTWMVZHG2LPNY6XMMROGATGY2LGMV2GS3LFHU4DMNBQGAYDAMA\n",
      "\n",
      "New ID Token: eyJ0eXAiOiJKV1QiLCJhbGciOiJSUzI1NiIsImtpZCI6ImI0MTUxNjcyMTExOTFlMmUwNWIyMmI1NGIxZDNiNzY2N2U3NjRhNzQ3NzIyMTg1ZTcyMmU1MmUxNDZmZTQzYWEifQ.eyJlbWFpbCI6Imp1bEBjbGVtc29uLmVkdSIsImNlcnRfc3ViamVjdF9kbiI6Ii9EQz1vcmcvREM9Y2lsb2dvbi9DPVVTL089Q2xlbXNvbiBVbml2ZXJzaXR5L0NOPUp1IExpbiBBNDE4Njc4OTYiLCJpZHAiOiJ1cm46bWFjZTppbmNvbW1vbjpjbGVtc29uLmVkdSIsImlkcF9uYW1lIjoiQ2xlbXNvbiBVbml2ZXJzaXR5IiwiZXBwbiI6Imp1bEBjbGVtc29uLmVkdSIsImVwdGlkIjoidXJuOm1hY2U6aW5jb21tb246Y2xlbXNvbi5lZHUhaHR0cHM6Ly9jaWxvZ29uLm9yZy9zaGliYm9sZXRoIVFPTlczeDdvTTB5cStITjkxc0dEcVp3L3BYYz0iLCJhZmZpbGlhdGlvbiI6InN0dWRlbnRAY2xlbXNvbi5lZHU7bWVtYmVyQGNsZW1zb24uZWR1O2VtcGxveWVlQGNsZW1zb24uZWR1IiwibmFtZSI6Ikp1IExpbiIsImFjciI6Imh0dHA6Ly9leGFtcGxlLm9yZy9hYy9jbGFzc2VzL21mYSIsImlzcyI6Imh0dHBzOi8vY2lsb2dvbi5vcmciLCJzdWIiOiJodHRwOi8vY2lsb2dvbi5vcmcvc2VydmVyQS91c2Vycy80MTg2Nzg5NiIsImF1ZCI6ImNpbG9nb246L2NsaWVudF9pZC8xZjExZjgyOWVjMWY0ZjIyMzM1OGY0M2IyYzYwN2I4NCIsInRva2VuX2lkIjoiaHR0cHM6Ly9jaWxvZ29uLm9yZy9vYXV0aDIvaWRUb2tlbi81OGY2Nzg0OTBkMzFhNWY1YzFjMDVjYzZkZjA3YzFhZi8xNjE5MDMwOTUyNDg2IiwiYXV0aF90aW1lIjoxNjE5MDMwOTUyLCJleHAiOjE2MTkwNzg0MzIsImlhdCI6MTYxOTA3NDgzMiwicHJvamVjdHMiOnsiU3R1ZGVudCBUZXN0aW5nIjpbInN0dWRlbnRzIiwidGVzdGluZyJdfSwicm9sZXMiOlsiZmFicmljLWFjdGl2ZS11c2VycyIsImUzZDVkMzcyLTdiMzAtNDZhNS05YjU5LTM5YTFlYzQwNjYwZS1wbSJdLCJzY29wZSI6ImFsbCJ9.QBL6magxE7ktfwBb9fhF5rcMaM7AHJhhC-vZyatO18FLTzxcG6xeOTfAu347C8glTCxI8YULWxkItFcs72xJSVT9oG2DxKr2uzMUTojqXHSniTQX2uPhlpBMItR5_RHU4CFLvZPyTJvsYPCnt2S9mbvzZxcCpaJzCfw84wZ4evx-_u7hNDPsjlCuckqj5e2sXq4fG-bloFysu2fy6R5jm_P_n16By5lVpNug_zf8gr9MPW-ZJuyXX3dzD9VN3E67TjA84-4OzAn3aRwzRki0HQE3s5OsXqVsHkVJgjqmAImPfdXVDgoyAU6iSrfyHys3D7rpyBrr7LSsztu5A_QM71l119IkbjQhVizmZ3xLIFN_fXgYRU90xaU2jimPj6GgYilDX1RihrGS7Gu-0UnII5gyieZ1xuuLI6TjiDBE4yE61u_CzgPfAWZvNZAisfx8YSjyMNmLNKrJwIM1STOlPOJOdoiw0wsWt02XoxRYWWTnTrLxdh-oHE6absNevfYiIWgEj6qfoLgmF9c4FpkMlbqAuSitq4cbbV0UBvTfSL4PgupRQXwrfNGJ863KvuszkURKTHT-rXkKPcC8rHWV2kCa1AnucIr6z7AQGEgAdG6UAMIg0-JXag3lmLnWDXQqPTt_n_8jUbwt0XIO6uViK0CfaTP02PXmKsmGCaneUCg\n",
      "Stored 'fabric_refresh_token' (str)\n"
     ]
    }
   ],
   "source": [
    "try:\n",
    "    refresh_res = credmgr_proxy.refresh(project_name='all', scope='all', refresh_token=fabric_refresh_token)\n",
    "\n",
    "    fabric_id_token=refresh_res['id_token']\n",
    "    fabric_refresh_token=refresh_res['refresh_token']\n",
    "    print(\"New Refreash Token: {}\\n\".format(fabric_refresh_token))\n",
    "    print(\"New ID Token: {}\".format(fabric_id_token))\n",
    "    %store fabric_refresh_token\n",
    "\n",
    "except Exception as e:\n",
    "    print(\"Exception occurred while getting tokens:{}\".format(e))"
   ]
  },
  {
   "cell_type": "code",
   "execution_count": 9,
   "id": "entire-halloween",
   "metadata": {},
   "outputs": [
    {
     "name": "stdout",
     "output_type": "stream",
     "text": [
      "Status: Status.OK\n",
      "Toplogy: LBNL: { cpu: 6/6, core: 88/96, ram: 1408/1536G, disk: 108600/109600G, unit: 3/3, }\n",
      "\tComponents:\n",
      "\t\tNVME-P4510:  NVME P4510 { disk: 10000/10000G, unit: 10/10, }\n",
      "\t\tGPU-RTX6000:  GPU RTX6000 { unit: 2/2, }\n",
      "\t\tGPU-Tesla T4:  GPU Tesla T4 { unit: 2/4, }\n",
      "\t\tSharedNIC-ConnectX-6:  SharedNIC ConnectX-6 { unit: 3/3, }\n",
      "\t\tSmartNIC-ConnectX-6:  SmartNIC ConnectX-6 { unit: 2/2, }\n",
      "\t\tSmartNIC-ConnectX-5:  SmartNIC ConnectX-5 { unit: 2/2, }\n",
      "\tSite Interfaces:\n",
      "RENC: { cpu: 6/6, core: 88/96, ram: 1408/1536G, disk: 108600/109600G, unit: 3/3, }\n",
      "\tComponents:\n",
      "\t\tSmartNIC-ConnectX-6:  SmartNIC ConnectX-6 { unit: 2/2, }\n",
      "\t\tSmartNIC-ConnectX-5:  SmartNIC ConnectX-5 { unit: 0/2, }\n",
      "\t\tNVME-P4510:  NVME P4510 { disk: 10000/10000G, unit: 10/10, }\n",
      "\t\tGPU-RTX6000:  GPU RTX6000 { unit: 2/2, }\n",
      "\t\tGPU-Tesla T4:  GPU Tesla T4 { unit: 4/4, }\n",
      "\t\tSharedNIC-ConnectX-6:  SharedNIC ConnectX-6 { unit: 3/3, }\n",
      "\tSite Interfaces:\n",
      "UKY: { cpu: 6/6, core: 92/96, ram: 1472/1536G, disk: 109100/109600G, unit: 3/3, }\n",
      "\tComponents:\n",
      "\t\tNVME-P4510:  NVME P4510 { disk: 10000/10000G, unit: 10/10, }\n",
      "\t\tGPU-RTX6000:  GPU RTX6000 { unit: 2/2, }\n",
      "\t\tGPU-Tesla T4:  GPU Tesla T4 { unit: 3/4, }\n",
      "\t\tSharedNIC-ConnectX-6:  SharedNIC ConnectX-6 { unit: 3/3, }\n",
      "\t\tSmartNIC-ConnectX-6:  SmartNIC ConnectX-6 { unit: 2/2, }\n",
      "\t\tSmartNIC-ConnectX-5:  SmartNIC ConnectX-5 { unit: 2/2, }\n",
      "\tSite Interfaces:\n",
      "Links:\n"
     ]
    }
   ],
   "source": [
    "status, advertised_topology = orchestrator_proxy.resources(token=fabric_id_token)\n",
    "\n",
    "print(f\"Status: {status}\")\n",
    "print(f\"Toplogy: {advertised_topology}\")"
   ]
  },
  {
   "cell_type": "markdown",
   "id": "fancy-collector",
   "metadata": {},
   "source": [
    "# Create Slice"
   ]
  },
  {
   "cell_type": "code",
   "execution_count": 11,
   "id": "virtual-philadelphia",
   "metadata": {},
   "outputs": [
    {
     "name": "stdout",
     "output_type": "stream",
     "text": [
      "Response Status Status.OK\n",
      "Reservations created [{\n",
      "    \"graph_node_id\": \"8664e238-933c-4386-923a-c43ab61ce356\",\n",
      "    \"join_state\": \"None_\",\n",
      "    \"lease_end\": \"2021-04-23 07:00:49\",\n",
      "    \"reservation_id\": \"72594d9a-39e4-4138-a915-41d064a6a0ed\",\n",
      "    \"reservation_state\": \"Unknown\",\n",
      "    \"resource_type\": \"VM\",\n",
      "    \"slice_id\": \"922555dc-c65d-4ed5-8b58-8273f934c301\"\n",
      "}, {\n",
      "    \"graph_node_id\": \"88b5e252-6de7-4888-b305-031cf9e4c130\",\n",
      "    \"join_state\": \"None_\",\n",
      "    \"lease_end\": \"2021-04-23 07:00:49\",\n",
      "    \"reservation_id\": \"91a01f03-41dc-4292-b9cd-5e3e8e0fc296\",\n",
      "    \"reservation_state\": \"Unknown\",\n",
      "    \"resource_type\": \"VM\",\n",
      "    \"slice_id\": \"922555dc-c65d-4ed5-8b58-8273f934c301\"\n",
      "}, {\n",
      "    \"graph_node_id\": \"81454b3f-0618-4922-9764-d731262708e5\",\n",
      "    \"join_state\": \"None_\",\n",
      "    \"lease_end\": \"2021-04-23 07:00:49\",\n",
      "    \"reservation_id\": \"8d295608-3da7-4599-b39f-6fa2ad4c84e9\",\n",
      "    \"reservation_state\": \"Unknown\",\n",
      "    \"resource_type\": \"VM\",\n",
      "    \"slice_id\": \"922555dc-c65d-4ed5-8b58-8273f934c301\"\n",
      "}]\n"
     ]
    }
   ],
   "source": [
    "\n",
    "\n",
    "import fim.user as fu\n",
    "# Create topology\n",
    "t = fu.ExperimentTopology()\n",
    "\n",
    "# Add node\n",
    "n1 = t.add_node(name='n1', site='RENC')\n",
    "\n",
    "# Set capacities\n",
    "cap = fu.Capacities()\n",
    "cap.set_fields(core=4, ram=64, disk=500)\n",
    "\n",
    "# Set Properties\n",
    "n1.set_properties(capacities=cap, image_type='qcow2', image_ref='default_centos_8')\n",
    "\n",
    "# Add PCI devices\n",
    "n1.add_component(ctype=fu.ComponentType.SmartNIC, model='ConnectX-5', name='nic1')\n",
    "\n",
    "# Add node\n",
    "n2 = t.add_node(name='n2', site='UKY')\n",
    "\n",
    "# Set properties\n",
    "n2.set_properties(capacities=cap, image_type='qcow2', image_ref='default_centos_8')\n",
    "\n",
    "# Add PCI devices\n",
    "n2.add_component(ctype=fu.ComponentType.GPU, model='Tesla T4', name='nic2')\n",
    "\n",
    "# Add node\n",
    "n3 = t.add_node(name='n3', site='LBNL')\n",
    "\n",
    "# Set properties\n",
    "n3.set_properties(capacities=cap, image_type='qcow2', image_ref='default_centos_8')\n",
    "\n",
    "# Add PCI devices\n",
    "n3.add_component(ctype=fu.ComponentType.GPU, model='Tesla T4', name='nic3')\n",
    "\n",
    "# Generate Slice Graph\n",
    "slice_graph = t.serialize()\n",
    "\n",
    "ssh_key = None\n",
    "with open (\"/home/fabric/.ssh/id_rsa.pub\", \"r\") as myfile:\n",
    "    ssh_key=myfile.read()\n",
    "    ssh_key=ssh_key.strip()\n",
    "\n",
    "# Request slice from Orchestrator\n",
    "status, reservations = orchestrator_proxy.create(token=fabric_id_token, slice_name='JupyterSlice1', slice_graph=slice_graph, ssh_key=ssh_key)\n",
    "\n",
    "print(\"Response Status {}\".format(status))\n",
    "print(\"Reservations created {}\".format(reservations))"
   ]
  },
  {
   "cell_type": "code",
   "execution_count": 13,
   "id": "immune-tobago",
   "metadata": {},
   "outputs": [
    {
     "name": "stdout",
     "output_type": "stream",
     "text": [
      "922555dc-c65d-4ed5-8b58-8273f934c301\n"
     ]
    }
   ],
   "source": [
    "slice_id=reservations[0].slice_id\n",
    "print(slice_id)"
   ]
  },
  {
   "cell_type": "markdown",
   "id": "champion-fight",
   "metadata": {},
   "source": [
    "# Renew Slice"
   ]
  },
  {
   "cell_type": "code",
   "execution_count": 20,
   "id": "unable-madison",
   "metadata": {},
   "outputs": [],
   "source": [
    "Status, renewId = orchestrator_proxy.renew(token=fabric_id_token, slice_id=slice_id, new_lease_end_time=\"2021-04-22 03:20:00\")"
   ]
  },
  {
   "cell_type": "code",
   "execution_count": 21,
   "id": "fluid-spencer",
   "metadata": {},
   "outputs": [
    {
     "data": {
      "text/plain": [
       "<Status.OK: 1>"
      ]
     },
     "execution_count": 21,
     "metadata": {},
     "output_type": "execute_result"
    }
   ],
   "source": [
    "status"
   ]
  },
  {
   "cell_type": "code",
   "execution_count": 22,
   "id": "sufficient-discretion",
   "metadata": {},
   "outputs": [
    {
     "data": {
      "text/plain": [
       "fabric_cf.orchestrator.swagger_client.rest.ApiException()"
      ]
     },
     "execution_count": 22,
     "metadata": {},
     "output_type": "execute_result"
    }
   ],
   "source": [
    "renewId"
   ]
  },
  {
   "cell_type": "code",
   "execution_count": null,
   "id": "magnetic-pearl",
   "metadata": {},
   "outputs": [],
   "source": []
  }
 ],
 "metadata": {
  "kernelspec": {
   "display_name": "Python 3",
   "language": "python",
   "name": "python3"
  },
  "language_info": {
   "codemirror_mode": {
    "name": "ipython",
    "version": 3
   },
   "file_extension": ".py",
   "mimetype": "text/x-python",
   "name": "python",
   "nbconvert_exporter": "python",
   "pygments_lexer": "ipython3",
   "version": "3.8.6"
  }
 },
 "nbformat": 4,
 "nbformat_minor": 5
}
