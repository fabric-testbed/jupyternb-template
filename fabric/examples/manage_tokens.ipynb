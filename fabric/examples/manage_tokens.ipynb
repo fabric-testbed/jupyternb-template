{
 "cells": [
  {
   "cell_type": "markdown",
   "metadata": {
    "jupyter": {
     "source_hidden": true
    },
    "tags": []
   },
   "source": [
    "# Managing FABRIC Tokens\n",
    "\n",
    "\n",
    "## FABRIC Proxies\n",
    "\n",
    "The FABRIC API is used via proxy objects that manage connections to the control framework. \n",
    "\n",
    "### Credential Manager Proxy\n",
    "\n",
    "Manages tokens that authorize requests. \n",
    "\n",
    "Fabric uses two kinds of tokens:\n",
    "\n",
    "- Refresh Token: When user logins to Jupyterhub after authenticating against CILogon, an initial refresh token is derived. This token is available as the environment variable `CILOGON_REFRESH_TOKEN` and is used to generate the initial Identity Token. On every refresh, Fabric Refresh Token is changed and updated. Each Refresh Token is valid for 24 hours.\n",
    "\n",
    "- Identity Token: The control/measurement framework APIs require an Identity Token. Identity tokens can be generated from a valid Refresh Token at any time. Each Identity Token is valid upto an hour.\n",
    "\n"
   ]
  },
  {
   "cell_type": "code",
   "execution_count": 1,
   "metadata": {},
   "outputs": [],
   "source": [
    "import os\n",
    "import json\n",
    "\n",
    "from fabric_cm.credmgr.credmgr_proxy import CredmgrProxy\n",
    "\n",
    "#Create a Credential Manager Proxy \n",
    "credmgr_proxy = CredmgrProxy(credmgr_host=os.environ['FABRIC_CREDMGR_HOST'])\n"
   ]
  },
  {
   "cell_type": "markdown",
   "metadata": {},
   "source": [
    "### Save the Initial Refresh Token"
   ]
  },
  {
   "cell_type": "code",
   "execution_count": 2,
   "metadata": {
    "tags": []
   },
   "outputs": [
    {
     "name": "stdout",
     "output_type": "stream",
     "text": [
      "no stored variable or alias fabric_refresh_token\n",
      "Stored 'fabric_refresh_token' (str)\n",
      "Refresh Token: NB2HI4DTHIXS6Y3JNRXWO33OFZXXEZZPN5QXK5DIGIXTEZBVG43TGNJQHFSWCZLCGEZGEZBUGYYTSODGMNRGEZTGMRRWMNR7OR4XAZJ5OJSWM4TFONUFI33LMVXCM5DTHUYTMMRSGQYDCNBSHAYTMOJGOZSXE43JN5XD25RSFYYCM3DJMZSXI2LNMU6TQNRUGAYDAMBQ\n"
     ]
    }
   ],
   "source": [
    "#Retrieve or set the refresh token (exprires 24 hours after login)\n",
    "fabric_refresh_token=None\n",
    "%store -r fabric_refresh_token\n",
    "if fabric_refresh_token is None:\n",
    "    fabric_refresh_token=os.environ['CILOGON_REFRESH_TOKEN']\n",
    "    %store fabric_refresh_token\n",
    "\n",
    "print(\"Refresh Token: {}\".format(fabric_refresh_token))"
   ]
  },
  {
   "cell_type": "markdown",
   "metadata": {},
   "source": [
    "### Refresh the ID Token\n",
    "\n",
    "ID Tokens expire one hour after refresh. "
   ]
  },
  {
   "cell_type": "code",
   "execution_count": 4,
   "metadata": {},
   "outputs": [
    {
     "name": "stdout",
     "output_type": "stream",
     "text": [
      "Exception occurred while getting tokens:tuple indices must be integers or slices, not str\n"
     ]
    }
   ],
   "source": [
    "try:\n",
    "    refresh_res = credmgr_proxy.refresh(project_name='all', scope='all', refresh_token=fabric_refresh_token)\n",
    "\n",
    "    fabric_id_token=refresh_res['id_token']\n",
    "    fabric_refresh_token=refresh_res['refresh_token']\n",
    "    print(\"New Refreash Token: {}\\n\".format(fabric_refresh_token))\n",
    "    print(\"New ID Token: {}\".format(fabric_id_token))\n",
    "    %store fabric_refresh_token\n",
    "\n",
    "except Exception as e:\n",
    "    print(\"Exception occurred while getting tokens:{}\".format(e))\n",
    "    "
   ]
  },
  {
   "cell_type": "markdown",
   "metadata": {},
   "source": [
    "## Getting Help"
   ]
  },
  {
   "cell_type": "code",
   "execution_count": 5,
   "metadata": {
    "collapsed": true,
    "jupyter": {
     "outputs_hidden": true
    },
    "tags": []
   },
   "outputs": [
    {
     "name": "stdout",
     "output_type": "stream",
     "text": [
      "Help on class CredmgrProxy in module fabric_cm.credmgr.credmgr_proxy:\n",
      "\n",
      "class CredmgrProxy(builtins.object)\n",
      " |  CredmgrProxy(credmgr_host: str)\n",
      " |  \n",
      " |  Credential Manager Proxy\n",
      " |  \n",
      " |  Methods defined here:\n",
      " |  \n",
      " |  __init__(self, credmgr_host: str)\n",
      " |      Initialize self.  See help(type(self)) for accurate signature.\n",
      " |  \n",
      " |  certs_get(self) -> Tuple[fabric_cm.credmgr.credmgr_proxy.Status, Any]\n",
      " |      Return certificates\n",
      " |  \n",
      " |  refresh(self, project_name: str, scope: str, refresh_token: str) -> Tuple[fabric_cm.credmgr.credmgr_proxy.Status, Any, str]\n",
      " |      Refresh token\n",
      " |      @param project_name project name\n",
      " |      @param scope scope\n",
      " |      @param refresh_token refresh token\n",
      " |      @returns Tuple of Status, id token and refresh token. In case of failure, id token would be None\n",
      " |      @raises Exception in case of failure\n",
      " |  \n",
      " |  revoke(self, refresh_token: str) -> Tuple[fabric_cm.credmgr.credmgr_proxy.Status, Any]\n",
      " |      Revoke token\n",
      " |      @param refresh_token refresh token\n",
      " |      @returns response\n",
      " |      @raises Exception in case of failure\n",
      " |  \n",
      " |  version_get(self) -> Tuple[fabric_cm.credmgr.credmgr_proxy.Status, Any]\n",
      " |      Return Version\n",
      " |  \n",
      " |  ----------------------------------------------------------------------\n",
      " |  Data descriptors defined here:\n",
      " |  \n",
      " |  __dict__\n",
      " |      dictionary for instance variables (if defined)\n",
      " |  \n",
      " |  __weakref__\n",
      " |      list of weak references to the object (if defined)\n",
      " |  \n",
      " |  ----------------------------------------------------------------------\n",
      " |  Data and other attributes defined here:\n",
      " |  \n",
      " |  ID_TOKEN = 'id_token'\n",
      " |  \n",
      " |  REFRESH_TOKEN = 'refresh_token'\n",
      "\n"
     ]
    }
   ],
   "source": [
    "help(CredmgrProxy)"
   ]
  },
  {
   "cell_type": "code",
   "execution_count": null,
   "metadata": {},
   "outputs": [],
   "source": []
  }
 ],
 "metadata": {
  "kernelspec": {
   "display_name": "Python 3",
   "language": "python",
   "name": "python3"
  },
  "language_info": {
   "codemirror_mode": {
    "name": "ipython",
    "version": 3
   },
   "file_extension": ".py",
   "mimetype": "text/x-python",
   "name": "python",
   "nbconvert_exporter": "python",
   "pygments_lexer": "ipython3",
   "version": "3.8.8"
  }
 },
 "nbformat": 4,
 "nbformat_minor": 4
}
