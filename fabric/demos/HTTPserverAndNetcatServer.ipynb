{
 "cells": [
  {
   "cell_type": "markdown",
   "metadata": {},
   "source": [
    "## This notebook shows how to use Orchestrator APIs for user experiments"
   ]
  },
  {
   "cell_type": "code",
   "execution_count": 1,
   "metadata": {},
   "outputs": [],
   "source": [
    "import os\n",
    "from fabric_cm.credmgr.credmgr_proxy import CredmgrProxy\n",
    "from fabric_cf.orchestrator.orchestrator_proxy import OrchestratorProxy\n",
    "import json"
   ]
  },
  {
   "cell_type": "code",
   "execution_count": 2,
   "metadata": {},
   "outputs": [],
   "source": [
    "credmgr_host = os.environ['FABRIC_CREDMGR_HOST']\n",
    "credmgr_proxy = CredmgrProxy(credmgr_host=credmgr_host)\n",
    "orchestrator_host = os.environ['FABRIC_ORCHESTRATOR_HOST']\n",
    "orchestrator_proxy = OrchestratorProxy(orchestrator_host=orchestrator_host)"
   ]
  },
  {
   "cell_type": "code",
   "execution_count": 3,
   "metadata": {},
   "outputs": [
    {
     "name": "stdout",
     "output_type": "stream",
     "text": [
      "no stored variable or alias fabric_refresh_token\n",
      "Stored 'fabric_refresh_token' (str)\n",
      "Fabric Refresh Token https://cilogon.org/oauth2/refreshToken/7a9369e8aa40dc992066859862468b25/1617408843969\n",
      "CILOGON_REFRESH_TOKEN environment variable: https://cilogon.org/oauth2/refreshToken/7a9369e8aa40dc992066859862468b25/1617408843969\n"
     ]
    }
   ],
   "source": [
    "not_found=False\n",
    "fabric_refresh_token=None\n",
    "%store -r fabric_refresh_token\n",
    "\n",
    "if fabric_refresh_token is None:\n",
    "    fabric_refresh_token=os.environ['CILOGON_REFRESH_TOKEN']\n",
    "    %store fabric_refresh_token\n",
    "print(\"Fabric Refresh Token {}\".format(fabric_refresh_token))\n",
    "print(\"CILOGON_REFRESH_TOKEN environment variable: {}\".format(os.environ['CILOGON_REFRESH_TOKEN']))"
   ]
  },
  {
   "cell_type": "code",
   "execution_count": 4,
   "metadata": {},
   "outputs": [
    {
     "name": "stdout",
     "output_type": "stream",
     "text": [
      "New Tokens received: {\"id_token\": \"eyJ0eXAiOiJKV1QiLCJhbGciOiJSUzI1NiIsImtpZCI6ImI0MTUxNjcyMTExOTFlMmUwNWIyMmI1NGIxZDNiNzY2N2U3NjRhNzQ3NzIyMTg1ZTcyMmU1MmUxNDZmZTQzYWEifQ.eyJlbWFpbCI6Im1pbmF3bUBidS5lZHUiLCJjZXJ0X3N1YmplY3RfZG4iOiIvREM9b3JnL0RDPWNpbG9nb24vQz1VUy9PPUJvc3RvbiBVbml2ZXJzaXR5L0NOPU1pbmEgV2lsbGlhbSBNb3Jjb3MgQjQxMzUwNzg3IiwiaWRwIjoiaHR0cHM6Ly9zaGliLmJ1LmVkdS9pZHAvc2hpYmJvbGV0aCIsImlkcF9uYW1lIjoiQm9zdG9uIFVuaXZlcnNpdHkiLCJlcHBuIjoibWluYXdtQGJ1LmVkdSIsImVwdGlkIjoiaHR0cHM6Ly9zaGliLmJ1LmVkdS9pZHAvc2hpYmJvbGV0aCFodHRwczovL2NpbG9nb24ub3JnL3NoaWJib2xldGghUmZSTTBqUWdkYWJHbWFNZmRkRUVZZVlHRTJzPSIsImFmZmlsaWF0aW9uIjoic3R1ZGVudEBidS5lZHU7bWVtYmVyQGJ1LmVkdSIsIm5hbWUiOiJNaW5hIFdpbGxpYW0gTW9yY29zIiwiYWNyIjoiaHR0cHM6Ly9zaGliLmJ1LmVkdS9zaW5nbGUiLCJlbnRpdGxlbWVudCI6Imh0dHA6Ly9pYW0uYnUuZWR1L2lkaW5mby84MDtodHRwOi8vaWFtLmJ1LmVkdS9tZW1iZXIvY2FzO2h0dHA6Ly9pYW0uYnUuZWR1L3JlZy9jb2xsZWdlL2dycztodHRwOi8vaWFtLmJ1LmVkdS9yZWcvY29sbGVnZS9jYXMiLCJpc3MiOiJodHRwczovL2NpbG9nb24ub3JnIiwic3ViIjoiaHR0cDovL2NpbG9nb24ub3JnL3NlcnZlckIvdXNlcnMvNDEzNTA3ODciLCJhdWQiOiJjaWxvZ29uOi9jbGllbnRfaWQvMWYxMWY4MjllYzFmNGYyMjMzNThmNDNiMmM2MDdiODQiLCJ0b2tlbl9pZCI6Imh0dHBzOi8vY2lsb2dvbi5vcmcvb2F1dGgyL2lkVG9rZW4vMWFhNDBlNGFjYTA5MzdiMjY2MjExYzRhMDU5MmNkYzMvMTYxNzQwODg0MzE3OCIsImF1dGhfdGltZSI6IjE2MTc0MDg4NDIiLCJleHAiOjE2MTc0MTI4NDIsImlhdCI6MTYxNzQwOTI0MiwicHJvamVjdHMiOnsiU3R1ZGVudCBUZXN0aW5nIjpbImdwdSIsInBlZXJpbmciLCJzdHVkZW50cyJdfSwicm9sZXMiOlsiZmFicmljLWFjdGl2ZS11c2VycyIsImUzZDVkMzcyLTdiMzAtNDZhNS05YjU5LTM5YTFlYzQwNjYwZS1wbSJdLCJzY29wZSI6ImFsbCJ9.ezAUkViI6TKj_lBLUY8oTyKZQYi-9GYgAJqwy2da9MtMaySkDCJdg3dvSboMKlQGWMehTJxlcgk1Pc50bl8RVZKRzVALDpfbO7j6f0X8XtsAcGO-yvGCJM_sofpibQxgYCJkOFBIuFeg_OX3udWSDJYInBz5EZ5RHR2hapJtG9p5gHc7a9fRBHPoaNwDwinL-BismBM0GHHu_TNzerO9UTkzgjZVENT_NMYMfD0XEoPZhbi9L1LEi1_C5OLrzuYQPdqnSXtbB3gqwCIZJL5LVLenmLc7HCkKG0XYdrh-6QseI8u9wu9-jQMxSzt0O2zHd-DvaI7UTwMatduFsnbgeRWRNy3_bkoOEp9SV50lmcGg6U9L58nJV_OMEtKlfJwk5gzvDU2pwYo2Pfc2nSx46rnWfqdV--VoERiwYQiI4hwBznvQTdyO1fS62EixCr5hv7Py2adq2wIxswdWx_RM59CKYGKvHigL5hT-Kd9e2EXyeOhj6ORtIdXTwoGRquwS3bFAuZtzf0OoPn0vjXU1SHYmGaWCp85fRg-gI8bm3e4Bxdy7iFt01SVPNNtXs7Gs0htTrFX-btesVyye7lvbsj-aWwsUfTiw4VgpXPB2hRDfqH9-OwvsYFXVm0Pla2dnx5JmiLtjBkUO_vomTVGoLRq5F1UwfcDwIcRF9yIplBQ\", \"refresh_token\": \"https://cilogon.org/oauth2/refreshToken/32c9cc8046b26f1b9ce885f1e4784a95/1617409241500\"}\n",
      "\n",
      "New Refresh Token: https://cilogon.org/oauth2/refreshToken/32c9cc8046b26f1b9ce885f1e4784a95/1617409241500\n",
      "\n",
      "Stored new Refresh Token\n",
      "Stored 'fabric_refresh_token' (str)\n"
     ]
    }
   ],
   "source": [
    "try:\n",
    "    refresh_res = credmgr_proxy.refresh(project_name='all', scope='all', refresh_token=fabric_refresh_token)\n",
    "    print(\"New Tokens received: {}\".format(json.dumps(refresh_res)))\n",
    "    fabric_id_token=refresh_res['id_token']\n",
    "    fabric_refresh_token=refresh_res['refresh_token']\n",
    "    print()\n",
    "    print(\"New Refresh Token: {}\".format(fabric_refresh_token))\n",
    "    print()\n",
    "    print(\"Stored new Refresh Token\")\n",
    "    %store fabric_refresh_token\n",
    "except Exception as e:\n",
    "    print(\"Exception occurred while getting tokens:{}\".format(e))"
   ]
  },
  {
   "cell_type": "markdown",
   "metadata": {},
   "source": [
    "### Query for available resources"
   ]
  },
  {
   "cell_type": "code",
   "execution_count": 5,
   "metadata": {},
   "outputs": [
    {
     "name": "stdout",
     "output_type": "stream",
     "text": [
      "Status: Status.OK\n",
      "Toplogy: LBNL: { cpu: 6/6, core: 92/96, ram: 1472/1536G, disk: 109100/109600G, unit: 3/3, }\n",
      "\tComponents:\n",
      "\t\tNVME-P4510:  NVME P4510 { disk: 10000/10000G, unit: 10/10, }\n",
      "\t\tGPU-RTX6000:  GPU RTX6000 { unit: 2/2, }\n",
      "\t\tGPU-Tesla T4:  GPU Tesla T4 { unit: 3/4, }\n",
      "\t\tSharedNIC-ConnectX-6:  SharedNIC ConnectX-6 { unit: 3/3, }\n",
      "\t\tSmartNIC-ConnectX-6:  SmartNIC ConnectX-6 { unit: 2/2, }\n",
      "\t\tSmartNIC-ConnectX-5:  SmartNIC ConnectX-5 { unit: 2/2, }\n",
      "\tSite Interfaces:\n",
      "RENC: { cpu: 6/6, core: 92/96, ram: 1472/1536G, disk: 109100/109600G, unit: 3/3, }\n",
      "\tComponents:\n",
      "\t\tSmartNIC-ConnectX-5:  SmartNIC ConnectX-5 { unit: 1/2, }\n",
      "\t\tNVME-P4510:  NVME P4510 { disk: 10000/10000G, unit: 10/10, }\n",
      "\t\tGPU-RTX6000:  GPU RTX6000 { unit: 2/2, }\n",
      "\t\tGPU-Tesla T4:  GPU Tesla T4 { unit: 4/4, }\n",
      "\t\tSharedNIC-ConnectX-6:  SharedNIC ConnectX-6 { unit: 3/3, }\n",
      "\t\tSmartNIC-ConnectX-6:  SmartNIC ConnectX-6 { unit: 2/2, }\n",
      "\tSite Interfaces:\n",
      "UKY: { cpu: 6/6, core: 92/96, ram: 1472/1536G, disk: 109100/109600G, unit: 3/3, }\n",
      "\tComponents:\n",
      "\t\tNVME-P4510:  NVME P4510 { disk: 10000/10000G, unit: 10/10, }\n",
      "\t\tGPU-RTX6000:  GPU RTX6000 { unit: 2/2, }\n",
      "\t\tGPU-Tesla T4:  GPU Tesla T4 { unit: 3/4, }\n",
      "\t\tSharedNIC-ConnectX-6:  SharedNIC ConnectX-6 { unit: 3/3, }\n",
      "\t\tSmartNIC-ConnectX-6:  SmartNIC ConnectX-6 { unit: 2/2, }\n",
      "\t\tSmartNIC-ConnectX-5:  SmartNIC ConnectX-5 { unit: 2/2, }\n",
      "\tSite Interfaces:\n",
      "Links:\n"
     ]
    }
   ],
   "source": [
    "status, advertised_topology = orchestrator_proxy.resources(token=fabric_id_token)\n",
    "\n",
    "print(f\"Status: {status}\")\n",
    "print(f\"Toplogy: {advertised_topology}\")"
   ]
  },
  {
   "cell_type": "code",
   "execution_count": 6,
   "metadata": {},
   "outputs": [
    {
     "data": {
      "image/png": "[encoded data removed]",
      "text/plain": [
       "<Figure size 432x288 with 1 Axes>"
      ]
     },
     "metadata": {},
     "output_type": "display_data"
    }
   ],
   "source": [
    "advertised_topology.draw()"
   ]
  },
  {
   "cell_type": "markdown",
   "metadata": {},
   "source": [
    "## Create Slice"
   ]
  },
  {
   "cell_type": "code",
   "execution_count": 7,
   "metadata": {},
   "outputs": [
    {
     "name": "stdout",
     "output_type": "stream",
     "text": [
      "Response Status Status.OK\n",
      "Reservations created [{\n",
      "    \"graph_node_id\": \"ba0b822b-0e5a-4a9d-9826-8b989fd865aa\",\n",
      "    \"join_state\": \"None_\",\n",
      "    \"lease_end\": \"2021-04-04 00:23:33\",\n",
      "    \"reservation_id\": \"a9b8b657-9af6-4c2b-9636-61f053bd0429\",\n",
      "    \"reservation_state\": \"Unknown\",\n",
      "    \"resource_type\": \"VM\",\n",
      "    \"slice_id\": \"292cd925-4d95-41cd-90ca-c165e976473b\"\n",
      "}]\n"
     ]
    }
   ],
   "source": [
    "import fim.user as fu\n",
    "# Create topology\n",
    "t = fu.ExperimentTopology()\n",
    "\n",
    "# Add node\n",
    "n1 = t.add_node(name='n1', site='RENC')\n",
    "\n",
    "# Set capacities\n",
    "cap = fu.Capacities()\n",
    "cap.set_fields(core=4, ram=64, disk=500)\n",
    "\n",
    "# Set Properties\n",
    "n1.set_properties(capacities=cap, image_type='qcow2', image_ref='default_ubuntu_20')\n",
    "\n",
    "# Add PCI devices\n",
    "n1.add_component(ctype=fu.ComponentType.SmartNIC, model='ConnectX-5', name='nic1')\n",
    "\n",
    "# # Add node\n",
    "# n2 = t.add_node(name='n2', site='UKY')\n",
    "\n",
    "# # Set properties\n",
    "# n2.set_properties(capacities=cap, image_type='qcow2', image_ref='default_centos_8')\n",
    "\n",
    "# # Add PCI devices\n",
    "# n2.add_component(ctype=fu.ComponentType.GPU, model='Tesla T4', name='nic2')\n",
    "\n",
    "# # Add node\n",
    "# n3 = t.add_node(name='n3', site='LBNL')\n",
    "\n",
    "# # Set properties\n",
    "# n3.set_properties(capacities=cap, image_type='qcow2', image_ref='default_centos_8')\n",
    "\n",
    "# # Add PCI devices\n",
    "# n3.add_component(ctype=fu.ComponentType.GPU, model='Tesla T4', name='nic3')\n",
    "\n",
    "# Generate Slice Graph\n",
    "slice_graph = t.serialize()\n",
    "\n",
    "ssh_key = None\n",
    "with open (\"/home/fabric/.ssh/id_rsa.pub\", \"r\") as myfile:\n",
    "    ssh_key=myfile.read()\n",
    "    ssh_key=ssh_key.strip()\n",
    "\n",
    "# Request slice from Orchestrator\n",
    "status, reservations = orchestrator_proxy.create(token=fabric_id_token, slice_name='JupyterSlice2', slice_graph=slice_graph, ssh_key=ssh_key)\n",
    "\n",
    "print(\"Response Status {}\".format(status))\n",
    "print(\"Reservations created {}\".format(reservations))"
   ]
  },
  {
   "cell_type": "code",
   "execution_count": 8,
   "metadata": {},
   "outputs": [],
   "source": [
    "# Set the Slice ID from output of the above command\n",
    "slice_id=reservations[0].slice_id"
   ]
  },
  {
   "cell_type": "markdown",
   "metadata": {},
   "source": [
    "## Query Slices"
   ]
  },
  {
   "cell_type": "code",
   "execution_count": 9,
   "metadata": {},
   "outputs": [
    {
     "name": "stdout",
     "output_type": "stream",
     "text": [
      "Response Status Status.OK\n",
      "Slices [{\n",
      "    \"graph_id\": \"5943902f-f6f9-4dc9-8b78-2b0fea56e151\",\n",
      "    \"slice_id\": \"292cd925-4d95-41cd-90ca-c165e976473b\",\n",
      "    \"slice_name\": \"JupyterSlice2\",\n",
      "    \"slice_state\": \"StableOK\"\n",
      "}]\n"
     ]
    }
   ],
   "source": [
    "status, slices = orchestrator_proxy.slices(token=fabric_id_token)\n",
    "\n",
    "print(\"Response Status {}\".format(status))\n",
    "print(\"Slices {}\".format(slices))"
   ]
  },
  {
   "cell_type": "markdown",
   "metadata": {},
   "source": [
    "## Query Slice"
   ]
  },
  {
   "cell_type": "code",
   "execution_count": 10,
   "metadata": {},
   "outputs": [
    {
     "name": "stdout",
     "output_type": "stream",
     "text": [
      "Response Status Status.OK\n",
      "Response received n1[VM]: { core: 4, ram: 64G, disk: 500G, }\n",
      "Links:\n"
     ]
    }
   ],
   "source": [
    "status, slice_obj = orchestrator_proxy.get_slice(token=fabric_id_token, slice_id=slice_id)\n",
    "\n",
    "print(\"Response Status {}\".format(status))\n",
    "print(\"Response received {}\".format(slice_obj))"
   ]
  },
  {
   "cell_type": "code",
   "execution_count": 11,
   "metadata": {},
   "outputs": [
    {
     "data": {
      "image/png": "[encoded data removed]",
      "text/plain": [
       "<Figure size 432x288 with 1 Axes>"
      ]
     },
     "metadata": {},
     "output_type": "display_data"
    }
   ],
   "source": [
    "slice_obj.draw()"
   ]
  },
  {
   "cell_type": "markdown",
   "metadata": {},
   "source": [
    "## Query Slivers"
   ]
  },
  {
   "cell_type": "code",
   "execution_count": 12,
   "metadata": {},
   "outputs": [
    {
     "name": "stdout",
     "output_type": "stream",
     "text": [
      "Response Status Status.OK\n",
      "Reservations [{\n",
      "    \"capacities\": \"{\\\"core\\\": 4, \\\"disk\\\": 500, \\\"ram\\\": 64}\",\n",
      "    \"graph_node_id\": \"ba0b822b-0e5a-4a9d-9826-8b989fd865aa\",\n",
      "    \"join_state\": \"NoJoin\",\n",
      "    \"labels\": \"\",\n",
      "    \"lease_end\": \"2021-04-04 00:23:33\",\n",
      "    \"management_ip\": \"152.54.15.46\",\n",
      "    \"name\": \"n1\",\n",
      "    \"reservation_id\": \"a9b8b657-9af6-4c2b-9636-61f053bd0429\",\n",
      "    \"reservation_state\": \"Active\",\n",
      "    \"resource_type\": \"VM\",\n",
      "    \"site\": \"RENC\",\n",
      "    \"slice_id\": \"292cd925-4d95-41cd-90ca-c165e976473b\"\n",
      "}]\n"
     ]
    }
   ],
   "source": [
    "status, reservations = orchestrator_proxy.slivers(token=fabric_id_token, slice_id=slice_id)\n",
    "\n",
    "print(\"Response Status {}\".format(status))\n",
    "print(\"Reservations {}\".format(reservations))"
   ]
  },
  {
   "cell_type": "code",
   "execution_count": 13,
   "metadata": {},
   "outputs": [],
   "source": [
    "# Set the Sliver ID from output of the above command by capturing reservation_id\n",
    "sliver_id=reservations[0].reservation_id"
   ]
  },
  {
   "cell_type": "markdown",
   "metadata": {},
   "source": [
    "## Query Sliver"
   ]
  },
  {
   "cell_type": "code",
   "execution_count": 14,
   "metadata": {},
   "outputs": [
    {
     "name": "stdout",
     "output_type": "stream",
     "text": [
      "Response Status Status.OK\n",
      "Reservation [{\n",
      "    \"capacities\": \"{\\\"core\\\": 4, \\\"disk\\\": 500, \\\"ram\\\": 64}\",\n",
      "    \"graph_node_id\": \"ba0b822b-0e5a-4a9d-9826-8b989fd865aa\",\n",
      "    \"join_state\": \"NoJoin\",\n",
      "    \"labels\": \"\",\n",
      "    \"lease_end\": \"2021-04-04 00:23:33\",\n",
      "    \"management_ip\": \"152.54.15.46\",\n",
      "    \"name\": \"n1\",\n",
      "    \"reservation_id\": \"a9b8b657-9af6-4c2b-9636-61f053bd0429\",\n",
      "    \"reservation_state\": \"Active\",\n",
      "    \"resource_type\": \"VM\",\n",
      "    \"site\": \"RENC\",\n",
      "    \"slice_id\": \"292cd925-4d95-41cd-90ca-c165e976473b\"\n",
      "}]\n"
     ]
    }
   ],
   "source": [
    "status, reservation = orchestrator_proxy.slivers(token=fabric_id_token, slice_id=slice_id, sliver_id=sliver_id)\n",
    "\n",
    "print(\"Response Status {}\".format(status))\n",
    "print(\"Reservation {}\".format(reservation))"
   ]
  },
  {
   "cell_type": "markdown",
   "metadata": {},
   "source": [
    "## Slice Status"
   ]
  },
  {
   "cell_type": "code",
   "execution_count": 15,
   "metadata": {},
   "outputs": [
    {
     "name": "stdout",
     "output_type": "stream",
     "text": [
      "Response Status Status.OK\n",
      "Slice Status {\n",
      "    \"graph_id\": \"5943902f-f6f9-4dc9-8b78-2b0fea56e151\",\n",
      "    \"slice_id\": \"292cd925-4d95-41cd-90ca-c165e976473b\",\n",
      "    \"slice_name\": \"JupyterSlice2\",\n",
      "    \"slice_state\": \"StableOK\"\n",
      "}\n"
     ]
    }
   ],
   "source": [
    "status, slice_status = orchestrator_proxy.slice_status(token=fabric_id_token, slice_id=slice_id)\n",
    "\n",
    "print(\"Response Status {}\".format(status))\n",
    "print(\"Slice Status {}\".format(slice_status))"
   ]
  },
  {
   "cell_type": "markdown",
   "metadata": {},
   "source": [
    "## Sliver Status"
   ]
  },
  {
   "cell_type": "code",
   "execution_count": 16,
   "metadata": {},
   "outputs": [
    {
     "name": "stdout",
     "output_type": "stream",
     "text": [
      "Response Status Status.OK\n",
      "Reservation Status {\n",
      "    \"capacities\": \"{\\\"core\\\": 4, \\\"disk\\\": 500, \\\"ram\\\": 64}\",\n",
      "    \"graph_node_id\": \"ba0b822b-0e5a-4a9d-9826-8b989fd865aa\",\n",
      "    \"join_state\": \"NoJoin\",\n",
      "    \"labels\": \"\",\n",
      "    \"lease_end\": \"2021-04-04 00:23:33\",\n",
      "    \"management_ip\": \"152.54.15.46\",\n",
      "    \"name\": \"n1\",\n",
      "    \"notices\": \"Reservation a9b8b657-9af6-4c2b-9636-61f053bd0429 (Slice JupyterSlice2(292cd925-4d95-41cd-90ca-c165e976473b) Graph Id:5943902f-f6f9-4dc9-8b78-2b0fea56e151 ) is in state [Active,None_]\\n\\nLast ticket update: \\nTicket events: \\nLast ticket update: \\nTicket events: \",\n",
      "    \"reservation_id\": \"a9b8b657-9af6-4c2b-9636-61f053bd0429\",\n",
      "    \"reservation_state\": \"Active\",\n",
      "    \"resource_type\": \"VM\",\n",
      "    \"site\": \"RENC\",\n",
      "    \"slice_id\": \"292cd925-4d95-41cd-90ca-c165e976473b\"\n",
      "}\n"
     ]
    }
   ],
   "source": [
    "status, reservation_status = orchestrator_proxy.sliver_status(token=fabric_id_token, slice_id=slice_id, sliver_id=sliver_id)\n",
    "\n",
    "print(\"Response Status {}\".format(status))\n",
    "print(\"Reservation Status {}\".format(reservation_status))"
   ]
  },
  {
   "cell_type": "code",
   "execution_count": 17,
   "metadata": {},
   "outputs": [],
   "source": [
    "import paramiko"
   ]
  },
  {
   "cell_type": "code",
   "execution_count": 18,
   "metadata": {},
   "outputs": [
    {
     "data": {
      "text/plain": [
       "<paramiko.client.SSHClient at 0x7fd7182acb50>"
      ]
     },
     "execution_count": 18,
     "metadata": {},
     "output_type": "execute_result"
    }
   ],
   "source": [
    "key = paramiko.RSAKey.from_private_key_file(\"/home/fabric/.ssh/id_rsa\")\n",
    "client = paramiko.SSHClient()\n",
    "client.load_system_host_keys()\n",
    "client.set_missing_host_key_policy(paramiko.MissingHostKeyPolicy())\n",
    "\n",
    "client.set_missing_host_key_policy(paramiko.AutoAddPolicy())\n",
    "client.connect(\"152.54.15.46\",username='ubuntu',pkey = key)\n",
    "\n",
    "client\n",
    "# stdin, stdout, stderr = client.exec_command('echo \\\"' + script + '\\\" > script.sh; chmod +x script.sh; sudo ./script.sh')\n"
   ]
  },
  {
   "cell_type": "markdown",
   "metadata": {},
   "source": [
    "# Working on the reserved machine starts here"
   ]
  },
  {
   "cell_type": "markdown",
   "metadata": {},
   "source": [
    "## First, some few test commands."
   ]
  },
  {
   "cell_type": "code",
   "execution_count": 21,
   "metadata": {},
   "outputs": [
    {
     "name": "stdout",
     "output_type": "stream",
     "text": [
      "b'Distributor ID:\\tUbuntu\\nDescription:\\tUbuntu 20.04.2 LTS\\nRelease:\\t20.04\\nCodename:\\tfocal\\n'\n",
      "b'No LSB modules are available.\\n'\n"
     ]
    }
   ],
   "source": [
    "stdin, stdout, stderr = client.exec_command('lsb_release -a')\n",
    "print (stdout.read())\n",
    "print (stderr.read())"
   ]
  },
  {
   "cell_type": "code",
   "execution_count": 22,
   "metadata": {},
   "outputs": [
    {
     "name": "stdout",
     "output_type": "stream",
     "text": [
      "b'5.4.0-70-generic\\n'\n",
      "b''\n"
     ]
    }
   ],
   "source": [
    "stdin, stdout, stderr = client.exec_command('uname -r')\n",
    "print (stdout.read())\n",
    "print (stderr.read())"
   ]
  },
  {
   "cell_type": "code",
   "execution_count": 26,
   "metadata": {},
   "outputs": [
    {
     "name": "stdout",
     "output_type": "stream",
     "text": [
      "Distributor ID:\tUbuntu\n",
      "Description:\tUbuntu 20.04.2 LTS\n",
      "Release:\t20.04\n",
      "Codename:\tfocal\n",
      "\n",
      "No LSB modules are available.\n",
      "\n"
     ]
    }
   ],
   "source": [
    "stdin, stdout, stderr = client.exec_command('lsb_release -a')\n",
    "print(stdout.read().decode(\"utf-8\"))\n",
    "print(stderr.read().decode(\"utf-8\"))"
   ]
  },
  {
   "cell_type": "markdown",
   "metadata": {},
   "source": [
    "## We're going to set up an HTTP server. So we need to install apache2."
   ]
  },
  {
   "cell_type": "code",
   "execution_count": 27,
   "metadata": {},
   "outputs": [
    {
     "name": "stdout",
     "output_type": "stream",
     "text": [
      "Reading package lists...\n",
      "Building dependency tree...\n",
      "Reading state information...\n",
      "The following additional packages will be installed:\n",
      "  apache2-bin apache2-data apache2-utils libapr1 libaprutil1\n",
      "  libaprutil1-dbd-sqlite3 libaprutil1-ldap libjansson4 liblua5.2-0 ssl-cert\n",
      "Suggested packages:\n",
      "  apache2-doc apache2-suexec-pristine | apache2-suexec-custom www-browser\n",
      "  openssl-blacklist\n",
      "The following NEW packages will be installed:\n",
      "  apache2 apache2-bin apache2-data apache2-utils libapr1 libaprutil1\n",
      "  libaprutil1-dbd-sqlite3 libaprutil1-ldap libjansson4 liblua5.2-0 ssl-cert\n",
      "0 upgraded, 11 newly installed, 0 to remove and 0 not upgraded.\n",
      "Need to get 1865 kB of archives.\n",
      "After this operation, 8080 kB of additional disk space will be used.\n",
      "Get:1 http://nova.clouds.archive.ubuntu.com/ubuntu focal/main amd64 libapr1 amd64 1.6.5-1ubuntu1 [91.4 kB]\n",
      "Get:2 http://nova.clouds.archive.ubuntu.com/ubuntu focal/main amd64 libaprutil1 amd64 1.6.1-4ubuntu2 [84.7 kB]\n",
      "Get:3 http://nova.clouds.archive.ubuntu.com/ubuntu focal/main amd64 libaprutil1-dbd-sqlite3 amd64 1.6.1-4ubuntu2 [10.5 kB]\n",
      "Get:4 http://nova.clouds.archive.ubuntu.com/ubuntu focal/main amd64 libaprutil1-ldap amd64 1.6.1-4ubuntu2 [8736 B]\n",
      "Get:5 http://nova.clouds.archive.ubuntu.com/ubuntu focal/main amd64 libjansson4 amd64 2.12-1build1 [28.9 kB]\n",
      "Get:6 http://nova.clouds.archive.ubuntu.com/ubuntu focal/main amd64 liblua5.2-0 amd64 5.2.4-1.1build3 [106 kB]\n",
      "Get:7 http://nova.clouds.archive.ubuntu.com/ubuntu focal-updates/main amd64 apache2-bin amd64 2.4.41-4ubuntu3.1 [1180 kB]\n",
      "Get:8 http://nova.clouds.archive.ubuntu.com/ubuntu focal-updates/main amd64 apache2-data all 2.4.41-4ubuntu3.1 [158 kB]\n",
      "Get:9 http://nova.clouds.archive.ubuntu.com/ubuntu focal-updates/main amd64 apache2-utils amd64 2.4.41-4ubuntu3.1 [83.8 kB]\n",
      "Get:10 http://nova.clouds.archive.ubuntu.com/ubuntu focal-updates/main amd64 apache2 amd64 2.4.41-4ubuntu3.1 [95.5 kB]\n",
      "Get:11 http://nova.clouds.archive.ubuntu.com/ubuntu focal/main amd64 ssl-cert all 1.0.39 [17.0 kB]\n",
      "Fetched 1865 kB in 1s (1709 kB/s)\n",
      "Selecting previously unselected package libapr1:amd64.\n",
      "(Reading database ... 63441 files and directories currently installed.)\n",
      "Preparing to unpack .../00-libapr1_1.6.5-1ubuntu1_amd64.deb ...\n",
      "Unpacking libapr1:amd64 (1.6.5-1ubuntu1) ...\n",
      "Selecting previously unselected package libaprutil1:amd64.\n",
      "Preparing to unpack .../01-libaprutil1_1.6.1-4ubuntu2_amd64.deb ...\n",
      "Unpacking libaprutil1:amd64 (1.6.1-4ubuntu2) ...\n",
      "Selecting previously unselected package libaprutil1-dbd-sqlite3:amd64.\n",
      "Preparing to unpack .../02-libaprutil1-dbd-sqlite3_1.6.1-4ubuntu2_amd64.deb ...\n",
      "Unpacking libaprutil1-dbd-sqlite3:amd64 (1.6.1-4ubuntu2) ...\n",
      "Selecting previously unselected package libaprutil1-ldap:amd64.\n",
      "Preparing to unpack .../03-libaprutil1-ldap_1.6.1-4ubuntu2_amd64.deb ...\n",
      "Unpacking libaprutil1-ldap:amd64 (1.6.1-4ubuntu2) ...\n",
      "Selecting previously unselected package libjansson4:amd64.\n",
      "Preparing to unpack .../04-libjansson4_2.12-1build1_amd64.deb ...\n",
      "Unpacking libjansson4:amd64 (2.12-1build1) ...\n",
      "Selecting previously unselected package liblua5.2-0:amd64.\n",
      "Preparing to unpack .../05-liblua5.2-0_5.2.4-1.1build3_amd64.deb ...\n",
      "Unpacking liblua5.2-0:amd64 (5.2.4-1.1build3) ...\n",
      "Selecting previously unselected package apache2-bin.\n",
      "Preparing to unpack .../06-apache2-bin_2.4.41-4ubuntu3.1_amd64.deb ...\n",
      "Unpacking apache2-bin (2.4.41-4ubuntu3.1) ...\n",
      "Selecting previously unselected package apache2-data.\n",
      "Preparing to unpack .../07-apache2-data_2.4.41-4ubuntu3.1_all.deb ...\n",
      "Unpacking apache2-data (2.4.41-4ubuntu3.1) ...\n",
      "Selecting previously unselected package apache2-utils.\n",
      "Preparing to unpack .../08-apache2-utils_2.4.41-4ubuntu3.1_amd64.deb ...\n",
      "Unpacking apache2-utils (2.4.41-4ubuntu3.1) ...\n",
      "Selecting previously unselected package apache2.\n",
      "Preparing to unpack .../09-apache2_2.4.41-4ubuntu3.1_amd64.deb ...\n",
      "Unpacking apache2 (2.4.41-4ubuntu3.1) ...\n",
      "Selecting previously unselected package ssl-cert.\n",
      "Preparing to unpack .../10-ssl-cert_1.0.39_all.deb ...\n",
      "Unpacking ssl-cert (1.0.39) ...\n",
      "Setting up libapr1:amd64 (1.6.5-1ubuntu1) ...\n",
      "Setting up libjansson4:amd64 (2.12-1build1) ...\n",
      "Setting up ssl-cert (1.0.39) ...\n",
      "debconf: unable to initialize frontend: Dialog\n",
      "debconf: (Dialog frontend will not work on a dumb terminal, an emacs shell buffer, or without a controlling terminal.)\n",
      "debconf: falling back to frontend: Readline\n",
      "Setting up liblua5.2-0:amd64 (5.2.4-1.1build3) ...\n",
      "Setting up apache2-data (2.4.41-4ubuntu3.1) ...\n",
      "Setting up libaprutil1:amd64 (1.6.1-4ubuntu2) ...\n",
      "Setting up libaprutil1-ldap:amd64 (1.6.1-4ubuntu2) ...\n",
      "Setting up libaprutil1-dbd-sqlite3:amd64 (1.6.1-4ubuntu2) ...\n",
      "Setting up apache2-utils (2.4.41-4ubuntu3.1) ...\n",
      "Setting up apache2-bin (2.4.41-4ubuntu3.1) ...\n",
      "Setting up apache2 (2.4.41-4ubuntu3.1) ...\n",
      "Enabling module mpm_event.\n",
      "Enabling module authz_core.\n",
      "Enabling module authz_host.\n",
      "Enabling module authn_core.\n",
      "Enabling module auth_basic.\n",
      "Enabling module access_compat.\n",
      "Enabling module authn_file.\n",
      "Enabling module authz_user.\n",
      "Enabling module alias.\n",
      "Enabling module dir.\n",
      "Enabling module autoindex.\n",
      "Enabling module env.\n",
      "Enabling module mime.\n",
      "Enabling module negotiation.\n",
      "Enabling module setenvif.\n",
      "Enabling module filter.\n",
      "Enabling module deflate.\n",
      "Enabling module status.\n",
      "Enabling module reqtimeout.\n",
      "Enabling conf charset.\n",
      "Enabling conf localized-error-pages.\n",
      "Enabling conf other-vhosts-access-log.\n",
      "Enabling conf security.\n",
      "Enabling conf serve-cgi-bin.\n",
      "Enabling site 000-default.\n",
      "Created symlink /etc/systemd/system/multi-user.target.wants/apache2.service → /lib/systemd/system/apache2.service.\n",
      "Created symlink /etc/systemd/system/multi-user.target.wants/apache-htcacheclean.service → /lib/systemd/system/apache-htcacheclean.service.\n",
      "Processing triggers for ufw (0.36-6) ...\n",
      "Processing triggers for systemd (245.4-4ubuntu3.5) ...\n",
      "Processing triggers for man-db (2.9.1-1) ...\n",
      "Processing triggers for libc-bin (2.31-0ubuntu9.2) ...\n",
      "\n",
      "\n",
      "WARNING: apt does not have a stable CLI interface. Use with caution in scripts.\n",
      "\n",
      "debconf: unable to initialize frontend: Dialog\n",
      "debconf: (Dialog frontend will not work on a dumb terminal, an emacs shell buffer, or without a controlling terminal.)\n",
      "debconf: falling back to frontend: Readline\n",
      "debconf: unable to initialize frontend: Readline\n",
      "debconf: (This frontend requires a controlling tty.)\n",
      "debconf: falling back to frontend: Teletype\n",
      "dpkg-preconfigure: unable to re-open stdin: \n",
      "\n"
     ]
    }
   ],
   "source": [
    "stdin, stdout, stderr = client.exec_command('sudo apt -y install apache2')\n",
    "print(stdout.read().decode(\"utf-8\"))\n",
    "print(stderr.read().decode(\"utf-8\"))"
   ]
  },
  {
   "cell_type": "markdown",
   "metadata": {},
   "source": [
    "## Here I try to install \"imgkit\" on the notebook itself, but I'm getting an error. In the end, I decided not to use it anyway."
   ]
  },
  {
   "cell_type": "code",
   "execution_count": 29,
   "metadata": {},
   "outputs": [
    {
     "name": "stdout",
     "output_type": "stream",
     "text": [
      "Collecting imgkit\n",
      "  Downloading imgkit-1.1.0.tar.gz (10 kB)\n",
      "Building wheels for collected packages: imgkit\n",
      "  Building wheel for imgkit (setup.py) ... \u001b[?25ldone\n",
      "\u001b[?25h  Created wheel for imgkit: filename=imgkit-1.1.0-py3-none-any.whl size=6798 sha256=38fb01f80c9ff34146d13ce8ee9a3c303da553bf05de1629643180fdbe047aae\n",
      "  Stored in directory: /home/fabric/.cache/pip/wheels/1d/5d/8c/7884b710409af91b016c010839b43d8eec7331bf2ec3f5d495\n",
      "Successfully built imgkit\n",
      "\u001b[31mERROR: Error while checking for conflicts. Please file an issue on pip's issue tracker: https://github.com/pypa/pip/issues/new\n",
      "Traceback (most recent call last):\n",
      "  File \"/opt/conda/lib/python3.8/site-packages/pip/_vendor/pkg_resources/__init__.py\", line 3021, in _dep_map\n",
      "    return self.__dep_map\n",
      "  File \"/opt/conda/lib/python3.8/site-packages/pip/_vendor/pkg_resources/__init__.py\", line 2815, in __getattr__\n",
      "    raise AttributeError(attr)\n",
      "AttributeError: _DistInfoDistribution__dep_map\n",
      "\n",
      "During handling of the above exception, another exception occurred:\n",
      "\n",
      "Traceback (most recent call last):\n",
      "  File \"/opt/conda/lib/python3.8/site-packages/pip/_vendor/pkg_resources/__init__.py\", line 3012, in _parsed_pkg_info\n",
      "    return self._pkg_info\n",
      "  File \"/opt/conda/lib/python3.8/site-packages/pip/_vendor/pkg_resources/__init__.py\", line 2815, in __getattr__\n",
      "    raise AttributeError(attr)\n",
      "AttributeError: _pkg_info\n",
      "\n",
      "During handling of the above exception, another exception occurred:\n",
      "\n",
      "Traceback (most recent call last):\n",
      "  File \"/opt/conda/lib/python3.8/site-packages/pip/_internal/commands/install.py\", line 514, in _determine_conflicts\n",
      "    return check_install_conflicts(to_install)\n",
      "  File \"/opt/conda/lib/python3.8/site-packages/pip/_internal/operations/check.py\", line 105, in check_install_conflicts\n",
      "    package_set, _ = create_package_set_from_installed()\n",
      "  File \"/opt/conda/lib/python3.8/site-packages/pip/_internal/operations/check.py\", line 47, in create_package_set_from_installed\n",
      "    package_set[name] = PackageDetails(dist.version, dist.requires())\n",
      "  File \"/opt/conda/lib/python3.8/site-packages/pip/_vendor/pkg_resources/__init__.py\", line 2736, in requires\n",
      "    dm = self._dep_map\n",
      "  File \"/opt/conda/lib/python3.8/site-packages/pip/_vendor/pkg_resources/__init__.py\", line 3023, in _dep_map\n",
      "    self.__dep_map = self._compute_dependencies()\n",
      "  File \"/opt/conda/lib/python3.8/site-packages/pip/_vendor/pkg_resources/__init__.py\", line 3032, in _compute_dependencies\n",
      "    for req in self._parsed_pkg_info.get_all('Requires-Dist') or []:\n",
      "  File \"/opt/conda/lib/python3.8/site-packages/pip/_vendor/pkg_resources/__init__.py\", line 3014, in _parsed_pkg_info\n",
      "    metadata = self.get_metadata(self.PKG_INFO)\n",
      "  File \"/opt/conda/lib/python3.8/site-packages/pip/_vendor/pkg_resources/__init__.py\", line 1895, in get_metadata\n",
      "    raise KeyError(\"No metadata except PKG-INFO is available\")\n",
      "KeyError: 'No metadata except PKG-INFO is available'\u001b[0m\n",
      "Installing collected packages: imgkit\n",
      "Successfully installed imgkit-1.1.0\n"
     ]
    }
   ],
   "source": [
    "!pip install imgkit"
   ]
  },
  {
   "cell_type": "markdown",
   "metadata": {},
   "source": [
    "## Let's look at the default file that apache2 hosts."
   ]
  },
  {
   "cell_type": "code",
   "execution_count": 35,
   "metadata": {},
   "outputs": [
    {
     "name": "stdout",
     "output_type": "stream",
     "text": [
      "\n",
      "<!DOCTYPE html PUBLIC \"-//W3C//DTD XHTML 1.0 Transitional//EN\" \"http://www.w3.org/TR/xhtml1/DTD/xhtml1-transitional.dtd\">\n",
      "<html xmlns=\"http://www.w3.org/1999/xhtml\">\n",
      "  <!--\n",
      "    Modified from the Debian original for Ubuntu\n",
      "    Last updated: 2016-11-16\n",
      "    See: https://launchpad.net/bugs/1288690\n",
      "  -->\n",
      "  <head>\n",
      "    <meta http-equiv=\"Content-Type\" content=\"text/html; charset=UTF-8\" />\n",
      "    <title>Apache2 Ubuntu Default Page: It works</title>\n",
      "    <style type=\"text/css\" media=\"screen\">\n",
      "  * {\n",
      "    margin: 0px 0px 0px 0px;\n",
      "    padding: 0px 0px 0px 0px;\n",
      "  }\n",
      "\n",
      "  body, html {\n",
      "    padding: 3px 3px 3px 3px;\n",
      "\n",
      "    background-color: #D8DBE2;\n",
      "\n",
      "    font-family: Verdana, sans-serif;\n",
      "    font-size: 11pt;\n",
      "    text-align: center;\n",
      "  }\n",
      "\n",
      "  div.main_page {\n",
      "    position: relative;\n",
      "    display: table;\n",
      "\n",
      "    width: 800px;\n",
      "\n",
      "    margin-bottom: 3px;\n",
      "    margin-left: auto;\n",
      "    margin-right: auto;\n",
      "    padding: 0px 0px 0px 0px;\n",
      "\n",
      "    border-width: 2px;\n",
      "    border-color: #212738;\n",
      "    border-style: solid;\n",
      "\n",
      "    background-color: #FFFFFF;\n",
      "\n",
      "    text-align: center;\n",
      "  }\n",
      "\n",
      "  div.page_header {\n",
      "    height: 99px;\n",
      "    width: 100%;\n",
      "\n",
      "    background-color: #F5F6F7;\n",
      "  }\n",
      "\n",
      "  div.page_header span {\n",
      "    margin: 15px 0px 0px 50px;\n",
      "\n",
      "    font-size: 180%;\n",
      "    font-weight: bold;\n",
      "  }\n",
      "\n",
      "  div.page_header img {\n",
      "    margin: 3px 0px 0px 40px;\n",
      "\n",
      "    border: 0px 0px 0px;\n",
      "  }\n",
      "\n",
      "  div.table_of_contents {\n",
      "    clear: left;\n",
      "\n",
      "    min-width: 200px;\n",
      "\n",
      "    margin: 3px 3px 3px 3px;\n",
      "\n",
      "    background-color: #FFFFFF;\n",
      "\n",
      "    text-align: left;\n",
      "  }\n",
      "\n",
      "  div.table_of_contents_item {\n",
      "    clear: left;\n",
      "\n",
      "    width: 100%;\n",
      "\n",
      "    margin: 4px 0px 0px 0px;\n",
      "\n",
      "    background-color: #FFFFFF;\n",
      "\n",
      "    color: #000000;\n",
      "    text-align: left;\n",
      "  }\n",
      "\n",
      "  div.table_of_contents_item a {\n",
      "    margin: 6px 0px 0px 6px;\n",
      "  }\n",
      "\n",
      "  div.content_section {\n",
      "    margin: 3px 3px 3px 3px;\n",
      "\n",
      "    background-color: #FFFFFF;\n",
      "\n",
      "    text-align: left;\n",
      "  }\n",
      "\n",
      "  div.content_section_text {\n",
      "    padding: 4px 8px 4px 8px;\n",
      "\n",
      "    color: #000000;\n",
      "    font-size: 100%;\n",
      "  }\n",
      "\n",
      "  div.content_section_text pre {\n",
      "    margin: 8px 0px 8px 0px;\n",
      "    padding: 8px 8px 8px 8px;\n",
      "\n",
      "    border-width: 1px;\n",
      "    border-style: dotted;\n",
      "    border-color: #000000;\n",
      "\n",
      "    background-color: #F5F6F7;\n",
      "\n",
      "    font-style: italic;\n",
      "  }\n",
      "\n",
      "  div.content_section_text p {\n",
      "    margin-bottom: 6px;\n",
      "  }\n",
      "\n",
      "  div.content_section_text ul, div.content_section_text li {\n",
      "    padding: 4px 8px 4px 16px;\n",
      "  }\n",
      "\n",
      "  div.section_header {\n",
      "    padding: 3px 6px 3px 6px;\n",
      "\n",
      "    background-color: #8E9CB2;\n",
      "\n",
      "    color: #FFFFFF;\n",
      "    font-weight: bold;\n",
      "    font-size: 112%;\n",
      "    text-align: center;\n",
      "  }\n",
      "\n",
      "  div.section_header_red {\n",
      "    background-color: #CD214F;\n",
      "  }\n",
      "\n",
      "  div.section_header_grey {\n",
      "    background-color: #9F9386;\n",
      "  }\n",
      "\n",
      "  .floating_element {\n",
      "    position: relative;\n",
      "    float: left;\n",
      "  }\n",
      "\n",
      "  div.table_of_contents_item a,\n",
      "  div.content_section_text a {\n",
      "    text-decoration: none;\n",
      "    font-weight: bold;\n",
      "  }\n",
      "\n",
      "  div.table_of_contents_item a:link,\n",
      "  div.table_of_contents_item a:visited,\n",
      "  div.table_of_contents_item a:active {\n",
      "    color: #000000;\n",
      "  }\n",
      "\n",
      "  div.table_of_contents_item a:hover {\n",
      "    background-color: #000000;\n",
      "\n",
      "    color: #FFFFFF;\n",
      "  }\n",
      "\n",
      "  div.content_section_text a:link,\n",
      "  div.content_section_text a:visited,\n",
      "   div.content_section_text a:active {\n",
      "    background-color: #DCDFE6;\n",
      "\n",
      "    color: #000000;\n",
      "  }\n",
      "\n",
      "  div.content_section_text a:hover {\n",
      "    background-color: #000000;\n",
      "\n",
      "    color: #DCDFE6;\n",
      "  }\n",
      "\n",
      "  div.validator {\n",
      "  }\n",
      "    </style>\n",
      "  </head>\n",
      "  <body>\n",
      "    <div class=\"main_page\">\n",
      "      <div class=\"page_header floating_element\">\n",
      "        <img src=\"/icons/ubuntu-logo.png\" alt=\"Ubuntu Logo\" class=\"floating_element\"/>\n",
      "        <span class=\"floating_element\">\n",
      "          Apache2 Ubuntu Default Page\n",
      "        </span>\n",
      "      </div>\n",
      "<!--      <div class=\"table_of_contents floating_element\">\n",
      "        <div class=\"section_header section_header_grey\">\n",
      "          TABLE OF CONTENTS\n",
      "        </div>\n",
      "        <div class=\"table_of_contents_item floating_element\">\n",
      "          <a href=\"#about\">About</a>\n",
      "        </div>\n",
      "        <div class=\"table_of_contents_item floating_element\">\n",
      "          <a href=\"#changes\">Changes</a>\n",
      "        </div>\n",
      "        <div class=\"table_of_contents_item floating_element\">\n",
      "          <a href=\"#scope\">Scope</a>\n",
      "        </div>\n",
      "        <div class=\"table_of_contents_item floating_element\">\n",
      "          <a href=\"#files\">Config files</a>\n",
      "        </div>\n",
      "      </div>\n",
      "-->\n",
      "      <div class=\"content_section floating_element\">\n",
      "\n",
      "\n",
      "        <div class=\"section_header section_header_red\">\n",
      "          <div id=\"about\"></div>\n",
      "          It works!\n",
      "        </div>\n",
      "        <div class=\"content_section_text\">\n",
      "          <p>\n",
      "                This is the default welcome page used to test the correct \n",
      "                operation of the Apache2 server after installation on Ubuntu systems.\n",
      "                It is based on the equivalent page on Debian, from which the Ubuntu Apache\n",
      "                packaging is derived.\n",
      "                If you can read this page, it means that the Apache HTTP server installed at\n",
      "                this site is working properly. You should <b>replace this file</b> (located at\n",
      "                <tt>/var/www/html/index.html</tt>) before continuing to operate your HTTP server.\n",
      "          </p>\n",
      "\n",
      "\n",
      "          <p>\n",
      "                If you are a normal user of this web site and don't know what this page is\n",
      "                about, this probably means that the site is currently unavailable due to\n",
      "                maintenance.\n",
      "                If the problem persists, please contact the site's administrator.\n",
      "          </p>\n",
      "\n",
      "        </div>\n",
      "        <div class=\"section_header\">\n",
      "          <div id=\"changes\"></div>\n",
      "                Configuration Overview\n",
      "        </div>\n",
      "        <div class=\"content_section_text\">\n",
      "          <p>\n",
      "                Ubuntu's Apache2 default configuration is different from the\n",
      "                upstream default configuration, and split into several files optimized for\n",
      "                interaction with Ubuntu tools. The configuration system is\n",
      "                <b>fully documented in\n",
      "                /usr/share/doc/apache2/README.Debian.gz</b>. Refer to this for the full\n",
      "                documentation. Documentation for the web server itself can be\n",
      "                found by accessing the <a href=\"/manual\">manual</a> if the <tt>apache2-doc</tt>\n",
      "                package was installed on this server.\n",
      "\n",
      "          </p>\n",
      "          <p>\n",
      "                The configuration layout for an Apache2 web server installation on Ubuntu systems is as follows:\n",
      "          </p>\n",
      "          <pre>\n",
      "/etc/apache2/\n",
      "|-- apache2.conf\n",
      "|       `--  ports.conf\n",
      "|-- mods-enabled\n",
      "|       |-- *.load\n",
      "|       `-- *.conf\n",
      "|-- conf-enabled\n",
      "|       `-- *.conf\n",
      "|-- sites-enabled\n",
      "|       `-- *.conf\n",
      "          </pre>\n",
      "          <ul>\n",
      "                        <li>\n",
      "                           <tt>apache2.conf</tt> is the main configuration\n",
      "                           file. It puts the pieces together by including all remaining configuration\n",
      "                           files when starting up the web server.\n",
      "                        </li>\n",
      "\n",
      "                        <li>\n",
      "                           <tt>ports.conf</tt> is always included from the\n",
      "                           main configuration file. It is used to determine the listening ports for\n",
      "                           incoming connections, and this file can be customized anytime.\n",
      "                        </li>\n",
      "\n",
      "                        <li>\n",
      "                           Configuration files in the <tt>mods-enabled/</tt>,\n",
      "                           <tt>conf-enabled/</tt> and <tt>sites-enabled/</tt> directories contain\n",
      "                           particular configuration snippets which manage modules, global configuration\n",
      "                           fragments, or virtual host configurations, respectively.\n",
      "                        </li>\n",
      "\n",
      "                        <li>\n",
      "                           They are activated by symlinking available\n",
      "                           configuration files from their respective\n",
      "                           *-available/ counterparts. These should be managed\n",
      "                           by using our helpers\n",
      "                           <tt>\n",
      "                                a2enmod,\n",
      "                                a2dismod,\n",
      "                           </tt>\n",
      "                           <tt>\n",
      "                                a2ensite,\n",
      "                                a2dissite,\n",
      "                            </tt>\n",
      "                                and\n",
      "                           <tt>\n",
      "                                a2enconf,\n",
      "                                a2disconf\n",
      "                           </tt>. See their respective man pages for detailed information.\n",
      "                        </li>\n",
      "\n",
      "                        <li>\n",
      "                           The binary is called apache2. Due to the use of\n",
      "                           environment variables, in the default configuration, apache2 needs to be\n",
      "                           started/stopped with <tt>/etc/init.d/apache2</tt> or <tt>apache2ctl</tt>.\n",
      "                           <b>Calling <tt>/usr/bin/apache2</tt> directly will not work</b> with the\n",
      "                           default configuration.\n",
      "                        </li>\n",
      "          </ul>\n",
      "        </div>\n",
      "\n",
      "        <div class=\"section_header\">\n",
      "            <div id=\"docroot\"></div>\n",
      "                Document Roots\n",
      "        </div>\n",
      "\n",
      "        <div class=\"content_section_text\">\n",
      "            <p>\n",
      "                By default, Ubuntu does not allow access through the web browser to\n",
      "                <em>any</em> file apart of those located in <tt>/var/www</tt>,\n",
      "                <a href=\"http://httpd.apache.org/docs/2.4/mod/mod_userdir.html\" rel=\"nofollow\">public_html</a>\n",
      "                directories (when enabled) and <tt>/usr/share</tt> (for web\n",
      "                applications). If your site is using a web document root\n",
      "                located elsewhere (such as in <tt>/srv</tt>) you may need to whitelist your\n",
      "                document root directory in <tt>/etc/apache2/apache2.conf</tt>.\n",
      "            </p>\n",
      "            <p>\n",
      "                The default Ubuntu document root is <tt>/var/www/html</tt>. You\n",
      "                can make your own virtual hosts under /var/www. This is different\n",
      "                to previous releases which provides better security out of the box.\n",
      "            </p>\n",
      "        </div>\n",
      "\n",
      "        <div class=\"section_header\">\n",
      "          <div id=\"bugs\"></div>\n",
      "                Reporting Problems\n",
      "        </div>\n",
      "        <div class=\"content_section_text\">\n",
      "          <p>\n",
      "                Please use the <tt>ubuntu-bug</tt> tool to report bugs in the\n",
      "                Apache2 package with Ubuntu. However, check <a\n",
      "                href=\"https://bugs.launchpad.net/ubuntu/+source/apache2\"\n",
      "                rel=\"nofollow\">existing bug reports</a> before reporting a new bug.\n",
      "          </p>\n",
      "          <p>\n",
      "                Please report bugs specific to modules (such as PHP and others)\n",
      "                to respective packages, not to the web server itself.\n",
      "          </p>\n",
      "        </div>\n",
      "\n",
      "\n",
      "\n",
      "\n",
      "      </div>\n",
      "    </div>\n",
      "    <div class=\"validator\">\n",
      "    </div>\n",
      "  </body>\n",
      "</html>\n",
      "\n",
      "\n",
      "\n"
     ]
    }
   ],
   "source": [
    "stdin, stdout, stderr = client.exec_command('cat /var/www/html/index.html')\n",
    "print(stdout.read().decode(\"utf-8\"))\n",
    "print(stderr.read().decode(\"utf-8\"))"
   ]
  },
  {
   "cell_type": "markdown",
   "metadata": {},
   "source": [
    "## It's a nice long file, but let's delete it so that we host something that we want."
   ]
  },
  {
   "cell_type": "code",
   "execution_count": 36,
   "metadata": {},
   "outputs": [
    {
     "name": "stdout",
     "output_type": "stream",
     "text": [
      "\n",
      "rm: cannot remove '/var/www/html/index.html': Permission denied\n",
      "\n"
     ]
    }
   ],
   "source": [
    "stdin, stdout, stderr = client.exec_command('rm /var/www/html/index.html')\n",
    "print(stdout.read().decode(\"utf-8\"))\n",
    "print(stderr.read().decode(\"utf-8\"))"
   ]
  },
  {
   "cell_type": "code",
   "execution_count": 37,
   "metadata": {},
   "outputs": [
    {
     "name": "stdout",
     "output_type": "stream",
     "text": [
      "\n",
      "\n"
     ]
    }
   ],
   "source": [
    "stdin, stdout, stderr = client.exec_command('sudo rm /var/www/html/index.html')\n",
    "print(stdout.read().decode(\"utf-8\"))\n",
    "print(stderr.read().decode(\"utf-8\"))"
   ]
  },
  {
   "cell_type": "markdown",
   "metadata": {},
   "source": [
    "## Now we create the new file that we want to host."
   ]
  },
  {
   "cell_type": "code",
   "execution_count": 38,
   "metadata": {},
   "outputs": [
    {
     "name": "stdout",
     "output_type": "stream",
     "text": [
      "\n",
      "bash: /var/www/html/index.html: Permission denied\n",
      "\n"
     ]
    }
   ],
   "source": [
    "stdin, stdout, stderr = client.exec_command('echo \"This is my custom file that I want to host.\" > /var/www/html/index.html')\n",
    "print(stdout.read().decode(\"utf-8\"))\n",
    "print(stderr.read().decode(\"utf-8\"))"
   ]
  },
  {
   "cell_type": "code",
   "execution_count": 40,
   "metadata": {},
   "outputs": [
    {
     "name": "stdout",
     "output_type": "stream",
     "text": [
      "This is some text that I want to host.\n",
      "\n",
      "\n"
     ]
    }
   ],
   "source": [
    "stdin, stdout, stderr = client.exec_command('echo \"This is some text that I want to host.\" | sudo tee -a /var/www/html/index.html')\n",
    "print(stdout.read().decode(\"utf-8\"))\n",
    "print(stderr.read().decode(\"utf-8\"))"
   ]
  },
  {
   "cell_type": "markdown",
   "metadata": {},
   "source": [
    "## We're done. Let's check that the file is there one more time."
   ]
  },
  {
   "cell_type": "code",
   "execution_count": 41,
   "metadata": {},
   "outputs": [
    {
     "name": "stdout",
     "output_type": "stream",
     "text": [
      "This is some text that I want to host.\n",
      "\n",
      "\n"
     ]
    }
   ],
   "source": [
    "stdin, stdout, stderr = client.exec_command('cat /var/www/html/index.html')\n",
    "print(stdout.read().decode(\"utf-8\"))\n",
    "print(stderr.read().decode(\"utf-8\"))"
   ]
  },
  {
   "cell_type": "markdown",
   "metadata": {},
   "source": [
    "## Now we act as clients and request the the file with a get request."
   ]
  },
  {
   "cell_type": "code",
   "execution_count": 43,
   "metadata": {},
   "outputs": [
    {
     "name": "stdout",
     "output_type": "stream",
     "text": [
      "200\n",
      "b'This is some text that I want to host.\\n'\n"
     ]
    }
   ],
   "source": [
    "import requests\n",
    "\n",
    "x = requests.get('http://152.54.15.46')\n",
    "print(x.status_code)\n",
    "print(x.content)"
   ]
  },
  {
   "cell_type": "markdown",
   "metadata": {},
   "source": [
    "## So happy that this worked so quickly :D I thought I'm gonna face issues like, maybe, NATing issues. Happy it worked :D"
   ]
  },
  {
   "cell_type": "markdown",
   "metadata": {},
   "source": [
    "## Let's try something else. We're going to install an echo server and talk to it."
   ]
  },
  {
   "cell_type": "code",
   "execution_count": 45,
   "metadata": {},
   "outputs": [
    {
     "name": "stdout",
     "output_type": "stream",
     "text": [
      "Get:1 http://security.ubuntu.com/ubuntu focal-security InRelease [109 kB]\n",
      "Get:2 http://security.ubuntu.com/ubuntu focal-security/main amd64 Packages [575 kB]\n",
      "Get:3 http://security.ubuntu.com/ubuntu focal-security/main Translation-en [120 kB]\n",
      "Get:4 http://security.ubuntu.com/ubuntu focal-security/main amd64 c-n-f Metadata [7436 B]\n",
      "Get:5 http://security.ubuntu.com/ubuntu focal-security/restricted amd64 Packages [148 kB]\n",
      "Get:6 http://security.ubuntu.com/ubuntu focal-security/restricted Translation-en [21.6 kB]\n",
      "Get:7 http://security.ubuntu.com/ubuntu focal-security/universe amd64 Packages [550 kB]\n",
      "Get:8 http://security.ubuntu.com/ubuntu focal-security/universe Translation-en [81.2 kB]\n",
      "Get:9 http://security.ubuntu.com/ubuntu focal-security/universe amd64 c-n-f Metadata [10.7 kB]\n",
      "Get:10 http://security.ubuntu.com/ubuntu focal-security/multiverse amd64 Packages [14.8 kB]\n",
      "Get:11 http://security.ubuntu.com/ubuntu focal-security/multiverse Translation-en [3160 B]\n",
      "Get:12 http://security.ubuntu.com/ubuntu focal-security/multiverse amd64 c-n-f Metadata [340 B]\n",
      "Hit:13 http://nova.clouds.archive.ubuntu.com/ubuntu focal InRelease\n",
      "Get:14 http://nova.clouds.archive.ubuntu.com/ubuntu focal-updates InRelease [114 kB]\n",
      "Get:15 http://nova.clouds.archive.ubuntu.com/ubuntu focal-backports InRelease [101 kB]\n",
      "Get:16 http://nova.clouds.archive.ubuntu.com/ubuntu focal/universe amd64 Packages [8628 kB]\n",
      "Get:17 http://nova.clouds.archive.ubuntu.com/ubuntu focal/universe Translation-en [5124 kB]\n",
      "Get:18 http://nova.clouds.archive.ubuntu.com/ubuntu focal/universe amd64 c-n-f Metadata [265 kB]\n",
      "Get:19 http://nova.clouds.archive.ubuntu.com/ubuntu focal/multiverse amd64 Packages [144 kB]\n",
      "Get:20 http://nova.clouds.archive.ubuntu.com/ubuntu focal/multiverse Translation-en [104 kB]\n",
      "Get:21 http://nova.clouds.archive.ubuntu.com/ubuntu focal/multiverse amd64 c-n-f Metadata [9136 B]\n",
      "Get:22 http://nova.clouds.archive.ubuntu.com/ubuntu focal-updates/main amd64 Packages [894 kB]\n",
      "Get:23 http://nova.clouds.archive.ubuntu.com/ubuntu focal-updates/main Translation-en [209 kB]\n",
      "Get:24 http://nova.clouds.archive.ubuntu.com/ubuntu focal-updates/main amd64 c-n-f Metadata [13.0 kB]\n",
      "Get:25 http://nova.clouds.archive.ubuntu.com/ubuntu focal-updates/universe amd64 Packages [757 kB]\n",
      "Get:26 http://nova.clouds.archive.ubuntu.com/ubuntu focal-updates/universe Translation-en [160 kB]\n",
      "Get:27 http://nova.clouds.archive.ubuntu.com/ubuntu focal-updates/universe amd64 c-n-f Metadata [16.5 kB]\n",
      "Get:28 http://nova.clouds.archive.ubuntu.com/ubuntu focal-updates/multiverse amd64 Packages [21.6 kB]\n",
      "Get:29 http://nova.clouds.archive.ubuntu.com/ubuntu focal-updates/multiverse Translation-en [5508 B]\n",
      "Get:30 http://nova.clouds.archive.ubuntu.com/ubuntu focal-updates/multiverse amd64 c-n-f Metadata [596 B]\n",
      "Get:31 http://nova.clouds.archive.ubuntu.com/ubuntu focal-backports/main amd64 c-n-f Metadata [112 B]\n",
      "Get:32 http://nova.clouds.archive.ubuntu.com/ubuntu focal-backports/restricted amd64 c-n-f Metadata [116 B]\n",
      "Get:33 http://nova.clouds.archive.ubuntu.com/ubuntu focal-backports/universe amd64 Packages [4032 B]\n",
      "Get:34 http://nova.clouds.archive.ubuntu.com/ubuntu focal-backports/universe Translation-en [1448 B]\n",
      "Get:35 http://nova.clouds.archive.ubuntu.com/ubuntu focal-backports/universe amd64 c-n-f Metadata [224 B]\n",
      "Get:36 http://nova.clouds.archive.ubuntu.com/ubuntu focal-backports/multiverse amd64 c-n-f Metadata [116 B]\n",
      "Fetched 18.2 MB in 3s (5369 kB/s)\n",
      "Reading package lists...\n",
      "Building dependency tree...\n",
      "Reading state information...\n",
      "8 packages can be upgraded. Run 'apt list --upgradable' to see them.\n",
      "\n",
      "\n",
      "WARNING: apt does not have a stable CLI interface. Use with caution in scripts.\n",
      "\n",
      "\n"
     ]
    }
   ],
   "source": [
    "stdin, stdout, stderr = client.exec_command('sudo apt update')\n",
    "print(stdout.read().decode(\"utf-8\"))\n",
    "print(stderr.read().decode(\"utf-8\"))"
   ]
  },
  {
   "cell_type": "code",
   "execution_count": 47,
   "metadata": {},
   "outputs": [
    {
     "name": "stdout",
     "output_type": "stream",
     "text": [
      "Reading package lists...\n",
      "Building dependency tree...\n",
      "Reading state information...\n",
      "The following additional packages will be installed:\n",
      "  liblua5.3-0\n",
      "The following NEW packages will be installed:\n",
      "  liblua5.3-0 ncat\n",
      "0 upgraded, 2 newly installed, 0 to remove and 8 not upgraded.\n",
      "Need to get 223 kB of archives.\n",
      "After this operation, 778 kB of additional disk space will be used.\n",
      "Get:1 http://nova.clouds.archive.ubuntu.com/ubuntu focal/main amd64 liblua5.3-0 amd64 5.3.3-1.1ubuntu2 [116 kB]\n",
      "Get:2 http://nova.clouds.archive.ubuntu.com/ubuntu focal/universe amd64 ncat amd64 7.80+dfsg1-2build1 [107 kB]\n",
      "Fetched 223 kB in 0s (601 kB/s)\n",
      "Selecting previously unselected package liblua5.3-0:amd64.\n",
      "(Reading database ... 64166 files and directories currently installed.)\n",
      "Preparing to unpack .../liblua5.3-0_5.3.3-1.1ubuntu2_amd64.deb ...\n",
      "Unpacking liblua5.3-0:amd64 (5.3.3-1.1ubuntu2) ...\n",
      "Selecting previously unselected package ncat.\n",
      "Preparing to unpack .../ncat_7.80+dfsg1-2build1_amd64.deb ...\n",
      "Unpacking ncat (7.80+dfsg1-2build1) ...\n",
      "Setting up liblua5.3-0:amd64 (5.3.3-1.1ubuntu2) ...\n",
      "Setting up ncat (7.80+dfsg1-2build1) ...\n",
      "Processing triggers for man-db (2.9.1-1) ...\n",
      "Processing triggers for libc-bin (2.31-0ubuntu9.2) ...\n",
      "\n",
      "\n",
      "WARNING: apt does not have a stable CLI interface. Use with caution in scripts.\n",
      "\n",
      "debconf: unable to initialize frontend: Dialog\n",
      "debconf: (Dialog frontend will not work on a dumb terminal, an emacs shell buffer, or without a controlling terminal.)\n",
      "debconf: falling back to frontend: Readline\n",
      "debconf: unable to initialize frontend: Readline\n",
      "debconf: (This frontend requires a controlling tty.)\n",
      "debconf: falling back to frontend: Teletype\n",
      "dpkg-preconfigure: unable to re-open stdin: \n",
      "\n"
     ]
    }
   ],
   "source": [
    "stdin, stdout, stderr = client.exec_command('sudo apt -y install ncat')\n",
    "print(stdout.read().decode(\"utf-8\"))\n",
    "print(stderr.read().decode(\"utf-8\"))"
   ]
  },
  {
   "cell_type": "markdown",
   "metadata": {},
   "source": [
    "## This line runs a netcat echo server on port 5555."
   ]
  },
  {
   "cell_type": "code",
   "execution_count": 76,
   "metadata": {},
   "outputs": [
    {
     "name": "stdout",
     "output_type": "stream",
     "text": [
      "\n",
      "\n"
     ]
    }
   ],
   "source": [
    "stdin, stdout, stderr = client.exec_command(\"ncat -v -l -p 5555 -c 'while true; do read i && echo [echo] $i; done' > /dev/null 2>&1 &\")\n",
    "print(stdout.read().decode(\"utf-8\"))\n",
    "print(stderr.read().decode(\"utf-8\"))"
   ]
  },
  {
   "cell_type": "markdown",
   "metadata": {},
   "source": [
    "## Now again, we act as clients and connect to the netcat echo server. We speak some lines and hear the echoes."
   ]
  },
  {
   "cell_type": "code",
   "execution_count": 77,
   "metadata": {},
   "outputs": [
    {
     "name": "stdout",
     "output_type": "stream",
     "text": [
      "[echo] hello\n",
      "\n",
      "[echo] are you echoing?\n"
     ]
    }
   ],
   "source": [
    "import telnetlib\n",
    "\n",
    "HOST = \"152.54.15.46\"\n",
    "\n",
    "tn = telnetlib.Telnet(HOST, 5555)\n",
    "\n",
    "tn.write(b\"hello\\n\")\n",
    "print(tn.read_until(b\"hello\").decode(\"utf-8\"))\n",
    "tn.write(b\"are you echoing?\\n\")\n",
    "print(tn.read_until(b\"echoing?\").decode(\"utf-8\"))\n",
    "tn.close()"
   ]
  },
  {
   "cell_type": "markdown",
   "metadata": {},
   "source": [
    "## It's working :D That means that all the ports are publicly reachable I believe."
   ]
  },
  {
   "cell_type": "markdown",
   "metadata": {},
   "source": [
    "## Delete Slice"
   ]
  },
  {
   "cell_type": "code",
   "execution_count": 78,
   "metadata": {},
   "outputs": [
    {
     "name": "stdout",
     "output_type": "stream",
     "text": [
      "Response Status Status.FAILURE\n",
      "Response received (500)\n",
      "Reason: INTERNAL SERVER ERROR\n",
      "HTTP response headers: HTTPHeaderDict({'Server': 'nginx/1.19.8', 'Date': 'Sat, 03 Apr 2021 03:04:16 GMT', 'Content-Type': 'application/json', 'Content-Length': '56', 'Connection': 'keep-alive'})\n",
      "HTTP response body: \"Slice# 292cd925-4d95-41cd-90ca-c165e976473b not found\"\n",
      "\n",
      "\n"
     ]
    }
   ],
   "source": [
    "status, result = orchestrator_proxy.delete(token=fabric_id_token, slice_id=slice_id)\n",
    "\n",
    "print(\"Response Status {}\".format(status))\n",
    "print(\"Response received {}\".format(result))"
   ]
  },
  {
   "cell_type": "markdown",
   "metadata": {},
   "source": [
    "Hmmmm I can't delete the slice."
   ]
  },
  {
   "cell_type": "code",
   "execution_count": 79,
   "metadata": {},
   "outputs": [
    {
     "name": "stdout",
     "output_type": "stream",
     "text": [
      "Response Status Status.FAILURE\n",
      "Response received (500)\n",
      "Reason: INTERNAL SERVER ERROR\n",
      "HTTP response headers: HTTPHeaderDict({'Server': 'nginx/1.19.8', 'Date': 'Sat, 03 Apr 2021 03:05:21 GMT', 'Content-Type': 'application/json', 'Content-Length': '22', 'Connection': 'keep-alive'})\n",
      "HTTP response body: \"User# has no Slices\"\n",
      "\n",
      "\n"
     ]
    }
   ],
   "source": [
    "status, slice_obj = orchestrator_proxy.get_slice(token=fabric_id_token, slice_id=slice_id)\n",
    "\n",
    "print(\"Response Status {}\".format(status))\n",
    "print(\"Response received {}\".format(slice_obj))"
   ]
  },
  {
   "cell_type": "code",
   "execution_count": 80,
   "metadata": {},
   "outputs": [
    {
     "name": "stdout",
     "output_type": "stream",
     "text": [
      "Response Status Status.FAILURE\n",
      "Slices (500)\n",
      "Reason: INTERNAL SERVER ERROR\n",
      "HTTP response headers: HTTPHeaderDict({'Server': 'nginx/1.19.8', 'Date': 'Sat, 03 Apr 2021 03:06:11 GMT', 'Content-Type': 'application/json', 'Content-Length': '22', 'Connection': 'keep-alive'})\n",
      "HTTP response body: \"User# has no Slices\"\n",
      "\n",
      "\n"
     ]
    }
   ],
   "source": [
    "status, slices = orchestrator_proxy.slices(token=fabric_id_token)\n",
    "\n",
    "print(\"Response Status {}\".format(status))\n",
    "print(\"Slices {}\".format(slices))"
   ]
  },
  {
   "cell_type": "code",
   "execution_count": 81,
   "metadata": {},
   "outputs": [
    {
     "name": "stdout",
     "output_type": "stream",
     "text": [
      "New Tokens received: {\"id_token\": \"eyJ0eXAiOiJKV1QiLCJhbGciOiJSUzI1NiIsImtpZCI6ImI0MTUxNjcyMTExOTFlMmUwNWIyMmI1NGIxZDNiNzY2N2U3NjRhNzQ3NzIyMTg1ZTcyMmU1MmUxNDZmZTQzYWEifQ.eyJlbWFpbCI6Im1pbmF3bUBidS5lZHUiLCJjZXJ0X3N1YmplY3RfZG4iOiIvREM9b3JnL0RDPWNpbG9nb24vQz1VUy9PPUJvc3RvbiBVbml2ZXJzaXR5L0NOPU1pbmEgV2lsbGlhbSBNb3Jjb3MgQjQxMzUwNzg3IiwiaWRwIjoiaHR0cHM6Ly9zaGliLmJ1LmVkdS9pZHAvc2hpYmJvbGV0aCIsImlkcF9uYW1lIjoiQm9zdG9uIFVuaXZlcnNpdHkiLCJlcHBuIjoibWluYXdtQGJ1LmVkdSIsImVwdGlkIjoiaHR0cHM6Ly9zaGliLmJ1LmVkdS9pZHAvc2hpYmJvbGV0aCFodHRwczovL2NpbG9nb24ub3JnL3NoaWJib2xldGghUmZSTTBqUWdkYWJHbWFNZmRkRUVZZVlHRTJzPSIsImFmZmlsaWF0aW9uIjoic3R1ZGVudEBidS5lZHU7bWVtYmVyQGJ1LmVkdSIsIm5hbWUiOiJNaW5hIFdpbGxpYW0gTW9yY29zIiwiYWNyIjoiaHR0cHM6Ly9zaGliLmJ1LmVkdS9zaW5nbGUiLCJlbnRpdGxlbWVudCI6Imh0dHA6Ly9pYW0uYnUuZWR1L2lkaW5mby84MDtodHRwOi8vaWFtLmJ1LmVkdS9tZW1iZXIvY2FzO2h0dHA6Ly9pYW0uYnUuZWR1L3JlZy9jb2xsZWdlL2dycztodHRwOi8vaWFtLmJ1LmVkdS9yZWcvY29sbGVnZS9jYXMiLCJpc3MiOiJodHRwczovL2NpbG9nb24ub3JnIiwic3ViIjoiaHR0cDovL2NpbG9nb24ub3JnL3NlcnZlckIvdXNlcnMvNDEzNTA3ODciLCJhdWQiOiJjaWxvZ29uOi9jbGllbnRfaWQvMWYxMWY4MjllYzFmNGYyMjMzNThmNDNiMmM2MDdiODQiLCJ0b2tlbl9pZCI6Imh0dHBzOi8vY2lsb2dvbi5vcmcvb2F1dGgyL2lkVG9rZW4vMWFhNDBlNGFjYTA5MzdiMjY2MjExYzRhMDU5MmNkYzMvMTYxNzQwODg0MzE3OCIsImF1dGhfdGltZSI6IjE2MTc0MDg4NDIiLCJleHAiOjE2MTc0MjI5MjIsImlhdCI6MTYxNzQxOTMyMiwicHJvamVjdHMiOnsiU3R1ZGVudCBUZXN0aW5nIjpbImdwdSIsInBlZXJpbmciLCJzdHVkZW50cyJdfSwicm9sZXMiOlsiZmFicmljLWFjdGl2ZS11c2VycyIsImUzZDVkMzcyLTdiMzAtNDZhNS05YjU5LTM5YTFlYzQwNjYwZS1wbSJdLCJzY29wZSI6ImFsbCJ9.NR3ADFZMZSRvdKjvZsp7P3sCpAebioHlAltBXIzWbbji2po6sf-fNqbIODGc7Wi2pAMNTKwUon3cMPqunEGCnBT6XoUxSmsDYRQflmekS5ulPDR6Wd8tzcleOc0iuOg8taRJrg_DbNnU0izIEBtmqdigOAnAj3VgauqZNJy3C2XA9D9w_FdXM9MDKcNpQYTx1FJO8AmdSWpRRhSkSbkV3uuA_eAgFp0nbUmcQc12fKn_oGcp4UUGgDCLvewE6HiEUMMlZyOlPKnGwx8rwCaiIiPOtTh4OB2jTkLVNS_ZvlLe6513xwOo8u1YF6UN3_8kHXWyZ1Kbu4UFF91-Oblf0XSgXIauihRfK7FqRbD2bRMDHZl0UyYpYclEa7tvRuFg9LiRLxq7nvbiz2JGbkBe5bjVC-_Zh63JOAQ7HgJcxY2Ssp8suNvJC7utYlNGPTXoRohNIO_e-MkOyP5CoGgm4diPKeeDch15eMQ-vmgPTyK_t_vIE6Fcuk6KviOE-2dwBP02pfgsZ_5guGNN7ccVm3w0Gh6fNaCS2JF0Tb7vOBn22kWwoz4deRTtlzVghDyVHMIxzv41O4hLhfuNw0j2zJOrMicdNAikJjLxAh-7-9UwyUPF59UsBMbYvocRSXpkRttxFfiXwzTfye-7Yd5CuczSj6jy2nOn_zm-CR7GePA\", \"refresh_token\": \"https://cilogon.org/oauth2/refreshToken/16588429254493e03bfad62361daf6d3/1617419321396\"}\n",
      "\n",
      "New Refresh Token: https://cilogon.org/oauth2/refreshToken/16588429254493e03bfad62361daf6d3/1617419321396\n",
      "\n",
      "Stored new Refresh Token\n",
      "Stored 'fabric_refresh_token' (str)\n"
     ]
    }
   ],
   "source": [
    "try:\n",
    "    refresh_res = credmgr_proxy.refresh(project_name='all', scope='all', refresh_token=fabric_refresh_token)\n",
    "    print(\"New Tokens received: {}\".format(json.dumps(refresh_res)))\n",
    "    fabric_id_token=refresh_res['id_token']\n",
    "    fabric_refresh_token=refresh_res['refresh_token']\n",
    "    print()\n",
    "    print(\"New Refresh Token: {}\".format(fabric_refresh_token))\n",
    "    print()\n",
    "    print(\"Stored new Refresh Token\")\n",
    "    %store fabric_refresh_token\n",
    "except Exception as e:\n",
    "    print(\"Exception occurred while getting tokens:{}\".format(e))"
   ]
  },
  {
   "cell_type": "code",
   "execution_count": 82,
   "metadata": {},
   "outputs": [
    {
     "name": "stdout",
     "output_type": "stream",
     "text": [
      "Response Status Status.OK\n",
      "Slices [{\n",
      "    \"graph_id\": \"5943902f-f6f9-4dc9-8b78-2b0fea56e151\",\n",
      "    \"slice_id\": \"292cd925-4d95-41cd-90ca-c165e976473b\",\n",
      "    \"slice_name\": \"JupyterSlice2\",\n",
      "    \"slice_state\": \"StableOK\"\n",
      "}]\n"
     ]
    }
   ],
   "source": [
    "status, slices = orchestrator_proxy.slices(token=fabric_id_token)\n",
    "\n",
    "print(\"Response Status {}\".format(status))\n",
    "print(\"Slices {}\".format(slices))"
   ]
  },
  {
   "cell_type": "code",
   "execution_count": 83,
   "metadata": {},
   "outputs": [
    {
     "name": "stdout",
     "output_type": "stream",
     "text": [
      "Response Status Status.OK\n",
      "Response received {'value': None}\n"
     ]
    }
   ],
   "source": [
    "status, result = orchestrator_proxy.delete(token=fabric_id_token, slice_id=slice_id)\n",
    "\n",
    "print(\"Response Status {}\".format(status))\n",
    "print(\"Response received {}\".format(result))"
   ]
  },
  {
   "cell_type": "code",
   "execution_count": 84,
   "metadata": {},
   "outputs": [
    {
     "name": "stdout",
     "output_type": "stream",
     "text": [
      "Response Status Status.OK\n",
      "Slices []\n"
     ]
    }
   ],
   "source": [
    "status, slices = orchestrator_proxy.slices(token=fabric_id_token)\n",
    "\n",
    "print(\"Response Status {}\".format(status))\n",
    "print(\"Slices {}\".format(slices))"
   ]
  }
 ],
 "metadata": {
  "kernelspec": {
   "display_name": "Python 3",
   "language": "python",
   "name": "python3"
  },
  "language_info": {
   "codemirror_mode": {
    "name": "ipython",
    "version": 3
   },
   "file_extension": ".py",
   "mimetype": "text/x-python",
   "name": "python",
   "nbconvert_exporter": "python",
   "pygments_lexer": "ipython3",
   "version": "3.8.6"
  }
 },
 "nbformat": 4,
 "nbformat_minor": 4
}
