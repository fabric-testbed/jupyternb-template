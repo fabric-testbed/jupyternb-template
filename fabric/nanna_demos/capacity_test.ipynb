{
 "cells": [
  {
   "cell_type": "markdown",
   "id": "fa6c860a-d7d8-4375-87e3-4718a5a3cc94",
   "metadata": {
    "jupyter": {
     "source_hidden": true
    },
    "tags": []
   },
   "source": [
    "# First Jupyter Notebook - Looking at capacity feature"
   ]
  },
  {
   "cell_type": "code",
   "execution_count": 7,
   "id": "32d5217e-b627-4f41-94ba-4fae82d6c305",
   "metadata": {
    "tags": []
   },
   "outputs": [
    {
     "name": "stdout",
     "output_type": "stream",
     "text": [
      "Help on class Capacities in module fim.slivers.capacities_labels:\n",
      "\n",
      "class Capacities(JSONField)\n",
      " |  Implements basic capacity field handling - encoding and decoding\n",
      " |  from JSON dictionaries of properties\n",
      " |  \n",
      " |  Method resolution order:\n",
      " |      Capacities\n",
      " |      JSONField\n",
      " |      abc.ABC\n",
      " |      builtins.object\n",
      " |  \n",
      " |  Methods defined here:\n",
      " |  \n",
      " |  __add__(self, other)\n",
      " |  \n",
      " |  __init__(self)\n",
      " |      Initialize self.  See help(type(self)) for accurate signature.\n",
      " |  \n",
      " |  __str__(self)\n",
      " |      Return str(self).\n",
      " |  \n",
      " |  __sub__(self, other)\n",
      " |  \n",
      " |  negative_fields(self) -> List[str]\n",
      " |      returns list of fields that are negative\n",
      " |      :return:\n",
      " |  \n",
      " |  positive_fields(self, fields: List[str]) -> bool\n",
      " |      Return true if indicated fields are positive >0\n",
      " |      :param fields:\n",
      " |      :return:\n",
      " |  \n",
      " |  set_fields(self, **kwargs)\n",
      " |      Universal integer setter for all fields.\n",
      " |      Values should be non-negative integers. Throws a CapacityException\n",
      " |      if you try to set a non-existent field.\n",
      " |      :param kwargs:\n",
      " |      :return: self to support call chaining\n",
      " |  \n",
      " |  ----------------------------------------------------------------------\n",
      " |  Data and other attributes defined here:\n",
      " |  \n",
      " |  UNITS = {'bw': 'G', 'core': '', 'cpu': '', 'disk': 'G', 'ram': 'G', 'u...\n",
      " |  \n",
      " |  __abstractmethods__ = frozenset()\n",
      " |  \n",
      " |  ----------------------------------------------------------------------\n",
      " |  Methods inherited from JSONField:\n",
      " |  \n",
      " |  __repr__(self)\n",
      " |      Return repr(self).\n",
      " |  \n",
      " |  from_json(self, json_string: str)\n",
      " |      Set fields from json string (if string is none or empty,\n",
      " |      nothing happens)\n",
      " |      :param json_string:\n",
      " |      :return: self for call chaining\n",
      " |  \n",
      " |  list_fields(self)\n",
      " |  \n",
      " |  to_dict(self) -> Dict[str, str]\n",
      " |      Convert to a dictionary skipping empty fields. Returns None\n",
      " |      if all fields are empty\n",
      " |      :return:\n",
      " |  \n",
      " |  to_json(self) -> str\n",
      " |      Dumps to JSON the __dict__ of the instance. Be careful as the fields in this\n",
      " |      class should only be those that can be present in JSON output.\n",
      " |      If there are no values in the object, returns empty string.\n",
      " |      :return:\n",
      " |  \n",
      " |  ----------------------------------------------------------------------\n",
      " |  Data descriptors inherited from JSONField:\n",
      " |  \n",
      " |  __dict__\n",
      " |      dictionary for instance variables (if defined)\n",
      " |  \n",
      " |  __weakref__\n",
      " |      list of weak references to the object (if defined)\n",
      "\n"
     ]
    }
   ],
   "source": [
    "from fabrictestbed.slice_editor import Capacities\n",
    "help(Capacities)\n",
    "#Capacities(core=2, ram=16, disk=100) -- not possible"
   ]
  },
  {
   "cell_type": "code",
   "execution_count": null,
   "id": "e86d8a4c-7976-407a-9f7d-8fb06fae5496",
   "metadata": {
    "tags": []
   },
   "outputs": [],
   "source": [
    "node2.set_properties(capacities=Capacities(core=4, ram=32, disk=200), image_type='qcow2', image_ref='default_ubuntu_20')"
   ]
  },
  {
   "cell_type": "code",
   "execution_count": null,
   "id": "dd5d4195-f354-4d19-9cc5-e846e31ed6ad",
   "metadata": {},
   "outputs": [],
   "source": []
  }
 ],
 "metadata": {
  "kernelspec": {
   "display_name": "Python 3",
   "language": "python",
   "name": "python3"
  },
  "language_info": {
   "codemirror_mode": {
    "name": "ipython",
    "version": 3
   },
   "file_extension": ".py",
   "mimetype": "text/x-python",
   "name": "python",
   "nbconvert_exporter": "python",
   "pygments_lexer": "ipython3",
   "version": "3.8.8"
  }
 },
 "nbformat": 4,
 "nbformat_minor": 5
}
